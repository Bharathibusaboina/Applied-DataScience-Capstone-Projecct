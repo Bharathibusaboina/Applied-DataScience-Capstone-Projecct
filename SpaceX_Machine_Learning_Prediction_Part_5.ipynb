{
  "nbformat": 4,
  "nbformat_minor": 0,
  "metadata": {
    "kernelspec": {
      "display_name": "Python 3",
      "language": "python",
      "name": "python3"
    },
    "language_info": {
      "codemirror_mode": {
        "name": "ipython",
        "version": 3
      },
      "file_extension": ".py",
      "mimetype": "text/x-python",
      "name": "python",
      "nbconvert_exporter": "python",
      "pygments_lexer": "ipython3",
      "version": "3.6.12"
    },
    "colab": {
      "name": "SpaceX_Machine Learning Prediction_Part_5 (1).ipynb",
      "provenance": [],
      "collapsed_sections": [
        "BInndcBykWm1",
        "YYxVAa4tkWm1"
      ]
    }
  },
  "cells": [
    {
      "cell_type": "markdown",
      "metadata": {
        "id": "iLkebas7kWmO"
      },
      "source": [
        "<center>\n",
        "    <img src=\"https://gitlab.com/ibm/skills-network/courses/placeholder101/-/raw/master/labs/module%201/images/IDSNlogo.png\" width=\"300\" alt=\"cognitiveclass.ai logo\"  />\n",
        "</center>\n"
      ]
    },
    {
      "cell_type": "markdown",
      "metadata": {
        "id": "BSYysf56kWmW"
      },
      "source": [
        "# **Space X  Falcon 9 First Stage Landing Prediction**\n"
      ]
    },
    {
      "cell_type": "markdown",
      "metadata": {
        "id": "uiHfPR_OkWmY"
      },
      "source": [
        "## Assignment:  Machine Learning Prediction\n"
      ]
    },
    {
      "cell_type": "markdown",
      "metadata": {
        "id": "VsiTVmZtkWmZ"
      },
      "source": [
        "Estimated time needed: **60** minutes\n"
      ]
    },
    {
      "cell_type": "markdown",
      "metadata": {
        "id": "DCFam-81kWma"
      },
      "source": [
        "Space X advertises Falcon 9 rocket launches on its website with a cost of 62 million dollars; other providers cost upward of 165 million dollars each, much of the savings is because Space X can reuse the first stage. Therefore if we can determine if the first stage will land, we can determine the cost of a launch. This information can be used if an alternate company wants to bid against space X for a rocket launch.   In this lab, you will create a machine learning pipeline  to predict if the first stage will land given the data from the preceding labs.\n"
      ]
    },
    {
      "cell_type": "markdown",
      "metadata": {
        "id": "kHVT5Z80kWmb"
      },
      "source": [
        "![](https://cf-courses-data.s3.us.cloud-object-storage.appdomain.cloud/IBMDeveloperSkillsNetwork-DS0701EN-SkillsNetwork/api/Images/landing\\_1.gif)\n"
      ]
    },
    {
      "cell_type": "markdown",
      "metadata": {
        "id": "2l4B1GyOkWmc"
      },
      "source": [
        "Several examples of an unsuccessful landing are shown here:\n"
      ]
    },
    {
      "cell_type": "markdown",
      "metadata": {
        "id": "VHaGxSv8kWmd"
      },
      "source": [
        "![](https://cf-courses-data.s3.us.cloud-object-storage.appdomain.cloud/IBMDeveloperSkillsNetwork-DS0701EN-SkillsNetwork/api/Images/crash.gif)\n"
      ]
    },
    {
      "cell_type": "markdown",
      "metadata": {
        "id": "Bsr7VI_RkWme"
      },
      "source": [
        "Most unsuccessful landings are planed. Space X; performs a controlled landing in the oceans.\n"
      ]
    },
    {
      "cell_type": "markdown",
      "metadata": {
        "id": "FGaEXKqykWmg"
      },
      "source": [
        "## Objectives\n"
      ]
    },
    {
      "cell_type": "markdown",
      "metadata": {
        "id": "nHu8lpHNkWmg"
      },
      "source": [
        "Perform exploratory  Data Analysis and determine Training Labels\n",
        "\n",
        "*   create a column for the class\n",
        "*   Standardize the data\n",
        "*   Split into training data and test data\n",
        "\n",
        "\\-Find best Hyperparameter for SVM, Classification Trees and Logistic Regression\n",
        "\n",
        "*   Find the method performs best using test data\n"
      ]
    },
    {
      "cell_type": "markdown",
      "metadata": {
        "id": "zzrLNk71kWmh"
      },
      "source": [
        ""
      ]
    },
    {
      "cell_type": "markdown",
      "metadata": {
        "id": "Kq7f_ZsmkWmi"
      },
      "source": [
        "***\n"
      ]
    },
    {
      "cell_type": "markdown",
      "metadata": {
        "id": "VqLcfPgMkWmi"
      },
      "source": [
        "## Import Libraries and Define Auxiliary Functions\n"
      ]
    },
    {
      "cell_type": "markdown",
      "metadata": {
        "id": "wvhHiJxykWmi"
      },
      "source": [
        "We will import the following libraries for the lab\n"
      ]
    },
    {
      "cell_type": "code",
      "metadata": {
        "id": "dC5tI_UkkWmj"
      },
      "source": [
        "# Pandas is a software library written for the Python programming language for data manipulation and analysis.\n",
        "import pandas as pd\n",
        "# NumPy is a library for the Python programming language, adding support for large, multi-dimensional arrays and matrices, along with a large collection of high-level mathematical functions to operate on these arrays\n",
        "import numpy as np\n",
        "# Matplotlib is a plotting library for python and pyplot gives us a MatLab like plotting framework. We will use this in our plotter function to plot data.\n",
        "import matplotlib.pyplot as plt\n",
        "#Seaborn is a Python data visualization library based on matplotlib. It provides a high-level interface for drawing attractive and informative statistical graphics\n",
        "import seaborn as sns\n",
        "# Preprocessing allows us to standarsize our data\n",
        "from sklearn import preprocessing\n",
        "# Allows us to split our data into training and testing data\n",
        "from sklearn.model_selection import train_test_split\n",
        "# Allows us to test parameters of classification algorithms and find the best one\n",
        "from sklearn.model_selection import GridSearchCV\n",
        "# Logistic Regression classification algorithm\n",
        "from sklearn.linear_model import LogisticRegression\n",
        "# Support Vector Machine classification algorithm\n",
        "from sklearn.svm import SVC\n",
        "# Decision Tree classification algorithm\n",
        "from sklearn.tree import DecisionTreeClassifier\n",
        "# K Nearest Neighbors classification algorithm\n",
        "from sklearn.neighbors import KNeighborsClassifier"
      ],
      "execution_count": 90,
      "outputs": []
    },
    {
      "cell_type": "markdown",
      "metadata": {
        "id": "eGPV-93QkWml"
      },
      "source": [
        "This function is to plot the confusion matrix.\n"
      ]
    },
    {
      "cell_type": "code",
      "metadata": {
        "id": "beZ4KoJ1kWml"
      },
      "source": [
        "def plot_confusion_matrix(y,y_predict):\n",
        "    \"this function plots the confusion matrix\"\n",
        "    from sklearn.metrics import confusion_matrix\n",
        "\n",
        "    cm = confusion_matrix(y, y_predict)\n",
        "    ax= plt.subplot()\n",
        "    sns.heatmap(cm, annot=True, ax = ax); #annot=True to annotate cells\n",
        "    ax.set_xlabel('Predicted labels')\n",
        "    ax.set_ylabel('True labels')\n",
        "    ax.set_title('Confusion Matrix'); \n",
        "    ax.xaxis.set_ticklabels(['did not land', 'land']); ax.yaxis.set_ticklabels(['did not land', 'landed'])"
      ],
      "execution_count": 4,
      "outputs": []
    },
    {
      "cell_type": "markdown",
      "metadata": {
        "id": "XFK9dqOTkWml"
      },
      "source": [
        "## Load the dataframe\n"
      ]
    },
    {
      "cell_type": "markdown",
      "metadata": {
        "id": "SXQidiHqkWmm"
      },
      "source": [
        "Load the data\n"
      ]
    },
    {
      "cell_type": "code",
      "metadata": {
        "id": "lRpTfocfkWmm",
        "colab": {
          "base_uri": "https://localhost:8080/",
          "height": 309
        },
        "outputId": "82f85c5e-87ea-4d90-cafc-cc9ddd84bc84"
      },
      "source": [
        "data = pd.read_csv(\"https://cf-courses-data.s3.us.cloud-object-storage.appdomain.cloud/IBM-DS0321EN-SkillsNetwork/datasets/dataset_part_2.csv\")\n",
        "\n",
        "# If you were unable to complete the previous lab correctly you can uncomment and load this csv\n",
        "\n",
        "# data = pd.read_csv('https://cf-courses-data.s3.us.cloud-object-storage.appdomain.cloud/IBMDeveloperSkillsNetwork-DS0701EN-SkillsNetwork/api/dataset_part_2.csv')\n",
        "\n",
        "data.head()"
      ],
      "execution_count": 5,
      "outputs": [
        {
          "output_type": "execute_result",
          "data": {
            "text/html": [
              "<div>\n",
              "<style scoped>\n",
              "    .dataframe tbody tr th:only-of-type {\n",
              "        vertical-align: middle;\n",
              "    }\n",
              "\n",
              "    .dataframe tbody tr th {\n",
              "        vertical-align: top;\n",
              "    }\n",
              "\n",
              "    .dataframe thead th {\n",
              "        text-align: right;\n",
              "    }\n",
              "</style>\n",
              "<table border=\"1\" class=\"dataframe\">\n",
              "  <thead>\n",
              "    <tr style=\"text-align: right;\">\n",
              "      <th></th>\n",
              "      <th>FlightNumber</th>\n",
              "      <th>Date</th>\n",
              "      <th>BoosterVersion</th>\n",
              "      <th>PayloadMass</th>\n",
              "      <th>Orbit</th>\n",
              "      <th>LaunchSite</th>\n",
              "      <th>Outcome</th>\n",
              "      <th>Flights</th>\n",
              "      <th>GridFins</th>\n",
              "      <th>Reused</th>\n",
              "      <th>Legs</th>\n",
              "      <th>LandingPad</th>\n",
              "      <th>Block</th>\n",
              "      <th>ReusedCount</th>\n",
              "      <th>Serial</th>\n",
              "      <th>Longitude</th>\n",
              "      <th>Latitude</th>\n",
              "      <th>Class</th>\n",
              "    </tr>\n",
              "  </thead>\n",
              "  <tbody>\n",
              "    <tr>\n",
              "      <th>0</th>\n",
              "      <td>1</td>\n",
              "      <td>2010-06-04</td>\n",
              "      <td>Falcon 9</td>\n",
              "      <td>6104.959412</td>\n",
              "      <td>LEO</td>\n",
              "      <td>CCAFS SLC 40</td>\n",
              "      <td>None None</td>\n",
              "      <td>1</td>\n",
              "      <td>False</td>\n",
              "      <td>False</td>\n",
              "      <td>False</td>\n",
              "      <td>NaN</td>\n",
              "      <td>1.0</td>\n",
              "      <td>0</td>\n",
              "      <td>B0003</td>\n",
              "      <td>-80.577366</td>\n",
              "      <td>28.561857</td>\n",
              "      <td>0</td>\n",
              "    </tr>\n",
              "    <tr>\n",
              "      <th>1</th>\n",
              "      <td>2</td>\n",
              "      <td>2012-05-22</td>\n",
              "      <td>Falcon 9</td>\n",
              "      <td>525.000000</td>\n",
              "      <td>LEO</td>\n",
              "      <td>CCAFS SLC 40</td>\n",
              "      <td>None None</td>\n",
              "      <td>1</td>\n",
              "      <td>False</td>\n",
              "      <td>False</td>\n",
              "      <td>False</td>\n",
              "      <td>NaN</td>\n",
              "      <td>1.0</td>\n",
              "      <td>0</td>\n",
              "      <td>B0005</td>\n",
              "      <td>-80.577366</td>\n",
              "      <td>28.561857</td>\n",
              "      <td>0</td>\n",
              "    </tr>\n",
              "    <tr>\n",
              "      <th>2</th>\n",
              "      <td>3</td>\n",
              "      <td>2013-03-01</td>\n",
              "      <td>Falcon 9</td>\n",
              "      <td>677.000000</td>\n",
              "      <td>ISS</td>\n",
              "      <td>CCAFS SLC 40</td>\n",
              "      <td>None None</td>\n",
              "      <td>1</td>\n",
              "      <td>False</td>\n",
              "      <td>False</td>\n",
              "      <td>False</td>\n",
              "      <td>NaN</td>\n",
              "      <td>1.0</td>\n",
              "      <td>0</td>\n",
              "      <td>B0007</td>\n",
              "      <td>-80.577366</td>\n",
              "      <td>28.561857</td>\n",
              "      <td>0</td>\n",
              "    </tr>\n",
              "    <tr>\n",
              "      <th>3</th>\n",
              "      <td>4</td>\n",
              "      <td>2013-09-29</td>\n",
              "      <td>Falcon 9</td>\n",
              "      <td>500.000000</td>\n",
              "      <td>PO</td>\n",
              "      <td>VAFB SLC 4E</td>\n",
              "      <td>False Ocean</td>\n",
              "      <td>1</td>\n",
              "      <td>False</td>\n",
              "      <td>False</td>\n",
              "      <td>False</td>\n",
              "      <td>NaN</td>\n",
              "      <td>1.0</td>\n",
              "      <td>0</td>\n",
              "      <td>B1003</td>\n",
              "      <td>-120.610829</td>\n",
              "      <td>34.632093</td>\n",
              "      <td>0</td>\n",
              "    </tr>\n",
              "    <tr>\n",
              "      <th>4</th>\n",
              "      <td>5</td>\n",
              "      <td>2013-12-03</td>\n",
              "      <td>Falcon 9</td>\n",
              "      <td>3170.000000</td>\n",
              "      <td>GTO</td>\n",
              "      <td>CCAFS SLC 40</td>\n",
              "      <td>None None</td>\n",
              "      <td>1</td>\n",
              "      <td>False</td>\n",
              "      <td>False</td>\n",
              "      <td>False</td>\n",
              "      <td>NaN</td>\n",
              "      <td>1.0</td>\n",
              "      <td>0</td>\n",
              "      <td>B1004</td>\n",
              "      <td>-80.577366</td>\n",
              "      <td>28.561857</td>\n",
              "      <td>0</td>\n",
              "    </tr>\n",
              "  </tbody>\n",
              "</table>\n",
              "</div>"
            ],
            "text/plain": [
              "   FlightNumber        Date BoosterVersion  ...   Longitude   Latitude Class\n",
              "0             1  2010-06-04       Falcon 9  ...  -80.577366  28.561857     0\n",
              "1             2  2012-05-22       Falcon 9  ...  -80.577366  28.561857     0\n",
              "2             3  2013-03-01       Falcon 9  ...  -80.577366  28.561857     0\n",
              "3             4  2013-09-29       Falcon 9  ... -120.610829  34.632093     0\n",
              "4             5  2013-12-03       Falcon 9  ...  -80.577366  28.561857     0\n",
              "\n",
              "[5 rows x 18 columns]"
            ]
          },
          "metadata": {},
          "execution_count": 5
        }
      ]
    },
    {
      "cell_type": "code",
      "metadata": {
        "id": "OUDH0XMAkWmm",
        "colab": {
          "base_uri": "https://localhost:8080/",
          "height": 270
        },
        "outputId": "d01e78b4-fdf4-498f-f3ef-fdfeaaa6a2ff"
      },
      "source": [
        "X = pd.read_csv('https://cf-courses-data.s3.us.cloud-object-storage.appdomain.cloud/IBM-DS0321EN-SkillsNetwork/datasets/dataset_part_3.csv')\n",
        "\n",
        "# If you were unable to complete the previous lab correctly you can uncomment and load this csv\n",
        "\n",
        "X = pd.read_csv('https://cf-courses-data.s3.us.cloud-object-storage.appdomain.cloud/IBMDeveloperSkillsNetwork-DS0701EN-SkillsNetwork/api/dataset_part_3.csv')\n",
        "\n",
        "X.head()"
      ],
      "execution_count": 6,
      "outputs": [
        {
          "output_type": "execute_result",
          "data": {
            "text/html": [
              "<div>\n",
              "<style scoped>\n",
              "    .dataframe tbody tr th:only-of-type {\n",
              "        vertical-align: middle;\n",
              "    }\n",
              "\n",
              "    .dataframe tbody tr th {\n",
              "        vertical-align: top;\n",
              "    }\n",
              "\n",
              "    .dataframe thead th {\n",
              "        text-align: right;\n",
              "    }\n",
              "</style>\n",
              "<table border=\"1\" class=\"dataframe\">\n",
              "  <thead>\n",
              "    <tr style=\"text-align: right;\">\n",
              "      <th></th>\n",
              "      <th>FlightNumber</th>\n",
              "      <th>PayloadMass</th>\n",
              "      <th>Flights</th>\n",
              "      <th>Block</th>\n",
              "      <th>ReusedCount</th>\n",
              "      <th>Orbit_ES-L1</th>\n",
              "      <th>Orbit_GEO</th>\n",
              "      <th>Orbit_GTO</th>\n",
              "      <th>Orbit_HEO</th>\n",
              "      <th>Orbit_ISS</th>\n",
              "      <th>Orbit_LEO</th>\n",
              "      <th>Orbit_MEO</th>\n",
              "      <th>Orbit_PO</th>\n",
              "      <th>Orbit_SO</th>\n",
              "      <th>Orbit_SSO</th>\n",
              "      <th>Orbit_VLEO</th>\n",
              "      <th>LaunchSite_CCAFS SLC 40</th>\n",
              "      <th>LaunchSite_KSC LC 39A</th>\n",
              "      <th>LaunchSite_VAFB SLC 4E</th>\n",
              "      <th>LandingPad_5e9e3032383ecb267a34e7c7</th>\n",
              "      <th>LandingPad_5e9e3032383ecb554034e7c9</th>\n",
              "      <th>LandingPad_5e9e3032383ecb6bb234e7ca</th>\n",
              "      <th>LandingPad_5e9e3032383ecb761634e7cb</th>\n",
              "      <th>LandingPad_5e9e3033383ecbb9e534e7cc</th>\n",
              "      <th>Serial_B0003</th>\n",
              "      <th>Serial_B0005</th>\n",
              "      <th>Serial_B0007</th>\n",
              "      <th>Serial_B1003</th>\n",
              "      <th>Serial_B1004</th>\n",
              "      <th>Serial_B1005</th>\n",
              "      <th>Serial_B1006</th>\n",
              "      <th>Serial_B1007</th>\n",
              "      <th>Serial_B1008</th>\n",
              "      <th>Serial_B1010</th>\n",
              "      <th>Serial_B1011</th>\n",
              "      <th>Serial_B1012</th>\n",
              "      <th>Serial_B1013</th>\n",
              "      <th>Serial_B1015</th>\n",
              "      <th>Serial_B1016</th>\n",
              "      <th>Serial_B1017</th>\n",
              "      <th>...</th>\n",
              "      <th>Serial_B1021</th>\n",
              "      <th>Serial_B1022</th>\n",
              "      <th>Serial_B1023</th>\n",
              "      <th>Serial_B1025</th>\n",
              "      <th>Serial_B1026</th>\n",
              "      <th>Serial_B1028</th>\n",
              "      <th>Serial_B1029</th>\n",
              "      <th>Serial_B1030</th>\n",
              "      <th>Serial_B1031</th>\n",
              "      <th>Serial_B1032</th>\n",
              "      <th>Serial_B1034</th>\n",
              "      <th>Serial_B1035</th>\n",
              "      <th>Serial_B1036</th>\n",
              "      <th>Serial_B1037</th>\n",
              "      <th>Serial_B1038</th>\n",
              "      <th>Serial_B1039</th>\n",
              "      <th>Serial_B1040</th>\n",
              "      <th>Serial_B1041</th>\n",
              "      <th>Serial_B1042</th>\n",
              "      <th>Serial_B1043</th>\n",
              "      <th>Serial_B1044</th>\n",
              "      <th>Serial_B1045</th>\n",
              "      <th>Serial_B1046</th>\n",
              "      <th>Serial_B1047</th>\n",
              "      <th>Serial_B1048</th>\n",
              "      <th>Serial_B1049</th>\n",
              "      <th>Serial_B1050</th>\n",
              "      <th>Serial_B1051</th>\n",
              "      <th>Serial_B1054</th>\n",
              "      <th>Serial_B1056</th>\n",
              "      <th>Serial_B1058</th>\n",
              "      <th>Serial_B1059</th>\n",
              "      <th>Serial_B1060</th>\n",
              "      <th>Serial_B1062</th>\n",
              "      <th>GridFins_False</th>\n",
              "      <th>GridFins_True</th>\n",
              "      <th>Reused_False</th>\n",
              "      <th>Reused_True</th>\n",
              "      <th>Legs_False</th>\n",
              "      <th>Legs_True</th>\n",
              "    </tr>\n",
              "  </thead>\n",
              "  <tbody>\n",
              "    <tr>\n",
              "      <th>0</th>\n",
              "      <td>1.0</td>\n",
              "      <td>6104.959412</td>\n",
              "      <td>1.0</td>\n",
              "      <td>1.0</td>\n",
              "      <td>0.0</td>\n",
              "      <td>0.0</td>\n",
              "      <td>0.0</td>\n",
              "      <td>0.0</td>\n",
              "      <td>0.0</td>\n",
              "      <td>0.0</td>\n",
              "      <td>1.0</td>\n",
              "      <td>0.0</td>\n",
              "      <td>0.0</td>\n",
              "      <td>0.0</td>\n",
              "      <td>0.0</td>\n",
              "      <td>0.0</td>\n",
              "      <td>1.0</td>\n",
              "      <td>0.0</td>\n",
              "      <td>0.0</td>\n",
              "      <td>0.0</td>\n",
              "      <td>0.0</td>\n",
              "      <td>0.0</td>\n",
              "      <td>0.0</td>\n",
              "      <td>0.0</td>\n",
              "      <td>1.0</td>\n",
              "      <td>0.0</td>\n",
              "      <td>0.0</td>\n",
              "      <td>0.0</td>\n",
              "      <td>0.0</td>\n",
              "      <td>0.0</td>\n",
              "      <td>0.0</td>\n",
              "      <td>0.0</td>\n",
              "      <td>0.0</td>\n",
              "      <td>0.0</td>\n",
              "      <td>0.0</td>\n",
              "      <td>0.0</td>\n",
              "      <td>0.0</td>\n",
              "      <td>0.0</td>\n",
              "      <td>0.0</td>\n",
              "      <td>0.0</td>\n",
              "      <td>...</td>\n",
              "      <td>0.0</td>\n",
              "      <td>0.0</td>\n",
              "      <td>0.0</td>\n",
              "      <td>0.0</td>\n",
              "      <td>0.0</td>\n",
              "      <td>0.0</td>\n",
              "      <td>0.0</td>\n",
              "      <td>0.0</td>\n",
              "      <td>0.0</td>\n",
              "      <td>0.0</td>\n",
              "      <td>0.0</td>\n",
              "      <td>0.0</td>\n",
              "      <td>0.0</td>\n",
              "      <td>0.0</td>\n",
              "      <td>0.0</td>\n",
              "      <td>0.0</td>\n",
              "      <td>0.0</td>\n",
              "      <td>0.0</td>\n",
              "      <td>0.0</td>\n",
              "      <td>0.0</td>\n",
              "      <td>0.0</td>\n",
              "      <td>0.0</td>\n",
              "      <td>0.0</td>\n",
              "      <td>0.0</td>\n",
              "      <td>0.0</td>\n",
              "      <td>0.0</td>\n",
              "      <td>0.0</td>\n",
              "      <td>0.0</td>\n",
              "      <td>0.0</td>\n",
              "      <td>0.0</td>\n",
              "      <td>0.0</td>\n",
              "      <td>0.0</td>\n",
              "      <td>0.0</td>\n",
              "      <td>0.0</td>\n",
              "      <td>1.0</td>\n",
              "      <td>0.0</td>\n",
              "      <td>1.0</td>\n",
              "      <td>0.0</td>\n",
              "      <td>1.0</td>\n",
              "      <td>0.0</td>\n",
              "    </tr>\n",
              "    <tr>\n",
              "      <th>1</th>\n",
              "      <td>2.0</td>\n",
              "      <td>525.000000</td>\n",
              "      <td>1.0</td>\n",
              "      <td>1.0</td>\n",
              "      <td>0.0</td>\n",
              "      <td>0.0</td>\n",
              "      <td>0.0</td>\n",
              "      <td>0.0</td>\n",
              "      <td>0.0</td>\n",
              "      <td>0.0</td>\n",
              "      <td>1.0</td>\n",
              "      <td>0.0</td>\n",
              "      <td>0.0</td>\n",
              "      <td>0.0</td>\n",
              "      <td>0.0</td>\n",
              "      <td>0.0</td>\n",
              "      <td>1.0</td>\n",
              "      <td>0.0</td>\n",
              "      <td>0.0</td>\n",
              "      <td>0.0</td>\n",
              "      <td>0.0</td>\n",
              "      <td>0.0</td>\n",
              "      <td>0.0</td>\n",
              "      <td>0.0</td>\n",
              "      <td>0.0</td>\n",
              "      <td>1.0</td>\n",
              "      <td>0.0</td>\n",
              "      <td>0.0</td>\n",
              "      <td>0.0</td>\n",
              "      <td>0.0</td>\n",
              "      <td>0.0</td>\n",
              "      <td>0.0</td>\n",
              "      <td>0.0</td>\n",
              "      <td>0.0</td>\n",
              "      <td>0.0</td>\n",
              "      <td>0.0</td>\n",
              "      <td>0.0</td>\n",
              "      <td>0.0</td>\n",
              "      <td>0.0</td>\n",
              "      <td>0.0</td>\n",
              "      <td>...</td>\n",
              "      <td>0.0</td>\n",
              "      <td>0.0</td>\n",
              "      <td>0.0</td>\n",
              "      <td>0.0</td>\n",
              "      <td>0.0</td>\n",
              "      <td>0.0</td>\n",
              "      <td>0.0</td>\n",
              "      <td>0.0</td>\n",
              "      <td>0.0</td>\n",
              "      <td>0.0</td>\n",
              "      <td>0.0</td>\n",
              "      <td>0.0</td>\n",
              "      <td>0.0</td>\n",
              "      <td>0.0</td>\n",
              "      <td>0.0</td>\n",
              "      <td>0.0</td>\n",
              "      <td>0.0</td>\n",
              "      <td>0.0</td>\n",
              "      <td>0.0</td>\n",
              "      <td>0.0</td>\n",
              "      <td>0.0</td>\n",
              "      <td>0.0</td>\n",
              "      <td>0.0</td>\n",
              "      <td>0.0</td>\n",
              "      <td>0.0</td>\n",
              "      <td>0.0</td>\n",
              "      <td>0.0</td>\n",
              "      <td>0.0</td>\n",
              "      <td>0.0</td>\n",
              "      <td>0.0</td>\n",
              "      <td>0.0</td>\n",
              "      <td>0.0</td>\n",
              "      <td>0.0</td>\n",
              "      <td>0.0</td>\n",
              "      <td>1.0</td>\n",
              "      <td>0.0</td>\n",
              "      <td>1.0</td>\n",
              "      <td>0.0</td>\n",
              "      <td>1.0</td>\n",
              "      <td>0.0</td>\n",
              "    </tr>\n",
              "    <tr>\n",
              "      <th>2</th>\n",
              "      <td>3.0</td>\n",
              "      <td>677.000000</td>\n",
              "      <td>1.0</td>\n",
              "      <td>1.0</td>\n",
              "      <td>0.0</td>\n",
              "      <td>0.0</td>\n",
              "      <td>0.0</td>\n",
              "      <td>0.0</td>\n",
              "      <td>0.0</td>\n",
              "      <td>1.0</td>\n",
              "      <td>0.0</td>\n",
              "      <td>0.0</td>\n",
              "      <td>0.0</td>\n",
              "      <td>0.0</td>\n",
              "      <td>0.0</td>\n",
              "      <td>0.0</td>\n",
              "      <td>1.0</td>\n",
              "      <td>0.0</td>\n",
              "      <td>0.0</td>\n",
              "      <td>0.0</td>\n",
              "      <td>0.0</td>\n",
              "      <td>0.0</td>\n",
              "      <td>0.0</td>\n",
              "      <td>0.0</td>\n",
              "      <td>0.0</td>\n",
              "      <td>0.0</td>\n",
              "      <td>1.0</td>\n",
              "      <td>0.0</td>\n",
              "      <td>0.0</td>\n",
              "      <td>0.0</td>\n",
              "      <td>0.0</td>\n",
              "      <td>0.0</td>\n",
              "      <td>0.0</td>\n",
              "      <td>0.0</td>\n",
              "      <td>0.0</td>\n",
              "      <td>0.0</td>\n",
              "      <td>0.0</td>\n",
              "      <td>0.0</td>\n",
              "      <td>0.0</td>\n",
              "      <td>0.0</td>\n",
              "      <td>...</td>\n",
              "      <td>0.0</td>\n",
              "      <td>0.0</td>\n",
              "      <td>0.0</td>\n",
              "      <td>0.0</td>\n",
              "      <td>0.0</td>\n",
              "      <td>0.0</td>\n",
              "      <td>0.0</td>\n",
              "      <td>0.0</td>\n",
              "      <td>0.0</td>\n",
              "      <td>0.0</td>\n",
              "      <td>0.0</td>\n",
              "      <td>0.0</td>\n",
              "      <td>0.0</td>\n",
              "      <td>0.0</td>\n",
              "      <td>0.0</td>\n",
              "      <td>0.0</td>\n",
              "      <td>0.0</td>\n",
              "      <td>0.0</td>\n",
              "      <td>0.0</td>\n",
              "      <td>0.0</td>\n",
              "      <td>0.0</td>\n",
              "      <td>0.0</td>\n",
              "      <td>0.0</td>\n",
              "      <td>0.0</td>\n",
              "      <td>0.0</td>\n",
              "      <td>0.0</td>\n",
              "      <td>0.0</td>\n",
              "      <td>0.0</td>\n",
              "      <td>0.0</td>\n",
              "      <td>0.0</td>\n",
              "      <td>0.0</td>\n",
              "      <td>0.0</td>\n",
              "      <td>0.0</td>\n",
              "      <td>0.0</td>\n",
              "      <td>1.0</td>\n",
              "      <td>0.0</td>\n",
              "      <td>1.0</td>\n",
              "      <td>0.0</td>\n",
              "      <td>1.0</td>\n",
              "      <td>0.0</td>\n",
              "    </tr>\n",
              "    <tr>\n",
              "      <th>3</th>\n",
              "      <td>4.0</td>\n",
              "      <td>500.000000</td>\n",
              "      <td>1.0</td>\n",
              "      <td>1.0</td>\n",
              "      <td>0.0</td>\n",
              "      <td>0.0</td>\n",
              "      <td>0.0</td>\n",
              "      <td>0.0</td>\n",
              "      <td>0.0</td>\n",
              "      <td>0.0</td>\n",
              "      <td>0.0</td>\n",
              "      <td>0.0</td>\n",
              "      <td>1.0</td>\n",
              "      <td>0.0</td>\n",
              "      <td>0.0</td>\n",
              "      <td>0.0</td>\n",
              "      <td>0.0</td>\n",
              "      <td>0.0</td>\n",
              "      <td>1.0</td>\n",
              "      <td>0.0</td>\n",
              "      <td>0.0</td>\n",
              "      <td>0.0</td>\n",
              "      <td>0.0</td>\n",
              "      <td>0.0</td>\n",
              "      <td>0.0</td>\n",
              "      <td>0.0</td>\n",
              "      <td>0.0</td>\n",
              "      <td>1.0</td>\n",
              "      <td>0.0</td>\n",
              "      <td>0.0</td>\n",
              "      <td>0.0</td>\n",
              "      <td>0.0</td>\n",
              "      <td>0.0</td>\n",
              "      <td>0.0</td>\n",
              "      <td>0.0</td>\n",
              "      <td>0.0</td>\n",
              "      <td>0.0</td>\n",
              "      <td>0.0</td>\n",
              "      <td>0.0</td>\n",
              "      <td>0.0</td>\n",
              "      <td>...</td>\n",
              "      <td>0.0</td>\n",
              "      <td>0.0</td>\n",
              "      <td>0.0</td>\n",
              "      <td>0.0</td>\n",
              "      <td>0.0</td>\n",
              "      <td>0.0</td>\n",
              "      <td>0.0</td>\n",
              "      <td>0.0</td>\n",
              "      <td>0.0</td>\n",
              "      <td>0.0</td>\n",
              "      <td>0.0</td>\n",
              "      <td>0.0</td>\n",
              "      <td>0.0</td>\n",
              "      <td>0.0</td>\n",
              "      <td>0.0</td>\n",
              "      <td>0.0</td>\n",
              "      <td>0.0</td>\n",
              "      <td>0.0</td>\n",
              "      <td>0.0</td>\n",
              "      <td>0.0</td>\n",
              "      <td>0.0</td>\n",
              "      <td>0.0</td>\n",
              "      <td>0.0</td>\n",
              "      <td>0.0</td>\n",
              "      <td>0.0</td>\n",
              "      <td>0.0</td>\n",
              "      <td>0.0</td>\n",
              "      <td>0.0</td>\n",
              "      <td>0.0</td>\n",
              "      <td>0.0</td>\n",
              "      <td>0.0</td>\n",
              "      <td>0.0</td>\n",
              "      <td>0.0</td>\n",
              "      <td>0.0</td>\n",
              "      <td>1.0</td>\n",
              "      <td>0.0</td>\n",
              "      <td>1.0</td>\n",
              "      <td>0.0</td>\n",
              "      <td>1.0</td>\n",
              "      <td>0.0</td>\n",
              "    </tr>\n",
              "    <tr>\n",
              "      <th>4</th>\n",
              "      <td>5.0</td>\n",
              "      <td>3170.000000</td>\n",
              "      <td>1.0</td>\n",
              "      <td>1.0</td>\n",
              "      <td>0.0</td>\n",
              "      <td>0.0</td>\n",
              "      <td>0.0</td>\n",
              "      <td>1.0</td>\n",
              "      <td>0.0</td>\n",
              "      <td>0.0</td>\n",
              "      <td>0.0</td>\n",
              "      <td>0.0</td>\n",
              "      <td>0.0</td>\n",
              "      <td>0.0</td>\n",
              "      <td>0.0</td>\n",
              "      <td>0.0</td>\n",
              "      <td>1.0</td>\n",
              "      <td>0.0</td>\n",
              "      <td>0.0</td>\n",
              "      <td>0.0</td>\n",
              "      <td>0.0</td>\n",
              "      <td>0.0</td>\n",
              "      <td>0.0</td>\n",
              "      <td>0.0</td>\n",
              "      <td>0.0</td>\n",
              "      <td>0.0</td>\n",
              "      <td>0.0</td>\n",
              "      <td>0.0</td>\n",
              "      <td>1.0</td>\n",
              "      <td>0.0</td>\n",
              "      <td>0.0</td>\n",
              "      <td>0.0</td>\n",
              "      <td>0.0</td>\n",
              "      <td>0.0</td>\n",
              "      <td>0.0</td>\n",
              "      <td>0.0</td>\n",
              "      <td>0.0</td>\n",
              "      <td>0.0</td>\n",
              "      <td>0.0</td>\n",
              "      <td>0.0</td>\n",
              "      <td>...</td>\n",
              "      <td>0.0</td>\n",
              "      <td>0.0</td>\n",
              "      <td>0.0</td>\n",
              "      <td>0.0</td>\n",
              "      <td>0.0</td>\n",
              "      <td>0.0</td>\n",
              "      <td>0.0</td>\n",
              "      <td>0.0</td>\n",
              "      <td>0.0</td>\n",
              "      <td>0.0</td>\n",
              "      <td>0.0</td>\n",
              "      <td>0.0</td>\n",
              "      <td>0.0</td>\n",
              "      <td>0.0</td>\n",
              "      <td>0.0</td>\n",
              "      <td>0.0</td>\n",
              "      <td>0.0</td>\n",
              "      <td>0.0</td>\n",
              "      <td>0.0</td>\n",
              "      <td>0.0</td>\n",
              "      <td>0.0</td>\n",
              "      <td>0.0</td>\n",
              "      <td>0.0</td>\n",
              "      <td>0.0</td>\n",
              "      <td>0.0</td>\n",
              "      <td>0.0</td>\n",
              "      <td>0.0</td>\n",
              "      <td>0.0</td>\n",
              "      <td>0.0</td>\n",
              "      <td>0.0</td>\n",
              "      <td>0.0</td>\n",
              "      <td>0.0</td>\n",
              "      <td>0.0</td>\n",
              "      <td>0.0</td>\n",
              "      <td>1.0</td>\n",
              "      <td>0.0</td>\n",
              "      <td>1.0</td>\n",
              "      <td>0.0</td>\n",
              "      <td>1.0</td>\n",
              "      <td>0.0</td>\n",
              "    </tr>\n",
              "  </tbody>\n",
              "</table>\n",
              "<p>5 rows × 83 columns</p>\n",
              "</div>"
            ],
            "text/plain": [
              "   FlightNumber  PayloadMass  Flights  ...  Reused_True  Legs_False  Legs_True\n",
              "0           1.0  6104.959412      1.0  ...          0.0         1.0        0.0\n",
              "1           2.0   525.000000      1.0  ...          0.0         1.0        0.0\n",
              "2           3.0   677.000000      1.0  ...          0.0         1.0        0.0\n",
              "3           4.0   500.000000      1.0  ...          0.0         1.0        0.0\n",
              "4           5.0  3170.000000      1.0  ...          0.0         1.0        0.0\n",
              "\n",
              "[5 rows x 83 columns]"
            ]
          },
          "metadata": {},
          "execution_count": 6
        }
      ]
    },
    {
      "cell_type": "code",
      "metadata": {
        "colab": {
          "base_uri": "https://localhost:8080/"
        },
        "id": "TZdpcUYgehky",
        "outputId": "6c3853b7-13ef-43af-dd6a-0d9675935fe0"
      },
      "source": [
        "X.shape"
      ],
      "execution_count": 7,
      "outputs": [
        {
          "output_type": "execute_result",
          "data": {
            "text/plain": [
              "(90, 83)"
            ]
          },
          "metadata": {},
          "execution_count": 7
        }
      ]
    },
    {
      "cell_type": "code",
      "metadata": {
        "id": "73U5XjfrehMH"
      },
      "source": [
        "X=preprocessing.StandardScaler().fit(X).transform(X)"
      ],
      "execution_count": 8,
      "outputs": []
    },
    {
      "cell_type": "code",
      "metadata": {
        "colab": {
          "base_uri": "https://localhost:8080/"
        },
        "id": "XvVT7n0AeekV",
        "outputId": "5c29c137-8d3e-4912-bfbc-b8b96fe637f5"
      },
      "source": [
        "X.shape\n",
        "X"
      ],
      "execution_count": 9,
      "outputs": [
        {
          "output_type": "execute_result",
          "data": {
            "text/plain": [
              "array([[-1.71291154e+00, -1.94814463e-16, -6.53912840e-01, ...,\n",
              "        -8.35531692e-01,  1.93309133e+00, -1.93309133e+00],\n",
              "       [-1.67441914e+00, -1.19523159e+00, -6.53912840e-01, ...,\n",
              "        -8.35531692e-01,  1.93309133e+00, -1.93309133e+00],\n",
              "       [-1.63592675e+00, -1.16267307e+00, -6.53912840e-01, ...,\n",
              "        -8.35531692e-01,  1.93309133e+00, -1.93309133e+00],\n",
              "       ...,\n",
              "       [ 1.63592675e+00,  1.99100483e+00,  3.49060516e+00, ...,\n",
              "         1.19684269e+00, -5.17306132e-01,  5.17306132e-01],\n",
              "       [ 1.67441914e+00,  1.99100483e+00,  1.00389436e+00, ...,\n",
              "         1.19684269e+00, -5.17306132e-01,  5.17306132e-01],\n",
              "       [ 1.71291154e+00, -5.19213966e-01, -6.53912840e-01, ...,\n",
              "        -8.35531692e-01, -5.17306132e-01,  5.17306132e-01]])"
            ]
          },
          "metadata": {},
          "execution_count": 9
        }
      ]
    },
    {
      "cell_type": "markdown",
      "metadata": {
        "id": "an8eDGT_kWmn"
      },
      "source": [
        "## TASK  1\n"
      ]
    },
    {
      "cell_type": "markdown",
      "metadata": {
        "id": "VB3hEvXqkWmo"
      },
      "source": [
        "Create a NumPy array from the column <code>Class</code> in <code>data</code>, by applying the method <code>to_numpy()</code>  then\n",
        "assign it  to the variable <code>Y</code>,make sure the output is a  Pandas series (only one bracket df\\['name of  column']).\n"
      ]
    },
    {
      "cell_type": "code",
      "metadata": {
        "id": "YXiWDFQWkWmo",
        "colab": {
          "base_uri": "https://localhost:8080/"
        },
        "outputId": "739be16d-d38c-4c31-a7cf-e8f220db8528"
      },
      "source": [
        "Y= data[\"Class\"].values\n",
        "Y"
      ],
      "execution_count": 10,
      "outputs": [
        {
          "output_type": "execute_result",
          "data": {
            "text/plain": [
              "array([0, 0, 0, 0, 0, 0, 1, 1, 0, 0, 0, 0, 1, 0, 0, 0, 1, 0, 0, 1, 1, 1,\n",
              "       1, 1, 0, 1, 1, 0, 1, 1, 0, 1, 1, 1, 0, 1, 1, 1, 1, 1, 1, 1, 1, 1,\n",
              "       1, 0, 0, 0, 1, 1, 0, 0, 1, 1, 1, 1, 1, 1, 1, 0, 0, 1, 1, 1, 1, 1,\n",
              "       1, 0, 1, 1, 1, 1, 0, 1, 0, 1, 0, 1, 1, 1, 1, 1, 1, 1, 1, 1, 1, 1,\n",
              "       1, 1])"
            ]
          },
          "metadata": {},
          "execution_count": 10
        }
      ]
    },
    {
      "cell_type": "markdown",
      "metadata": {
        "id": "H--i3y8GkWmo"
      },
      "source": [
        "## TASK  2\n"
      ]
    },
    {
      "cell_type": "markdown",
      "metadata": {
        "id": "ujWf-D6AkWmo"
      },
      "source": [
        "Standardize the data in <code>X</code> then reassign it to the variable  <code>X</code> using the transform provided below.\n"
      ]
    },
    {
      "cell_type": "code",
      "metadata": {
        "id": "zM59PIvukWmp"
      },
      "source": [
        "# students get this \n",
        "#transform=preprocessing.StandardScaler(X)\n",
        "#transform\n"
      ],
      "execution_count": 11,
      "outputs": []
    },
    {
      "cell_type": "markdown",
      "metadata": {
        "id": "_33hpn3xkWmp"
      },
      "source": [
        "We split the data into training and testing data using the  function  <code>train_test_split</code>.   The training data is divided into validation data, a second set used for training  data; then the models are trained and hyperparameters are selected using the function <code>GridSearchCV</code>.\n"
      ]
    },
    {
      "cell_type": "markdown",
      "metadata": {
        "id": "Mlk9h5ECkWmp"
      },
      "source": [
        "## TASK  3\n"
      ]
    },
    {
      "cell_type": "markdown",
      "metadata": {
        "id": "yRAMEBqvkWmq"
      },
      "source": [
        "Use the function train_test_split to split the data X and Y into training and test data. Set the parameter test_size to  0.2 and random_state to 2. The training data and test data should be assigned to the following labels.\n"
      ]
    },
    {
      "cell_type": "markdown",
      "metadata": {
        "id": "nA6PMNcwkWmq"
      },
      "source": [
        "<code>X_train, X_test, Y_train, Y_test</code>\n"
      ]
    },
    {
      "cell_type": "code",
      "metadata": {
        "id": "NA0If3GMkWmq",
        "colab": {
          "base_uri": "https://localhost:8080/"
        },
        "outputId": "1ad77feb-7b58-4f7b-b9e3-4429ed962de6"
      },
      "source": [
        "X_train, X_test, Y_train, Y_test = train_test_split( X, Y, test_size=0.2, random_state=2)\n",
        "print('Train set:', X_train.shape,  Y_train.shape)\n",
        "print('Test set:', X_test.shape,  Y_test.shape)"
      ],
      "execution_count": 12,
      "outputs": [
        {
          "output_type": "stream",
          "name": "stdout",
          "text": [
            "Train set: (72, 83) (72,)\n",
            "Test set: (18, 83) (18,)\n"
          ]
        }
      ]
    },
    {
      "cell_type": "markdown",
      "metadata": {
        "id": "v6mDQGgtkWmq"
      },
      "source": [
        "we can see we only have 18 test samples.\n"
      ]
    },
    {
      "cell_type": "code",
      "metadata": {
        "id": "q7oBS03YkWmq"
      },
      "source": [
        ""
      ],
      "execution_count": 1,
      "outputs": []
    },
    {
      "cell_type": "markdown",
      "metadata": {
        "id": "c-B9OzjbkWmr"
      },
      "source": [
        "## TASK  4\n"
      ]
    },
    {
      "cell_type": "markdown",
      "metadata": {
        "id": "jgLHnSM4kWmr"
      },
      "source": [
        "Create a logistic regression object using then create a  GridSearchCV object  <code>logreg_cv</code> with cv = 10.  Fit the object to find the best parameters from the dictionary <code>parameters</code>.\n"
      ]
    },
    {
      "cell_type": "code",
      "metadata": {
        "id": "_XJeOyzykWmr"
      },
      "source": [
        "parameters ={'C':[0.01,0.1,1],\n",
        "             'penalty':['l2'],\n",
        "             'solver':['lbfgs']}"
      ],
      "execution_count": 13,
      "outputs": []
    },
    {
      "cell_type": "code",
      "metadata": {
        "id": "RGkWRlvBkWmr",
        "colab": {
          "base_uri": "https://localhost:8080/"
        },
        "outputId": "5680fb88-4c97-4e5b-8dcb-78f2cb9d1c67"
      },
      "source": [
        "parameters ={\"C\":[0.01,0.1,1],'penalty':['l2'], 'solver':['lbfgs']}# l1 lasso l2 ridge\n",
        "lr=LogisticRegression()\n",
        "lr"
      ],
      "execution_count": 37,
      "outputs": [
        {
          "output_type": "execute_result",
          "data": {
            "text/plain": [
              "LogisticRegression(C=1.0, class_weight=None, dual=False, fit_intercept=True,\n",
              "                   intercept_scaling=1, l1_ratio=None, max_iter=100,\n",
              "                   multi_class='auto', n_jobs=None, penalty='l2',\n",
              "                   random_state=None, solver='lbfgs', tol=0.0001, verbose=0,\n",
              "                   warm_start=False)"
            ]
          },
          "metadata": {},
          "execution_count": 37
        }
      ]
    },
    {
      "cell_type": "markdown",
      "metadata": {
        "id": "7JjF43xYkWms"
      },
      "source": [
        "We output the <code>GridSearchCV</code> object for logistic regression. We display the best parameters using the data attribute <code>best_params\\_</code> and the accuracy on the validation data using the data attribute <code>best_score\\_</code>.\n"
      ]
    },
    {
      "cell_type": "code",
      "metadata": {
        "colab": {
          "base_uri": "https://localhost:8080/"
        },
        "id": "XfonkBbMtkj9",
        "outputId": "e8a08893-b42d-4045-82a0-2f3932508b64"
      },
      "source": [
        "logreg_cv=GridSearchCV(lr,parameters,cv=10)\n",
        "logreg_cv.fit(X_train,Y_train)\n",
        "\n",
        "print(\"tuned hpyerparameters :(best parameters) \",logreg_cv.best_params_)\n",
        "print(\"accuracy :\",logreg_cv.best_score_)"
      ],
      "execution_count": 38,
      "outputs": [
        {
          "output_type": "stream",
          "name": "stdout",
          "text": [
            "tuned hpyerparameters :(best parameters)  {'C': 0.01, 'penalty': 'l2', 'solver': 'lbfgs'}\n",
            "accuracy : 0.8464285714285713\n"
          ]
        }
      ]
    },
    {
      "cell_type": "code",
      "metadata": {
        "id": "pANTPockkWms",
        "colab": {
          "base_uri": "https://localhost:8080/"
        },
        "outputId": "615eb9b7-33f2-4507-85db-bfd904c261b8"
      },
      "source": [
        "print(\"tuned hpyerparameters :(best parameters) \",logreg_cv.best_params_)\n",
        "print(\"accuracy :\",logreg_cv.best_score_)"
      ],
      "execution_count": 39,
      "outputs": [
        {
          "output_type": "stream",
          "name": "stdout",
          "text": [
            "tuned hpyerparameters :(best parameters)  {'C': 0.01, 'penalty': 'l2', 'solver': 'lbfgs'}\n",
            "accuracy : 0.8464285714285713\n"
          ]
        }
      ]
    },
    {
      "cell_type": "markdown",
      "metadata": {
        "id": "4UzfVYLrkWms"
      },
      "source": [
        "## TASK  5\n"
      ]
    },
    {
      "cell_type": "markdown",
      "metadata": {
        "id": "SicAk-QakWms"
      },
      "source": [
        "Calculate the accuracy on the test data using the method <code>score</code>:\n"
      ]
    },
    {
      "cell_type": "code",
      "metadata": {
        "id": "mfWAC1xQkWms",
        "colab": {
          "base_uri": "https://localhost:8080/"
        },
        "outputId": "fe4a3ea3-7fce-4629-8461-c9fbb267a359"
      },
      "source": [
        "logreg2=LogisticRegression(C=1,penalty=\"l2\")\n",
        "logreg2.fit(X_train,Y_train)\n",
        "print(\"score\",logreg2.score(X_test,Y_test))"
      ],
      "execution_count": 23,
      "outputs": [
        {
          "output_type": "stream",
          "name": "stdout",
          "text": [
            "score 0.8333333333333334\n"
          ]
        }
      ]
    },
    {
      "cell_type": "markdown",
      "metadata": {
        "id": "m-DL24sxkWmt"
      },
      "source": [
        "Lets look at the confusion matrix:\n"
      ]
    },
    {
      "cell_type": "code",
      "metadata": {
        "id": "4TWS4GQUkWmt",
        "colab": {
          "base_uri": "https://localhost:8080/",
          "height": 295
        },
        "outputId": "f5b38b1a-e1f1-42b0-8bc1-1c3d226200f8"
      },
      "source": [
        "yhat=logreg_cv.predict(X_test)\n",
        "plot_confusion_matrix(Y_test,yhat)"
      ],
      "execution_count": 25,
      "outputs": [
        {
          "output_type": "display_data",
          "data": {
            "image/png": "[encoded data removed]",
            "text/plain": [
              "<Figure size 432x288 with 2 Axes>"
            ]
          },
          "metadata": {
            "needs_background": "light"
          }
        }
      ]
    },
    {
      "cell_type": "markdown",
      "metadata": {
        "id": "kmnJd3t0kWmt"
      },
      "source": [
        "Examining the confusion matrix, we see that logistic regression can distinguish between the different classes.  We see that the major problem is false positives.\n"
      ]
    },
    {
      "cell_type": "markdown",
      "metadata": {
        "id": "wHL4f_SEkWmt"
      },
      "source": [
        "## TASK  6\n"
      ]
    },
    {
      "cell_type": "markdown",
      "metadata": {
        "id": "ng_tOg0skWmu"
      },
      "source": [
        "Create a support vector machine object then  create a  <code>GridSearchCV</code> object  <code>svm_cv</code> with cv - 10.  Fit the object to find the best parameters from the dictionary <code>parameters</code>.\n"
      ]
    },
    {
      "cell_type": "code",
      "metadata": {
        "id": "loiK_JYlkWmu"
      },
      "source": [
        "parameters = {'kernel':('linear', 'rbf','poly','rbf', 'sigmoid'),\n",
        "              'C': np.logspace(-3, 3, 5),\n",
        "              'gamma':np.logspace(-3, 3, 5)}\n",
        "svm = SVC()"
      ],
      "execution_count": 26,
      "outputs": []
    },
    {
      "cell_type": "code",
      "metadata": {
        "id": "1A2imLeTkWmu",
        "colab": {
          "base_uri": "https://localhost:8080/"
        },
        "outputId": "1f23b5db-360c-4504-a3e5-9f13a248d8f0"
      },
      "source": [
        "svm.fit(X_train, Y_train)\n",
        "  \n",
        "from sklearn.metrics import classification_report, confusion_matrix\n",
        "# print prediction results\n",
        "predictions = svm.predict(X_test)\n",
        "print(classification_report(Y_test, predictions))"
      ],
      "execution_count": 30,
      "outputs": [
        {
          "output_type": "stream",
          "name": "stdout",
          "text": [
            "              precision    recall  f1-score   support\n",
            "\n",
            "           0       0.75      0.50      0.60         6\n",
            "           1       0.79      0.92      0.85        12\n",
            "\n",
            "    accuracy                           0.78        18\n",
            "   macro avg       0.77      0.71      0.72        18\n",
            "weighted avg       0.77      0.78      0.76        18\n",
            "\n"
          ]
        }
      ]
    },
    {
      "cell_type": "code",
      "metadata": {
        "id": "5iGDRFE_kWmu",
        "colab": {
          "base_uri": "https://localhost:8080/"
        },
        "outputId": "5390b571-b079-4460-b9c1-b48f45fe293b"
      },
      "source": [
        "svm_CV = GridSearchCV(SVC(), parameters, refit = True, verbose = 3)\n",
        "  \n",
        "# fitting the model for grid search\n",
        "svm_CV.fit(X_train, Y_train)\n",
        "print(\"tuned hpyerparameters :(best parameters) \",svm_CV.best_params_)\n",
        "print(\"accuracy :\",svm_CV.best_score_)"
      ],
      "execution_count": 33,
      "outputs": [
        {
          "output_type": "stream",
          "name": "stdout",
          "text": [
            "Fitting 5 folds for each of 125 candidates, totalling 625 fits\n",
            "[CV] C=0.001, gamma=0.001, kernel=linear .............................\n",
            "[CV] . C=0.001, gamma=0.001, kernel=linear, score=0.667, total=   0.0s\n",
            "[CV] C=0.001, gamma=0.001, kernel=linear .............................\n",
            "[CV] . C=0.001, gamma=0.001, kernel=linear, score=0.667, total=   0.0s\n",
            "[CV] C=0.001, gamma=0.001, kernel=linear .............................\n",
            "[CV] . C=0.001, gamma=0.001, kernel=linear, score=0.643, total=   0.0s\n",
            "[CV] C=0.001, gamma=0.001, kernel=linear .............................\n",
            "[CV] . C=0.001, gamma=0.001, kernel=linear, score=0.643, total=   0.0s\n",
            "[CV] C=0.001, gamma=0.001, kernel=linear .............................\n",
            "[CV] . C=0.001, gamma=0.001, kernel=linear, score=0.714, total=   0.0s\n",
            "[CV] C=0.001, gamma=0.001, kernel=rbf ................................\n",
            "[CV] .... C=0.001, gamma=0.001, kernel=rbf, score=0.667, total=   0.0s\n",
            "[CV] C=0.001, gamma=0.001, kernel=rbf ................................\n",
            "[CV] .... C=0.001, gamma=0.001, kernel=rbf, score=0.667, total=   0.0s\n",
            "[CV] C=0.001, gamma=0.001, kernel=rbf ................................\n",
            "[CV] .... C=0.001, gamma=0.001, kernel=rbf, score=0.643, total=   0.0s\n",
            "[CV] C=0.001, gamma=0.001, kernel=rbf ................................\n",
            "[CV] .... C=0.001, gamma=0.001, kernel=rbf, score=0.643, total=   0.0s\n",
            "[CV] C=0.001, gamma=0.001, kernel=rbf ................................\n",
            "[CV] .... C=0.001, gamma=0.001, kernel=rbf, score=0.714, total=   0.0s\n",
            "[CV] C=0.001, gamma=0.001, kernel=poly ...............................\n",
            "[CV] ... C=0.001, gamma=0.001, kernel=poly, score=0.667, total=   0.0s\n",
            "[CV] C=0.001, gamma=0.001, kernel=poly ...............................\n",
            "[CV] ... C=0.001, gamma=0.001, kernel=poly, score=0.667, total=   0.0s\n",
            "[CV] C=0.001, gamma=0.001, kernel=poly ...............................\n",
            "[CV] ... C=0.001, gamma=0.001, kernel=poly, score=0.643, total=   0.0s\n",
            "[CV] C=0.001, gamma=0.001, kernel=poly ...............................\n",
            "[CV] ... C=0.001, gamma=0.001, kernel=poly, score=0.643, total=   0.0s\n",
            "[CV] C=0.001, gamma=0.001, kernel=poly ...............................\n",
            "[CV] ... C=0.001, gamma=0.001, kernel=poly, score=0.714, total=   0.0s\n",
            "[CV] C=0.001, gamma=0.001, kernel=rbf ................................\n",
            "[CV] .... C=0.001, gamma=0.001, kernel=rbf, score=0.667, total=   0.0s\n",
            "[CV] C=0.001, gamma=0.001, kernel=rbf ................................\n",
            "[CV] .... C=0.001, gamma=0.001, kernel=rbf, score=0.667, total=   0.0s\n",
            "[CV] C=0.001, gamma=0.001, kernel=rbf ................................\n",
            "[CV] .... C=0.001, gamma=0.001, kernel=rbf, score=0.643, total=   0.0s\n",
            "[CV] C=0.001, gamma=0.001, kernel=rbf ................................\n",
            "[CV] .... C=0.001, gamma=0.001, kernel=rbf, score=0.643, total=   0.0s\n",
            "[CV] C=0.001, gamma=0.001, kernel=rbf ................................\n",
            "[CV] .... C=0.001, gamma=0.001, kernel=rbf, score=0.714, total=   0.0s\n",
            "[CV] C=0.001, gamma=0.001, kernel=sigmoid ............................\n",
            "[CV]  C=0.001, gamma=0.001, kernel=sigmoid, score=0.667, total=   0.0s\n",
            "[CV] C=0.001, gamma=0.001, kernel=sigmoid ............................\n",
            "[CV]  C=0.001, gamma=0.001, kernel=sigmoid, score=0.667, total=   0.0s\n",
            "[CV] C=0.001, gamma=0.001, kernel=sigmoid ............................\n",
            "[CV]  C=0.001, gamma=0.001, kernel=sigmoid, score=0.643, total=   0.0s\n",
            "[CV] C=0.001, gamma=0.001, kernel=sigmoid ............................\n",
            "[CV]  C=0.001, gamma=0.001, kernel=sigmoid, score=0.643, total=   0.0s\n",
            "[CV] C=0.001, gamma=0.001, kernel=sigmoid ............................\n",
            "[CV]  C=0.001, gamma=0.001, kernel=sigmoid, score=0.714, total=   0.0s\n",
            "[CV] C=0.001, gamma=0.03162277660168379, kernel=linear ...............\n",
            "[CV]  C=0.001, gamma=0.03162277660168379, kernel=linear, score=0.667, total=   0.0s\n",
            "[CV] C=0.001, gamma=0.03162277660168379, kernel=linear ...............\n",
            "[CV]  C=0.001, gamma=0.03162277660168379, kernel=linear, score=0.667, total=   0.0s\n",
            "[CV] C=0.001, gamma=0.03162277660168379, kernel=linear ...............\n",
            "[CV]  C=0.001, gamma=0.03162277660168379, kernel=linear, score=0.643, total=   0.0s\n",
            "[CV] C=0.001, gamma=0.03162277660168379, kernel=linear ...............\n",
            "[CV]  C=0.001, gamma=0.03162277660168379, kernel=linear, score=0.643, total=   0.0s\n",
            "[CV] C=0.001, gamma=0.03162277660168379, kernel=linear ...............\n",
            "[CV]  C=0.001, gamma=0.03162277660168379, kernel=linear, score=0.714, total=   0.0s\n",
            "[CV] C=0.001, gamma=0.03162277660168379, kernel=rbf ..................\n",
            "[CV]  C=0.001, gamma=0.03162277660168379, kernel=rbf, score=0.667, total=   0.0s\n",
            "[CV] C=0.001, gamma=0.03162277660168379, kernel=rbf ..................\n",
            "[CV]  C=0.001, gamma=0.03162277660168379, kernel=rbf, score=0.667, total=   0.0s\n",
            "[CV] C=0.001, gamma=0.03162277660168379, kernel=rbf ..................\n",
            "[CV]  C=0.001, gamma=0.03162277660168379, kernel=rbf, score=0.643, total=   0.0s\n",
            "[CV] C=0.001, gamma=0.03162277660168379, kernel=rbf ..................\n",
            "[CV]  C=0.001, gamma=0.03162277660168379, kernel=rbf, score=0.643, total=   0.0s\n",
            "[CV] C=0.001, gamma=0.03162277660168379, kernel=rbf ..................\n",
            "[CV]  C=0.001, gamma=0.03162277660168379, kernel=rbf, score=0.714, total=   0.0s\n",
            "[CV] C=0.001, gamma=0.03162277660168379, kernel=poly .................\n",
            "[CV]  C=0.001, gamma=0.03162277660168379, kernel=poly, score=0.667, total=   0.0s\n",
            "[CV] C=0.001, gamma=0.03162277660168379, kernel=poly .................\n",
            "[CV]  C=0.001, gamma=0.03162277660168379, kernel=poly, score=0.667, total=   0.0s\n",
            "[CV] C=0.001, gamma=0.03162277660168379, kernel=poly .................\n",
            "[CV]  C=0.001, gamma=0.03162277660168379, kernel=poly, score=0.643, total=   0.0s\n",
            "[CV] C=0.001, gamma=0.03162277660168379, kernel=poly .................\n",
            "[CV]  C=0.001, gamma=0.03162277660168379, kernel=poly, score=0.643, total=   0.0s\n",
            "[CV] C=0.001, gamma=0.03162277660168379, kernel=poly .................\n",
            "[CV]  C=0.001, gamma=0.03162277660168379, kernel=poly, score=0.714, total=   0.0s\n",
            "[CV] C=0.001, gamma=0.03162277660168379, kernel=rbf ..................\n",
            "[CV]  C=0.001, gamma=0.03162277660168379, kernel=rbf, score=0.667, total=   0.0s\n",
            "[CV] C=0.001, gamma=0.03162277660168379, kernel=rbf ..................\n",
            "[CV]  C=0.001, gamma=0.03162277660168379, kernel=rbf, score=0.667, total=   0.0s\n",
            "[CV] C=0.001, gamma=0.03162277660168379, kernel=rbf ..................\n",
            "[CV]  C=0.001, gamma=0.03162277660168379, kernel=rbf, score=0.643, total=   0.0s\n",
            "[CV] C=0.001, gamma=0.03162277660168379, kernel=rbf ..................\n",
            "[CV]  C=0.001, gamma=0.03162277660168379, kernel=rbf, score=0.643, total=   0.0s\n",
            "[CV] C=0.001, gamma=0.03162277660168379, kernel=rbf ..................\n",
            "[CV]  C=0.001, gamma=0.03162277660168379, kernel=rbf, score=0.714, total=   0.0s\n",
            "[CV] C=0.001, gamma=0.03162277660168379, kernel=sigmoid ..............\n",
            "[CV]  C=0.001, gamma=0.03162277660168379, kernel=sigmoid, score=0.667, total=   0.0s\n",
            "[CV] C=0.001, gamma=0.03162277660168379, kernel=sigmoid ..............\n",
            "[CV]  C=0.001, gamma=0.03162277660168379, kernel=sigmoid, score=0.667, total=   0.0s\n",
            "[CV] C=0.001, gamma=0.03162277660168379, kernel=sigmoid ..............\n",
            "[CV]  C=0.001, gamma=0.03162277660168379, kernel=sigmoid, score=0.643, total=   0.0s\n",
            "[CV] C=0.001, gamma=0.03162277660168379, kernel=sigmoid ..............\n",
            "[CV]  C=0.001, gamma=0.03162277660168379, kernel=sigmoid, score=0.643, total=   0.0s\n",
            "[CV] C=0.001, gamma=0.03162277660168379, kernel=sigmoid ..............\n",
            "[CV]  C=0.001, gamma=0.03162277660168379, kernel=sigmoid, score=0.714, total=   0.0s\n",
            "[CV] C=0.001, gamma=1.0, kernel=linear ...............................\n",
            "[CV] ... C=0.001, gamma=1.0, kernel=linear, score=0.667, total=   0.0s\n",
            "[CV] C=0.001, gamma=1.0, kernel=linear ...............................\n",
            "[CV] ... C=0.001, gamma=1.0, kernel=linear, score=0.667, total=   0.0s\n",
            "[CV] C=0.001, gamma=1.0, kernel=linear ...............................\n",
            "[CV] ... C=0.001, gamma=1.0, kernel=linear, score=0.643, total=   0.0s\n",
            "[CV] C=0.001, gamma=1.0, kernel=linear ...............................\n",
            "[CV] ... C=0.001, gamma=1.0, kernel=linear, score=0.643, total=   0.0s\n",
            "[CV] C=0.001, gamma=1.0, kernel=linear ...............................\n",
            "[CV] ... C=0.001, gamma=1.0, kernel=linear, score=0.714, total=   0.0s\n",
            "[CV] C=0.001, gamma=1.0, kernel=rbf ..................................\n"
          ]
        },
        {
          "output_type": "stream",
          "name": "stderr",
          "text": [
            "[Parallel(n_jobs=1)]: Using backend SequentialBackend with 1 concurrent workers.\n",
            "[Parallel(n_jobs=1)]: Done   1 out of   1 | elapsed:    0.0s remaining:    0.0s\n",
            "[Parallel(n_jobs=1)]: Done   2 out of   2 | elapsed:    0.0s remaining:    0.0s\n"
          ]
        },
        {
          "output_type": "stream",
          "name": "stdout",
          "text": [
            "[CV] ...... C=0.001, gamma=1.0, kernel=rbf, score=0.667, total=   0.0s\n",
            "[CV] C=0.001, gamma=1.0, kernel=rbf ..................................\n",
            "[CV] ...... C=0.001, gamma=1.0, kernel=rbf, score=0.667, total=   0.0s\n",
            "[CV] C=0.001, gamma=1.0, kernel=rbf ..................................\n",
            "[CV] ...... C=0.001, gamma=1.0, kernel=rbf, score=0.643, total=   0.0s\n",
            "[CV] C=0.001, gamma=1.0, kernel=rbf ..................................\n",
            "[CV] ...... C=0.001, gamma=1.0, kernel=rbf, score=0.643, total=   0.0s\n",
            "[CV] C=0.001, gamma=1.0, kernel=rbf ..................................\n",
            "[CV] ...... C=0.001, gamma=1.0, kernel=rbf, score=0.714, total=   0.0s\n",
            "[CV] C=0.001, gamma=1.0, kernel=poly .................................\n",
            "[CV] ..... C=0.001, gamma=1.0, kernel=poly, score=0.600, total=   0.0s\n",
            "[CV] C=0.001, gamma=1.0, kernel=poly .................................\n",
            "[CV] ..... C=0.001, gamma=1.0, kernel=poly, score=0.600, total=   0.0s\n",
            "[CV] C=0.001, gamma=1.0, kernel=poly .................................\n",
            "[CV] ..... C=0.001, gamma=1.0, kernel=poly, score=0.643, total=   0.0s\n",
            "[CV] C=0.001, gamma=1.0, kernel=poly .................................\n",
            "[CV] ..... C=0.001, gamma=1.0, kernel=poly, score=0.643, total=   0.0s\n",
            "[CV] C=0.001, gamma=1.0, kernel=poly .................................\n",
            "[CV] ..... C=0.001, gamma=1.0, kernel=poly, score=0.714, total=   0.0s\n",
            "[CV] C=0.001, gamma=1.0, kernel=rbf ..................................\n",
            "[CV] ...... C=0.001, gamma=1.0, kernel=rbf, score=0.667, total=   0.0s\n",
            "[CV] C=0.001, gamma=1.0, kernel=rbf ..................................\n",
            "[CV] ...... C=0.001, gamma=1.0, kernel=rbf, score=0.667, total=   0.0s\n",
            "[CV] C=0.001, gamma=1.0, kernel=rbf ..................................\n",
            "[CV] ...... C=0.001, gamma=1.0, kernel=rbf, score=0.643, total=   0.0s\n",
            "[CV] C=0.001, gamma=1.0, kernel=rbf ..................................\n",
            "[CV] ...... C=0.001, gamma=1.0, kernel=rbf, score=0.643, total=   0.0s\n",
            "[CV] C=0.001, gamma=1.0, kernel=rbf ..................................\n",
            "[CV] ...... C=0.001, gamma=1.0, kernel=rbf, score=0.714, total=   0.0s\n",
            "[CV] C=0.001, gamma=1.0, kernel=sigmoid ..............................\n",
            "[CV] .. C=0.001, gamma=1.0, kernel=sigmoid, score=0.667, total=   0.0s\n",
            "[CV] C=0.001, gamma=1.0, kernel=sigmoid ..............................\n",
            "[CV] .. C=0.001, gamma=1.0, kernel=sigmoid, score=0.667, total=   0.0s\n",
            "[CV] C=0.001, gamma=1.0, kernel=sigmoid ..............................\n",
            "[CV] .. C=0.001, gamma=1.0, kernel=sigmoid, score=0.643, total=   0.0s\n",
            "[CV] C=0.001, gamma=1.0, kernel=sigmoid ..............................\n",
            "[CV] .. C=0.001, gamma=1.0, kernel=sigmoid, score=0.643, total=   0.0s\n",
            "[CV] C=0.001, gamma=1.0, kernel=sigmoid ..............................\n",
            "[CV] .. C=0.001, gamma=1.0, kernel=sigmoid, score=0.714, total=   0.0s\n",
            "[CV] C=0.001, gamma=31.622776601683793, kernel=linear ................\n",
            "[CV]  C=0.001, gamma=31.622776601683793, kernel=linear, score=0.667, total=   0.0s\n",
            "[CV] C=0.001, gamma=31.622776601683793, kernel=linear ................\n",
            "[CV]  C=0.001, gamma=31.622776601683793, kernel=linear, score=0.667, total=   0.0s\n",
            "[CV] C=0.001, gamma=31.622776601683793, kernel=linear ................\n",
            "[CV]  C=0.001, gamma=31.622776601683793, kernel=linear, score=0.643, total=   0.0s\n",
            "[CV] C=0.001, gamma=31.622776601683793, kernel=linear ................\n",
            "[CV]  C=0.001, gamma=31.622776601683793, kernel=linear, score=0.643, total=   0.0s\n",
            "[CV] C=0.001, gamma=31.622776601683793, kernel=linear ................\n",
            "[CV]  C=0.001, gamma=31.622776601683793, kernel=linear, score=0.714, total=   0.0s\n",
            "[CV] C=0.001, gamma=31.622776601683793, kernel=rbf ...................\n",
            "[CV]  C=0.001, gamma=31.622776601683793, kernel=rbf, score=0.667, total=   0.0s\n",
            "[CV] C=0.001, gamma=31.622776601683793, kernel=rbf ...................\n",
            "[CV]  C=0.001, gamma=31.622776601683793, kernel=rbf, score=0.667, total=   0.0s\n",
            "[CV] C=0.001, gamma=31.622776601683793, kernel=rbf ...................\n",
            "[CV]  C=0.001, gamma=31.622776601683793, kernel=rbf, score=0.643, total=   0.0s\n",
            "[CV] C=0.001, gamma=31.622776601683793, kernel=rbf ...................\n",
            "[CV]  C=0.001, gamma=31.622776601683793, kernel=rbf, score=0.643, total=   0.0s\n",
            "[CV] C=0.001, gamma=31.622776601683793, kernel=rbf ...................\n",
            "[CV]  C=0.001, gamma=31.622776601683793, kernel=rbf, score=0.714, total=   0.0s\n",
            "[CV] C=0.001, gamma=31.622776601683793, kernel=poly ..................\n",
            "[CV]  C=0.001, gamma=31.622776601683793, kernel=poly, score=0.600, total=   0.0s\n",
            "[CV] C=0.001, gamma=31.622776601683793, kernel=poly ..................\n",
            "[CV]  C=0.001, gamma=31.622776601683793, kernel=poly, score=0.600, total=   0.0s\n",
            "[CV] C=0.001, gamma=31.622776601683793, kernel=poly ..................\n",
            "[CV]  C=0.001, gamma=31.622776601683793, kernel=poly, score=0.643, total=   0.0s\n",
            "[CV] C=0.001, gamma=31.622776601683793, kernel=poly ..................\n",
            "[CV]  C=0.001, gamma=31.622776601683793, kernel=poly, score=0.643, total=   0.0s\n",
            "[CV] C=0.001, gamma=31.622776601683793, kernel=poly ..................\n",
            "[CV]  C=0.001, gamma=31.622776601683793, kernel=poly, score=0.714, total=   0.0s\n",
            "[CV] C=0.001, gamma=31.622776601683793, kernel=rbf ...................\n",
            "[CV]  C=0.001, gamma=31.622776601683793, kernel=rbf, score=0.667, total=   0.0s\n",
            "[CV] C=0.001, gamma=31.622776601683793, kernel=rbf ...................\n",
            "[CV]  C=0.001, gamma=31.622776601683793, kernel=rbf, score=0.667, total=   0.0s\n",
            "[CV] C=0.001, gamma=31.622776601683793, kernel=rbf ...................\n",
            "[CV]  C=0.001, gamma=31.622776601683793, kernel=rbf, score=0.643, total=   0.0s\n",
            "[CV] C=0.001, gamma=31.622776601683793, kernel=rbf ...................\n",
            "[CV]  C=0.001, gamma=31.622776601683793, kernel=rbf, score=0.643, total=   0.0s\n",
            "[CV] C=0.001, gamma=31.622776601683793, kernel=rbf ...................\n",
            "[CV]  C=0.001, gamma=31.622776601683793, kernel=rbf, score=0.714, total=   0.0s\n",
            "[CV] C=0.001, gamma=31.622776601683793, kernel=sigmoid ...............\n",
            "[CV]  C=0.001, gamma=31.622776601683793, kernel=sigmoid, score=0.667, total=   0.0s\n",
            "[CV] C=0.001, gamma=31.622776601683793, kernel=sigmoid ...............\n",
            "[CV]  C=0.001, gamma=31.622776601683793, kernel=sigmoid, score=0.667, total=   0.0s\n",
            "[CV] C=0.001, gamma=31.622776601683793, kernel=sigmoid ...............\n",
            "[CV]  C=0.001, gamma=31.622776601683793, kernel=sigmoid, score=0.643, total=   0.0s\n",
            "[CV] C=0.001, gamma=31.622776601683793, kernel=sigmoid ...............\n",
            "[CV]  C=0.001, gamma=31.622776601683793, kernel=sigmoid, score=0.643, total=   0.0s\n",
            "[CV] C=0.001, gamma=31.622776601683793, kernel=sigmoid ...............\n",
            "[CV]  C=0.001, gamma=31.622776601683793, kernel=sigmoid, score=0.714, total=   0.0s\n",
            "[CV] C=0.001, gamma=1000.0, kernel=linear ............................\n",
            "[CV]  C=0.001, gamma=1000.0, kernel=linear, score=0.667, total=   0.0s\n",
            "[CV] C=0.001, gamma=1000.0, kernel=linear ............................\n",
            "[CV]  C=0.001, gamma=1000.0, kernel=linear, score=0.667, total=   0.0s\n",
            "[CV] C=0.001, gamma=1000.0, kernel=linear ............................\n",
            "[CV]  C=0.001, gamma=1000.0, kernel=linear, score=0.643, total=   0.0s\n",
            "[CV] C=0.001, gamma=1000.0, kernel=linear ............................\n",
            "[CV]  C=0.001, gamma=1000.0, kernel=linear, score=0.643, total=   0.0s\n",
            "[CV] C=0.001, gamma=1000.0, kernel=linear ............................\n",
            "[CV]  C=0.001, gamma=1000.0, kernel=linear, score=0.714, total=   0.0s\n",
            "[CV] C=0.001, gamma=1000.0, kernel=rbf ...............................\n",
            "[CV] ... C=0.001, gamma=1000.0, kernel=rbf, score=0.667, total=   0.0s\n",
            "[CV] C=0.001, gamma=1000.0, kernel=rbf ...............................\n",
            "[CV] ... C=0.001, gamma=1000.0, kernel=rbf, score=0.667, total=   0.0s\n",
            "[CV] C=0.001, gamma=1000.0, kernel=rbf ...............................\n",
            "[CV] ... C=0.001, gamma=1000.0, kernel=rbf, score=0.643, total=   0.0s\n",
            "[CV] C=0.001, gamma=1000.0, kernel=rbf ...............................\n",
            "[CV] ... C=0.001, gamma=1000.0, kernel=rbf, score=0.643, total=   0.0s\n",
            "[CV] C=0.001, gamma=1000.0, kernel=rbf ...............................\n",
            "[CV] ... C=0.001, gamma=1000.0, kernel=rbf, score=0.714, total=   0.0s\n",
            "[CV] C=0.001, gamma=1000.0, kernel=poly ..............................\n",
            "[CV] .. C=0.001, gamma=1000.0, kernel=poly, score=0.600, total=   0.0s\n",
            "[CV] C=0.001, gamma=1000.0, kernel=poly ..............................\n",
            "[CV] .. C=0.001, gamma=1000.0, kernel=poly, score=0.600, total=   0.0s\n",
            "[CV] C=0.001, gamma=1000.0, kernel=poly ..............................\n",
            "[CV] .. C=0.001, gamma=1000.0, kernel=poly, score=0.643, total=   0.0s\n",
            "[CV] C=0.001, gamma=1000.0, kernel=poly ..............................\n",
            "[CV] .. C=0.001, gamma=1000.0, kernel=poly, score=0.643, total=   0.0s\n",
            "[CV] C=0.001, gamma=1000.0, kernel=poly ..............................\n",
            "[CV] .. C=0.001, gamma=1000.0, kernel=poly, score=0.714, total=   0.0s\n",
            "[CV] C=0.001, gamma=1000.0, kernel=rbf ...............................\n",
            "[CV] ... C=0.001, gamma=1000.0, kernel=rbf, score=0.667, total=   0.0s\n",
            "[CV] C=0.001, gamma=1000.0, kernel=rbf ...............................\n",
            "[CV] ... C=0.001, gamma=1000.0, kernel=rbf, score=0.667, total=   0.0s\n",
            "[CV] C=0.001, gamma=1000.0, kernel=rbf ...............................\n",
            "[CV] ... C=0.001, gamma=1000.0, kernel=rbf, score=0.643, total=   0.0s\n",
            "[CV] C=0.001, gamma=1000.0, kernel=rbf ...............................\n",
            "[CV] ... C=0.001, gamma=1000.0, kernel=rbf, score=0.643, total=   0.0s\n",
            "[CV] C=0.001, gamma=1000.0, kernel=rbf ...............................\n",
            "[CV] ... C=0.001, gamma=1000.0, kernel=rbf, score=0.714, total=   0.0s\n",
            "[CV] C=0.001, gamma=1000.0, kernel=sigmoid ...........................\n",
            "[CV]  C=0.001, gamma=1000.0, kernel=sigmoid, score=0.667, total=   0.0s\n",
            "[CV] C=0.001, gamma=1000.0, kernel=sigmoid ...........................\n",
            "[CV]  C=0.001, gamma=1000.0, kernel=sigmoid, score=0.667, total=   0.0s\n",
            "[CV] C=0.001, gamma=1000.0, kernel=sigmoid ...........................\n",
            "[CV]  C=0.001, gamma=1000.0, kernel=sigmoid, score=0.643, total=   0.0s\n",
            "[CV] C=0.001, gamma=1000.0, kernel=sigmoid ...........................\n",
            "[CV]  C=0.001, gamma=1000.0, kernel=sigmoid, score=0.643, total=   0.0s\n",
            "[CV] C=0.001, gamma=1000.0, kernel=sigmoid ...........................\n",
            "[CV]  C=0.001, gamma=1000.0, kernel=sigmoid, score=0.714, total=   0.0s\n",
            "[CV] C=0.03162277660168379, gamma=0.001, kernel=linear ...............\n",
            "[CV]  C=0.03162277660168379, gamma=0.001, kernel=linear, score=0.733, total=   0.0s\n",
            "[CV] C=0.03162277660168379, gamma=0.001, kernel=linear ...............\n",
            "[CV]  C=0.03162277660168379, gamma=0.001, kernel=linear, score=0.867, total=   0.0s\n",
            "[CV] C=0.03162277660168379, gamma=0.001, kernel=linear ...............\n",
            "[CV]  C=0.03162277660168379, gamma=0.001, kernel=linear, score=0.929, total=   0.0s\n",
            "[CV] C=0.03162277660168379, gamma=0.001, kernel=linear ...............\n",
            "[CV]  C=0.03162277660168379, gamma=0.001, kernel=linear, score=0.786, total=   0.0s\n",
            "[CV] C=0.03162277660168379, gamma=0.001, kernel=linear ...............\n",
            "[CV]  C=0.03162277660168379, gamma=0.001, kernel=linear, score=0.857, total=   0.0s\n",
            "[CV] C=0.03162277660168379, gamma=0.001, kernel=rbf ..................\n",
            "[CV]  C=0.03162277660168379, gamma=0.001, kernel=rbf, score=0.667, total=   0.0s\n",
            "[CV] C=0.03162277660168379, gamma=0.001, kernel=rbf ..................\n",
            "[CV]  C=0.03162277660168379, gamma=0.001, kernel=rbf, score=0.667, total=   0.0s\n",
            "[CV] C=0.03162277660168379, gamma=0.001, kernel=rbf ..................\n",
            "[CV]  C=0.03162277660168379, gamma=0.001, kernel=rbf, score=0.643, total=   0.0s\n",
            "[CV] C=0.03162277660168379, gamma=0.001, kernel=rbf ..................\n",
            "[CV]  C=0.03162277660168379, gamma=0.001, kernel=rbf, score=0.643, total=   0.0s\n",
            "[CV] C=0.03162277660168379, gamma=0.001, kernel=rbf ..................\n",
            "[CV]  C=0.03162277660168379, gamma=0.001, kernel=rbf, score=0.714, total=   0.0s\n",
            "[CV] C=0.03162277660168379, gamma=0.001, kernel=poly .................\n",
            "[CV]  C=0.03162277660168379, gamma=0.001, kernel=poly, score=0.667, total=   0.0s\n",
            "[CV] C=0.03162277660168379, gamma=0.001, kernel=poly .................\n",
            "[CV]  C=0.03162277660168379, gamma=0.001, kernel=poly, score=0.667, total=   0.0s\n",
            "[CV] C=0.03162277660168379, gamma=0.001, kernel=poly .................\n",
            "[CV]  C=0.03162277660168379, gamma=0.001, kernel=poly, score=0.643, total=   0.0s\n",
            "[CV] C=0.03162277660168379, gamma=0.001, kernel=poly .................\n",
            "[CV]  C=0.03162277660168379, gamma=0.001, kernel=poly, score=0.643, total=   0.0s\n",
            "[CV] C=0.03162277660168379, gamma=0.001, kernel=poly .................\n",
            "[CV]  C=0.03162277660168379, gamma=0.001, kernel=poly, score=0.714, total=   0.0s\n",
            "[CV] C=0.03162277660168379, gamma=0.001, kernel=rbf ..................\n",
            "[CV]  C=0.03162277660168379, gamma=0.001, kernel=rbf, score=0.667, total=   0.0s\n",
            "[CV] C=0.03162277660168379, gamma=0.001, kernel=rbf ..................\n",
            "[CV]  C=0.03162277660168379, gamma=0.001, kernel=rbf, score=0.667, total=   0.0s\n",
            "[CV] C=0.03162277660168379, gamma=0.001, kernel=rbf ..................\n",
            "[CV]  C=0.03162277660168379, gamma=0.001, kernel=rbf, score=0.643, total=   0.0s\n",
            "[CV] C=0.03162277660168379, gamma=0.001, kernel=rbf ..................\n",
            "[CV]  C=0.03162277660168379, gamma=0.001, kernel=rbf, score=0.643, total=   0.0s\n",
            "[CV] C=0.03162277660168379, gamma=0.001, kernel=rbf ..................\n",
            "[CV]  C=0.03162277660168379, gamma=0.001, kernel=rbf, score=0.714, total=   0.0s\n",
            "[CV] C=0.03162277660168379, gamma=0.001, kernel=sigmoid ..............\n",
            "[CV]  C=0.03162277660168379, gamma=0.001, kernel=sigmoid, score=0.667, total=   0.0s\n",
            "[CV] C=0.03162277660168379, gamma=0.001, kernel=sigmoid ..............\n",
            "[CV]  C=0.03162277660168379, gamma=0.001, kernel=sigmoid, score=0.667, total=   0.0s\n",
            "[CV] C=0.03162277660168379, gamma=0.001, kernel=sigmoid ..............\n",
            "[CV]  C=0.03162277660168379, gamma=0.001, kernel=sigmoid, score=0.643, total=   0.0s\n",
            "[CV] C=0.03162277660168379, gamma=0.001, kernel=sigmoid ..............\n",
            "[CV]  C=0.03162277660168379, gamma=0.001, kernel=sigmoid, score=0.643, total=   0.0s\n",
            "[CV] C=0.03162277660168379, gamma=0.001, kernel=sigmoid ..............\n",
            "[CV]  C=0.03162277660168379, gamma=0.001, kernel=sigmoid, score=0.714, total=   0.0s\n",
            "[CV] C=0.03162277660168379, gamma=0.03162277660168379, kernel=linear .\n",
            "[CV]  C=0.03162277660168379, gamma=0.03162277660168379, kernel=linear, score=0.733, total=   0.0s\n",
            "[CV] C=0.03162277660168379, gamma=0.03162277660168379, kernel=linear .\n",
            "[CV]  C=0.03162277660168379, gamma=0.03162277660168379, kernel=linear, score=0.867, total=   0.0s\n",
            "[CV] C=0.03162277660168379, gamma=0.03162277660168379, kernel=linear .\n",
            "[CV]  C=0.03162277660168379, gamma=0.03162277660168379, kernel=linear, score=0.929, total=   0.0s\n",
            "[CV] C=0.03162277660168379, gamma=0.03162277660168379, kernel=linear .\n",
            "[CV]  C=0.03162277660168379, gamma=0.03162277660168379, kernel=linear, score=0.786, total=   0.0s\n",
            "[CV] C=0.03162277660168379, gamma=0.03162277660168379, kernel=linear .\n",
            "[CV]  C=0.03162277660168379, gamma=0.03162277660168379, kernel=linear, score=0.857, total=   0.0s\n",
            "[CV] C=0.03162277660168379, gamma=0.03162277660168379, kernel=rbf ....\n",
            "[CV]  C=0.03162277660168379, gamma=0.03162277660168379, kernel=rbf, score=0.667, total=   0.0s\n",
            "[CV] C=0.03162277660168379, gamma=0.03162277660168379, kernel=rbf ....\n",
            "[CV]  C=0.03162277660168379, gamma=0.03162277660168379, kernel=rbf, score=0.667, total=   0.0s\n",
            "[CV] C=0.03162277660168379, gamma=0.03162277660168379, kernel=rbf ....\n",
            "[CV]  C=0.03162277660168379, gamma=0.03162277660168379, kernel=rbf, score=0.643, total=   0.0s\n",
            "[CV] C=0.03162277660168379, gamma=0.03162277660168379, kernel=rbf ....\n",
            "[CV]  C=0.03162277660168379, gamma=0.03162277660168379, kernel=rbf, score=0.643, total=   0.0s\n",
            "[CV] C=0.03162277660168379, gamma=0.03162277660168379, kernel=rbf ....\n",
            "[CV]  C=0.03162277660168379, gamma=0.03162277660168379, kernel=rbf, score=0.714, total=   0.0s\n",
            "[CV] C=0.03162277660168379, gamma=0.03162277660168379, kernel=poly ...\n",
            "[CV]  C=0.03162277660168379, gamma=0.03162277660168379, kernel=poly, score=0.667, total=   0.0s\n",
            "[CV] C=0.03162277660168379, gamma=0.03162277660168379, kernel=poly ...\n",
            "[CV]  C=0.03162277660168379, gamma=0.03162277660168379, kernel=poly, score=0.667, total=   0.0s\n",
            "[CV] C=0.03162277660168379, gamma=0.03162277660168379, kernel=poly ...\n",
            "[CV]  C=0.03162277660168379, gamma=0.03162277660168379, kernel=poly, score=0.643, total=   0.0s\n",
            "[CV] C=0.03162277660168379, gamma=0.03162277660168379, kernel=poly ...\n",
            "[CV]  C=0.03162277660168379, gamma=0.03162277660168379, kernel=poly, score=0.643, total=   0.0s\n",
            "[CV] C=0.03162277660168379, gamma=0.03162277660168379, kernel=poly ...\n",
            "[CV]  C=0.03162277660168379, gamma=0.03162277660168379, kernel=poly, score=0.714, total=   0.0s\n",
            "[CV] C=0.03162277660168379, gamma=0.03162277660168379, kernel=rbf ....\n",
            "[CV]  C=0.03162277660168379, gamma=0.03162277660168379, kernel=rbf, score=0.667, total=   0.0s\n",
            "[CV] C=0.03162277660168379, gamma=0.03162277660168379, kernel=rbf ....\n",
            "[CV]  C=0.03162277660168379, gamma=0.03162277660168379, kernel=rbf, score=0.667, total=   0.0s\n",
            "[CV] C=0.03162277660168379, gamma=0.03162277660168379, kernel=rbf ....\n",
            "[CV]  C=0.03162277660168379, gamma=0.03162277660168379, kernel=rbf, score=0.643, total=   0.0s\n",
            "[CV] C=0.03162277660168379, gamma=0.03162277660168379, kernel=rbf ....\n",
            "[CV]  C=0.03162277660168379, gamma=0.03162277660168379, kernel=rbf, score=0.643, total=   0.0s\n",
            "[CV] C=0.03162277660168379, gamma=0.03162277660168379, kernel=rbf ....\n",
            "[CV]  C=0.03162277660168379, gamma=0.03162277660168379, kernel=rbf, score=0.714, total=   0.0s\n",
            "[CV] C=0.03162277660168379, gamma=0.03162277660168379, kernel=sigmoid \n",
            "[CV]  C=0.03162277660168379, gamma=0.03162277660168379, kernel=sigmoid, score=0.667, total=   0.0s\n",
            "[CV] C=0.03162277660168379, gamma=0.03162277660168379, kernel=sigmoid \n",
            "[CV]  C=0.03162277660168379, gamma=0.03162277660168379, kernel=sigmoid, score=0.667, total=   0.0s\n",
            "[CV] C=0.03162277660168379, gamma=0.03162277660168379, kernel=sigmoid \n",
            "[CV]  C=0.03162277660168379, gamma=0.03162277660168379, kernel=sigmoid, score=0.643, total=   0.0s\n",
            "[CV] C=0.03162277660168379, gamma=0.03162277660168379, kernel=sigmoid \n",
            "[CV]  C=0.03162277660168379, gamma=0.03162277660168379, kernel=sigmoid, score=0.643, total=   0.0s\n",
            "[CV] C=0.03162277660168379, gamma=0.03162277660168379, kernel=sigmoid \n",
            "[CV]  C=0.03162277660168379, gamma=0.03162277660168379, kernel=sigmoid, score=0.714, total=   0.0s\n",
            "[CV] C=0.03162277660168379, gamma=1.0, kernel=linear .................\n",
            "[CV]  C=0.03162277660168379, gamma=1.0, kernel=linear, score=0.733, total=   0.0s\n",
            "[CV] C=0.03162277660168379, gamma=1.0, kernel=linear .................\n",
            "[CV]  C=0.03162277660168379, gamma=1.0, kernel=linear, score=0.867, total=   0.0s\n",
            "[CV] C=0.03162277660168379, gamma=1.0, kernel=linear .................\n",
            "[CV]  C=0.03162277660168379, gamma=1.0, kernel=linear, score=0.929, total=   0.0s\n",
            "[CV] C=0.03162277660168379, gamma=1.0, kernel=linear .................\n",
            "[CV]  C=0.03162277660168379, gamma=1.0, kernel=linear, score=0.786, total=   0.0s\n",
            "[CV] C=0.03162277660168379, gamma=1.0, kernel=linear .................\n",
            "[CV]  C=0.03162277660168379, gamma=1.0, kernel=linear, score=0.857, total=   0.0s\n",
            "[CV] C=0.03162277660168379, gamma=1.0, kernel=rbf ....................\n",
            "[CV]  C=0.03162277660168379, gamma=1.0, kernel=rbf, score=0.667, total=   0.0s\n",
            "[CV] C=0.03162277660168379, gamma=1.0, kernel=rbf ....................\n",
            "[CV]  C=0.03162277660168379, gamma=1.0, kernel=rbf, score=0.667, total=   0.0s\n",
            "[CV] C=0.03162277660168379, gamma=1.0, kernel=rbf ....................\n",
            "[CV]  C=0.03162277660168379, gamma=1.0, kernel=rbf, score=0.643, total=   0.0s\n",
            "[CV] C=0.03162277660168379, gamma=1.0, kernel=rbf ....................\n",
            "[CV]  C=0.03162277660168379, gamma=1.0, kernel=rbf, score=0.643, total=   0.0s\n",
            "[CV] C=0.03162277660168379, gamma=1.0, kernel=rbf ....................\n",
            "[CV]  C=0.03162277660168379, gamma=1.0, kernel=rbf, score=0.714, total=   0.0s\n",
            "[CV] C=0.03162277660168379, gamma=1.0, kernel=poly ...................\n",
            "[CV]  C=0.03162277660168379, gamma=1.0, kernel=poly, score=0.600, total=   0.0s\n",
            "[CV] C=0.03162277660168379, gamma=1.0, kernel=poly ...................\n",
            "[CV]  C=0.03162277660168379, gamma=1.0, kernel=poly, score=0.600, total=   0.0s\n",
            "[CV] C=0.03162277660168379, gamma=1.0, kernel=poly ...................\n",
            "[CV]  C=0.03162277660168379, gamma=1.0, kernel=poly, score=0.643, total=   0.0s\n",
            "[CV] C=0.03162277660168379, gamma=1.0, kernel=poly ...................\n",
            "[CV]  C=0.03162277660168379, gamma=1.0, kernel=poly, score=0.643, total=   0.0s\n",
            "[CV] C=0.03162277660168379, gamma=1.0, kernel=poly ...................\n",
            "[CV]  C=0.03162277660168379, gamma=1.0, kernel=poly, score=0.714, total=   0.0s\n",
            "[CV] C=0.03162277660168379, gamma=1.0, kernel=rbf ....................\n",
            "[CV]  C=0.03162277660168379, gamma=1.0, kernel=rbf, score=0.667, total=   0.0s\n",
            "[CV] C=0.03162277660168379, gamma=1.0, kernel=rbf ....................\n",
            "[CV]  C=0.03162277660168379, gamma=1.0, kernel=rbf, score=0.667, total=   0.0s\n",
            "[CV] C=0.03162277660168379, gamma=1.0, kernel=rbf ....................\n",
            "[CV]  C=0.03162277660168379, gamma=1.0, kernel=rbf, score=0.643, total=   0.0s\n",
            "[CV] C=0.03162277660168379, gamma=1.0, kernel=rbf ....................\n",
            "[CV]  C=0.03162277660168379, gamma=1.0, kernel=rbf, score=0.643, total=   0.0s\n",
            "[CV] C=0.03162277660168379, gamma=1.0, kernel=rbf ....................\n",
            "[CV]  C=0.03162277660168379, gamma=1.0, kernel=rbf, score=0.714, total=   0.0s\n",
            "[CV] C=0.03162277660168379, gamma=1.0, kernel=sigmoid ................\n",
            "[CV]  C=0.03162277660168379, gamma=1.0, kernel=sigmoid, score=0.667, total=   0.0s\n",
            "[CV] C=0.03162277660168379, gamma=1.0, kernel=sigmoid ................\n",
            "[CV]  C=0.03162277660168379, gamma=1.0, kernel=sigmoid, score=0.667, total=   0.0s\n",
            "[CV] C=0.03162277660168379, gamma=1.0, kernel=sigmoid ................\n",
            "[CV]  C=0.03162277660168379, gamma=1.0, kernel=sigmoid, score=0.643, total=   0.0s\n",
            "[CV] C=0.03162277660168379, gamma=1.0, kernel=sigmoid ................\n",
            "[CV]  C=0.03162277660168379, gamma=1.0, kernel=sigmoid, score=0.714, total=   0.0s\n",
            "[CV] C=0.03162277660168379, gamma=1.0, kernel=sigmoid ................\n",
            "[CV]  C=0.03162277660168379, gamma=1.0, kernel=sigmoid, score=0.714, total=   0.0s\n",
            "[CV] C=0.03162277660168379, gamma=31.622776601683793, kernel=linear ..\n",
            "[CV]  C=0.03162277660168379, gamma=31.622776601683793, kernel=linear, score=0.733, total=   0.0s\n",
            "[CV] C=0.03162277660168379, gamma=31.622776601683793, kernel=linear ..\n",
            "[CV]  C=0.03162277660168379, gamma=31.622776601683793, kernel=linear, score=0.867, total=   0.0s\n",
            "[CV] C=0.03162277660168379, gamma=31.622776601683793, kernel=linear ..\n",
            "[CV]  C=0.03162277660168379, gamma=31.622776601683793, kernel=linear, score=0.929, total=   0.0s\n",
            "[CV] C=0.03162277660168379, gamma=31.622776601683793, kernel=linear ..\n",
            "[CV]  C=0.03162277660168379, gamma=31.622776601683793, kernel=linear, score=0.786, total=   0.0s\n",
            "[CV] C=0.03162277660168379, gamma=31.622776601683793, kernel=linear ..\n",
            "[CV]  C=0.03162277660168379, gamma=31.622776601683793, kernel=linear, score=0.857, total=   0.0s\n",
            "[CV] C=0.03162277660168379, gamma=31.622776601683793, kernel=rbf .....\n",
            "[CV]  C=0.03162277660168379, gamma=31.622776601683793, kernel=rbf, score=0.667, total=   0.0s\n",
            "[CV] C=0.03162277660168379, gamma=31.622776601683793, kernel=rbf .....\n",
            "[CV]  C=0.03162277660168379, gamma=31.622776601683793, kernel=rbf, score=0.667, total=   0.0s\n",
            "[CV] C=0.03162277660168379, gamma=31.622776601683793, kernel=rbf .....\n",
            "[CV]  C=0.03162277660168379, gamma=31.622776601683793, kernel=rbf, score=0.643, total=   0.0s\n",
            "[CV] C=0.03162277660168379, gamma=31.622776601683793, kernel=rbf .....\n",
            "[CV]  C=0.03162277660168379, gamma=31.622776601683793, kernel=rbf, score=0.643, total=   0.0s\n",
            "[CV] C=0.03162277660168379, gamma=31.622776601683793, kernel=rbf .....\n",
            "[CV]  C=0.03162277660168379, gamma=31.622776601683793, kernel=rbf, score=0.714, total=   0.0s\n",
            "[CV] C=0.03162277660168379, gamma=31.622776601683793, kernel=poly ....\n",
            "[CV]  C=0.03162277660168379, gamma=31.622776601683793, kernel=poly, score=0.600, total=   0.0s\n",
            "[CV] C=0.03162277660168379, gamma=31.622776601683793, kernel=poly ....\n",
            "[CV]  C=0.03162277660168379, gamma=31.622776601683793, kernel=poly, score=0.600, total=   0.0s\n",
            "[CV] C=0.03162277660168379, gamma=31.622776601683793, kernel=poly ....\n",
            "[CV]  C=0.03162277660168379, gamma=31.622776601683793, kernel=poly, score=0.643, total=   0.0s\n",
            "[CV] C=0.03162277660168379, gamma=31.622776601683793, kernel=poly ....\n",
            "[CV]  C=0.03162277660168379, gamma=31.622776601683793, kernel=poly, score=0.643, total=   0.0s\n",
            "[CV] C=0.03162277660168379, gamma=31.622776601683793, kernel=poly ....\n",
            "[CV]  C=0.03162277660168379, gamma=31.622776601683793, kernel=poly, score=0.714, total=   0.0s\n",
            "[CV] C=0.03162277660168379, gamma=31.622776601683793, kernel=rbf .....\n",
            "[CV]  C=0.03162277660168379, gamma=31.622776601683793, kernel=rbf, score=0.667, total=   0.0s\n",
            "[CV] C=0.03162277660168379, gamma=31.622776601683793, kernel=rbf .....\n",
            "[CV]  C=0.03162277660168379, gamma=31.622776601683793, kernel=rbf, score=0.667, total=   0.0s\n",
            "[CV] C=0.03162277660168379, gamma=31.622776601683793, kernel=rbf .....\n",
            "[CV]  C=0.03162277660168379, gamma=31.622776601683793, kernel=rbf, score=0.643, total=   0.0s\n",
            "[CV] C=0.03162277660168379, gamma=31.622776601683793, kernel=rbf .....\n",
            "[CV]  C=0.03162277660168379, gamma=31.622776601683793, kernel=rbf, score=0.643, total=   0.0s\n",
            "[CV] C=0.03162277660168379, gamma=31.622776601683793, kernel=rbf .....\n",
            "[CV]  C=0.03162277660168379, gamma=31.622776601683793, kernel=rbf, score=0.714, total=   0.0s\n",
            "[CV] C=0.03162277660168379, gamma=31.622776601683793, kernel=sigmoid .\n",
            "[CV]  C=0.03162277660168379, gamma=31.622776601683793, kernel=sigmoid, score=0.667, total=   0.0s\n",
            "[CV] C=0.03162277660168379, gamma=31.622776601683793, kernel=sigmoid .\n",
            "[CV]  C=0.03162277660168379, gamma=31.622776601683793, kernel=sigmoid, score=0.667, total=   0.0s\n",
            "[CV] C=0.03162277660168379, gamma=31.622776601683793, kernel=sigmoid .\n",
            "[CV]  C=0.03162277660168379, gamma=31.622776601683793, kernel=sigmoid, score=0.643, total=   0.0s\n",
            "[CV] C=0.03162277660168379, gamma=31.622776601683793, kernel=sigmoid .\n",
            "[CV]  C=0.03162277660168379, gamma=31.622776601683793, kernel=sigmoid, score=0.643, total=   0.0s\n",
            "[CV] C=0.03162277660168379, gamma=31.622776601683793, kernel=sigmoid .\n",
            "[CV]  C=0.03162277660168379, gamma=31.622776601683793, kernel=sigmoid, score=0.714, total=   0.0s\n",
            "[CV] C=0.03162277660168379, gamma=1000.0, kernel=linear ..............\n",
            "[CV]  C=0.03162277660168379, gamma=1000.0, kernel=linear, score=0.733, total=   0.0s\n",
            "[CV] C=0.03162277660168379, gamma=1000.0, kernel=linear ..............\n",
            "[CV]  C=0.03162277660168379, gamma=1000.0, kernel=linear, score=0.867, total=   0.0s\n",
            "[CV] C=0.03162277660168379, gamma=1000.0, kernel=linear ..............\n",
            "[CV]  C=0.03162277660168379, gamma=1000.0, kernel=linear, score=0.929, total=   0.0s\n",
            "[CV] C=0.03162277660168379, gamma=1000.0, kernel=linear ..............\n",
            "[CV]  C=0.03162277660168379, gamma=1000.0, kernel=linear, score=0.786, total=   0.0s\n",
            "[CV] C=0.03162277660168379, gamma=1000.0, kernel=linear ..............\n",
            "[CV]  C=0.03162277660168379, gamma=1000.0, kernel=linear, score=0.857, total=   0.0s\n",
            "[CV] C=0.03162277660168379, gamma=1000.0, kernel=rbf .................\n",
            "[CV]  C=0.03162277660168379, gamma=1000.0, kernel=rbf, score=0.667, total=   0.0s\n",
            "[CV] C=0.03162277660168379, gamma=1000.0, kernel=rbf .................\n",
            "[CV]  C=0.03162277660168379, gamma=1000.0, kernel=rbf, score=0.667, total=   0.0s\n",
            "[CV] C=0.03162277660168379, gamma=1000.0, kernel=rbf .................\n",
            "[CV]  C=0.03162277660168379, gamma=1000.0, kernel=rbf, score=0.643, total=   0.0s\n",
            "[CV] C=0.03162277660168379, gamma=1000.0, kernel=rbf .................\n",
            "[CV]  C=0.03162277660168379, gamma=1000.0, kernel=rbf, score=0.643, total=   0.0s\n",
            "[CV] C=0.03162277660168379, gamma=1000.0, kernel=rbf .................\n",
            "[CV]  C=0.03162277660168379, gamma=1000.0, kernel=rbf, score=0.714, total=   0.0s\n",
            "[CV] C=0.03162277660168379, gamma=1000.0, kernel=poly ................\n",
            "[CV]  C=0.03162277660168379, gamma=1000.0, kernel=poly, score=0.600, total=   0.0s\n",
            "[CV] C=0.03162277660168379, gamma=1000.0, kernel=poly ................\n",
            "[CV]  C=0.03162277660168379, gamma=1000.0, kernel=poly, score=0.600, total=   0.0s\n",
            "[CV] C=0.03162277660168379, gamma=1000.0, kernel=poly ................\n",
            "[CV]  C=0.03162277660168379, gamma=1000.0, kernel=poly, score=0.643, total=   0.0s\n",
            "[CV] C=0.03162277660168379, gamma=1000.0, kernel=poly ................\n",
            "[CV]  C=0.03162277660168379, gamma=1000.0, kernel=poly, score=0.643, total=   0.0s\n",
            "[CV] C=0.03162277660168379, gamma=1000.0, kernel=poly ................\n",
            "[CV]  C=0.03162277660168379, gamma=1000.0, kernel=poly, score=0.714, total=   0.0s\n",
            "[CV] C=0.03162277660168379, gamma=1000.0, kernel=rbf .................\n",
            "[CV]  C=0.03162277660168379, gamma=1000.0, kernel=rbf, score=0.667, total=   0.0s\n",
            "[CV] C=0.03162277660168379, gamma=1000.0, kernel=rbf .................\n",
            "[CV]  C=0.03162277660168379, gamma=1000.0, kernel=rbf, score=0.667, total=   0.0s\n",
            "[CV] C=0.03162277660168379, gamma=1000.0, kernel=rbf .................\n",
            "[CV]  C=0.03162277660168379, gamma=1000.0, kernel=rbf, score=0.643, total=   0.0s\n",
            "[CV] C=0.03162277660168379, gamma=1000.0, kernel=rbf .................\n",
            "[CV]  C=0.03162277660168379, gamma=1000.0, kernel=rbf, score=0.643, total=   0.0s\n",
            "[CV] C=0.03162277660168379, gamma=1000.0, kernel=rbf .................\n",
            "[CV]  C=0.03162277660168379, gamma=1000.0, kernel=rbf, score=0.714, total=   0.0s\n",
            "[CV] C=0.03162277660168379, gamma=1000.0, kernel=sigmoid .............\n",
            "[CV]  C=0.03162277660168379, gamma=1000.0, kernel=sigmoid, score=0.667, total=   0.0s\n",
            "[CV] C=0.03162277660168379, gamma=1000.0, kernel=sigmoid .............\n",
            "[CV]  C=0.03162277660168379, gamma=1000.0, kernel=sigmoid, score=0.667, total=   0.0s\n",
            "[CV] C=0.03162277660168379, gamma=1000.0, kernel=sigmoid .............\n",
            "[CV]  C=0.03162277660168379, gamma=1000.0, kernel=sigmoid, score=0.643, total=   0.0s\n",
            "[CV] C=0.03162277660168379, gamma=1000.0, kernel=sigmoid .............\n",
            "[CV]  C=0.03162277660168379, gamma=1000.0, kernel=sigmoid, score=0.643, total=   0.0s\n",
            "[CV] C=0.03162277660168379, gamma=1000.0, kernel=sigmoid .............\n",
            "[CV]  C=0.03162277660168379, gamma=1000.0, kernel=sigmoid, score=0.714, total=   0.0s\n",
            "[CV] C=1.0, gamma=0.001, kernel=linear ...............................\n",
            "[CV] ... C=1.0, gamma=0.001, kernel=linear, score=0.600, total=   0.0s\n",
            "[CV] C=1.0, gamma=0.001, kernel=linear ...............................\n",
            "[CV] ... C=1.0, gamma=0.001, kernel=linear, score=0.733, total=   0.0s\n",
            "[CV] C=1.0, gamma=0.001, kernel=linear ...............................\n",
            "[CV] ... C=1.0, gamma=0.001, kernel=linear, score=0.929, total=   0.0s\n",
            "[CV] C=1.0, gamma=0.001, kernel=linear ...............................\n",
            "[CV] ... C=1.0, gamma=0.001, kernel=linear, score=0.786, total=   0.0s\n",
            "[CV] C=1.0, gamma=0.001, kernel=linear ...............................\n",
            "[CV] ... C=1.0, gamma=0.001, kernel=linear, score=0.857, total=   0.0s\n",
            "[CV] C=1.0, gamma=0.001, kernel=rbf ..................................\n",
            "[CV] ...... C=1.0, gamma=0.001, kernel=rbf, score=0.667, total=   0.0s\n",
            "[CV] C=1.0, gamma=0.001, kernel=rbf ..................................\n",
            "[CV] ...... C=1.0, gamma=0.001, kernel=rbf, score=0.667, total=   0.0s\n",
            "[CV] C=1.0, gamma=0.001, kernel=rbf ..................................\n",
            "[CV] ...... C=1.0, gamma=0.001, kernel=rbf, score=0.643, total=   0.0s\n",
            "[CV] C=1.0, gamma=0.001, kernel=rbf ..................................\n",
            "[CV] ...... C=1.0, gamma=0.001, kernel=rbf, score=0.643, total=   0.0s\n",
            "[CV] C=1.0, gamma=0.001, kernel=rbf ..................................\n",
            "[CV] ...... C=1.0, gamma=0.001, kernel=rbf, score=0.714, total=   0.0s\n",
            "[CV] C=1.0, gamma=0.001, kernel=poly .................................\n",
            "[CV] ..... C=1.0, gamma=0.001, kernel=poly, score=0.667, total=   0.0s\n",
            "[CV] C=1.0, gamma=0.001, kernel=poly .................................\n",
            "[CV] ..... C=1.0, gamma=0.001, kernel=poly, score=0.667, total=   0.0s\n",
            "[CV] C=1.0, gamma=0.001, kernel=poly .................................\n",
            "[CV] ..... C=1.0, gamma=0.001, kernel=poly, score=0.643, total=   0.0s\n",
            "[CV] C=1.0, gamma=0.001, kernel=poly .................................\n",
            "[CV] ..... C=1.0, gamma=0.001, kernel=poly, score=0.643, total=   0.0s\n",
            "[CV] C=1.0, gamma=0.001, kernel=poly .................................\n",
            "[CV] ..... C=1.0, gamma=0.001, kernel=poly, score=0.714, total=   0.0s\n",
            "[CV] C=1.0, gamma=0.001, kernel=rbf ..................................\n",
            "[CV] ...... C=1.0, gamma=0.001, kernel=rbf, score=0.667, total=   0.0s\n",
            "[CV] C=1.0, gamma=0.001, kernel=rbf ..................................\n",
            "[CV] ...... C=1.0, gamma=0.001, kernel=rbf, score=0.667, total=   0.0s\n",
            "[CV] C=1.0, gamma=0.001, kernel=rbf ..................................\n",
            "[CV] ...... C=1.0, gamma=0.001, kernel=rbf, score=0.643, total=   0.0s\n",
            "[CV] C=1.0, gamma=0.001, kernel=rbf ..................................\n",
            "[CV] ...... C=1.0, gamma=0.001, kernel=rbf, score=0.643, total=   0.0s\n",
            "[CV] C=1.0, gamma=0.001, kernel=rbf ..................................\n",
            "[CV] ...... C=1.0, gamma=0.001, kernel=rbf, score=0.714, total=   0.0s\n",
            "[CV] C=1.0, gamma=0.001, kernel=sigmoid ..............................\n",
            "[CV] .. C=1.0, gamma=0.001, kernel=sigmoid, score=0.667, total=   0.0s\n",
            "[CV] C=1.0, gamma=0.001, kernel=sigmoid ..............................\n",
            "[CV] .. C=1.0, gamma=0.001, kernel=sigmoid, score=0.667, total=   0.0s\n",
            "[CV] C=1.0, gamma=0.001, kernel=sigmoid ..............................\n",
            "[CV] .. C=1.0, gamma=0.001, kernel=sigmoid, score=0.643, total=   0.0s\n",
            "[CV] C=1.0, gamma=0.001, kernel=sigmoid ..............................\n",
            "[CV] .. C=1.0, gamma=0.001, kernel=sigmoid, score=0.643, total=   0.0s\n",
            "[CV] C=1.0, gamma=0.001, kernel=sigmoid ..............................\n",
            "[CV] .. C=1.0, gamma=0.001, kernel=sigmoid, score=0.714, total=   0.0s\n",
            "[CV] C=1.0, gamma=0.03162277660168379, kernel=linear .................\n",
            "[CV]  C=1.0, gamma=0.03162277660168379, kernel=linear, score=0.600, total=   0.0s\n",
            "[CV] C=1.0, gamma=0.03162277660168379, kernel=linear .................\n",
            "[CV]  C=1.0, gamma=0.03162277660168379, kernel=linear, score=0.733, total=   0.0s\n",
            "[CV] C=1.0, gamma=0.03162277660168379, kernel=linear .................\n",
            "[CV]  C=1.0, gamma=0.03162277660168379, kernel=linear, score=0.929, total=   0.0s\n",
            "[CV] C=1.0, gamma=0.03162277660168379, kernel=linear .................\n",
            "[CV]  C=1.0, gamma=0.03162277660168379, kernel=linear, score=0.786, total=   0.0s\n",
            "[CV] C=1.0, gamma=0.03162277660168379, kernel=linear .................\n",
            "[CV]  C=1.0, gamma=0.03162277660168379, kernel=linear, score=0.857, total=   0.0s\n",
            "[CV] C=1.0, gamma=0.03162277660168379, kernel=rbf ....................\n",
            "[CV]  C=1.0, gamma=0.03162277660168379, kernel=rbf, score=0.667, total=   0.0s\n",
            "[CV] C=1.0, gamma=0.03162277660168379, kernel=rbf ....................\n",
            "[CV]  C=1.0, gamma=0.03162277660168379, kernel=rbf, score=0.667, total=   0.0s\n",
            "[CV] C=1.0, gamma=0.03162277660168379, kernel=rbf ....................\n",
            "[CV]  C=1.0, gamma=0.03162277660168379, kernel=rbf, score=0.643, total=   0.0s\n",
            "[CV] C=1.0, gamma=0.03162277660168379, kernel=rbf ....................\n",
            "[CV]  C=1.0, gamma=0.03162277660168379, kernel=rbf, score=0.643, total=   0.0s\n",
            "[CV] C=1.0, gamma=0.03162277660168379, kernel=rbf ....................\n",
            "[CV]  C=1.0, gamma=0.03162277660168379, kernel=rbf, score=0.714, total=   0.0s\n",
            "[CV] C=1.0, gamma=0.03162277660168379, kernel=poly ...................\n",
            "[CV]  C=1.0, gamma=0.03162277660168379, kernel=poly, score=0.600, total=   0.0s\n",
            "[CV] C=1.0, gamma=0.03162277660168379, kernel=poly ...................\n",
            "[CV]  C=1.0, gamma=0.03162277660168379, kernel=poly, score=0.600, total=   0.0s\n",
            "[CV] C=1.0, gamma=0.03162277660168379, kernel=poly ...................\n",
            "[CV]  C=1.0, gamma=0.03162277660168379, kernel=poly, score=0.643, total=   0.0s\n",
            "[CV] C=1.0, gamma=0.03162277660168379, kernel=poly ...................\n",
            "[CV]  C=1.0, gamma=0.03162277660168379, kernel=poly, score=0.643, total=   0.0s\n",
            "[CV] C=1.0, gamma=0.03162277660168379, kernel=poly ...................\n",
            "[CV]  C=1.0, gamma=0.03162277660168379, kernel=poly, score=0.714, total=   0.0s\n",
            "[CV] C=1.0, gamma=0.03162277660168379, kernel=rbf ....................\n",
            "[CV]  C=1.0, gamma=0.03162277660168379, kernel=rbf, score=0.667, total=   0.0s\n",
            "[CV] C=1.0, gamma=0.03162277660168379, kernel=rbf ....................\n",
            "[CV]  C=1.0, gamma=0.03162277660168379, kernel=rbf, score=0.667, total=   0.0s\n",
            "[CV] C=1.0, gamma=0.03162277660168379, kernel=rbf ....................\n",
            "[CV]  C=1.0, gamma=0.03162277660168379, kernel=rbf, score=0.643, total=   0.0s\n",
            "[CV] C=1.0, gamma=0.03162277660168379, kernel=rbf ....................\n",
            "[CV]  C=1.0, gamma=0.03162277660168379, kernel=rbf, score=0.643, total=   0.0s\n",
            "[CV] C=1.0, gamma=0.03162277660168379, kernel=rbf ....................\n",
            "[CV]  C=1.0, gamma=0.03162277660168379, kernel=rbf, score=0.714, total=   0.0s\n",
            "[CV] C=1.0, gamma=0.03162277660168379, kernel=sigmoid ................\n",
            "[CV]  C=1.0, gamma=0.03162277660168379, kernel=sigmoid, score=0.733, total=   0.0s\n",
            "[CV] C=1.0, gamma=0.03162277660168379, kernel=sigmoid ................\n",
            "[CV]  C=1.0, gamma=0.03162277660168379, kernel=sigmoid, score=0.867, total=   0.0s\n",
            "[CV] C=1.0, gamma=0.03162277660168379, kernel=sigmoid ................\n",
            "[CV]  C=1.0, gamma=0.03162277660168379, kernel=sigmoid, score=0.929, total=   0.0s\n",
            "[CV] C=1.0, gamma=0.03162277660168379, kernel=sigmoid ................\n",
            "[CV]  C=1.0, gamma=0.03162277660168379, kernel=sigmoid, score=0.786, total=   0.0s\n",
            "[CV] C=1.0, gamma=0.03162277660168379, kernel=sigmoid ................\n",
            "[CV]  C=1.0, gamma=0.03162277660168379, kernel=sigmoid, score=0.786, total=   0.0s\n",
            "[CV] C=1.0, gamma=1.0, kernel=linear .................................\n",
            "[CV] ..... C=1.0, gamma=1.0, kernel=linear, score=0.600, total=   0.0s\n",
            "[CV] C=1.0, gamma=1.0, kernel=linear .................................\n",
            "[CV] ..... C=1.0, gamma=1.0, kernel=linear, score=0.733, total=   0.0s\n",
            "[CV] C=1.0, gamma=1.0, kernel=linear .................................\n",
            "[CV] ..... C=1.0, gamma=1.0, kernel=linear, score=0.929, total=   0.0s\n",
            "[CV] C=1.0, gamma=1.0, kernel=linear .................................\n",
            "[CV] ..... C=1.0, gamma=1.0, kernel=linear, score=0.786, total=   0.0s\n",
            "[CV] C=1.0, gamma=1.0, kernel=linear .................................\n",
            "[CV] ..... C=1.0, gamma=1.0, kernel=linear, score=0.857, total=   0.0s\n",
            "[CV] C=1.0, gamma=1.0, kernel=rbf ....................................\n",
            "[CV] ........ C=1.0, gamma=1.0, kernel=rbf, score=0.667, total=   0.0s\n",
            "[CV] C=1.0, gamma=1.0, kernel=rbf ....................................\n",
            "[CV] ........ C=1.0, gamma=1.0, kernel=rbf, score=0.667, total=   0.0s\n",
            "[CV] C=1.0, gamma=1.0, kernel=rbf ....................................\n",
            "[CV] ........ C=1.0, gamma=1.0, kernel=rbf, score=0.643, total=   0.0s\n",
            "[CV] C=1.0, gamma=1.0, kernel=rbf ....................................\n",
            "[CV] ........ C=1.0, gamma=1.0, kernel=rbf, score=0.643, total=   0.0s\n",
            "[CV] C=1.0, gamma=1.0, kernel=rbf ....................................\n",
            "[CV] ........ C=1.0, gamma=1.0, kernel=rbf, score=0.714, total=   0.0s\n",
            "[CV] C=1.0, gamma=1.0, kernel=poly ...................................\n",
            "[CV] ....... C=1.0, gamma=1.0, kernel=poly, score=0.600, total=   0.0s\n",
            "[CV] C=1.0, gamma=1.0, kernel=poly ...................................\n",
            "[CV] ....... C=1.0, gamma=1.0, kernel=poly, score=0.600, total=   0.0s\n",
            "[CV] C=1.0, gamma=1.0, kernel=poly ...................................\n",
            "[CV] ....... C=1.0, gamma=1.0, kernel=poly, score=0.643, total=   0.0s\n",
            "[CV] C=1.0, gamma=1.0, kernel=poly ...................................\n",
            "[CV] ....... C=1.0, gamma=1.0, kernel=poly, score=0.643, total=   0.0s\n",
            "[CV] C=1.0, gamma=1.0, kernel=poly ...................................\n",
            "[CV] ....... C=1.0, gamma=1.0, kernel=poly, score=0.714, total=   0.0s\n",
            "[CV] C=1.0, gamma=1.0, kernel=rbf ....................................\n",
            "[CV] ........ C=1.0, gamma=1.0, kernel=rbf, score=0.667, total=   0.0s\n",
            "[CV] C=1.0, gamma=1.0, kernel=rbf ....................................\n",
            "[CV] ........ C=1.0, gamma=1.0, kernel=rbf, score=0.667, total=   0.0s\n",
            "[CV] C=1.0, gamma=1.0, kernel=rbf ....................................\n",
            "[CV] ........ C=1.0, gamma=1.0, kernel=rbf, score=0.643, total=   0.0s\n",
            "[CV] C=1.0, gamma=1.0, kernel=rbf ....................................\n",
            "[CV] ........ C=1.0, gamma=1.0, kernel=rbf, score=0.643, total=   0.0s\n",
            "[CV] C=1.0, gamma=1.0, kernel=rbf ....................................\n",
            "[CV] ........ C=1.0, gamma=1.0, kernel=rbf, score=0.714, total=   0.0s\n",
            "[CV] C=1.0, gamma=1.0, kernel=sigmoid ................................\n",
            "[CV] .... C=1.0, gamma=1.0, kernel=sigmoid, score=0.600, total=   0.0s\n",
            "[CV] C=1.0, gamma=1.0, kernel=sigmoid ................................\n",
            "[CV] .... C=1.0, gamma=1.0, kernel=sigmoid, score=0.667, total=   0.0s\n",
            "[CV] C=1.0, gamma=1.0, kernel=sigmoid ................................\n",
            "[CV] .... C=1.0, gamma=1.0, kernel=sigmoid, score=0.786, total=   0.0s\n",
            "[CV] C=1.0, gamma=1.0, kernel=sigmoid ................................\n",
            "[CV] .... C=1.0, gamma=1.0, kernel=sigmoid, score=0.643, total=   0.0s\n",
            "[CV] C=1.0, gamma=1.0, kernel=sigmoid ................................\n",
            "[CV] .... C=1.0, gamma=1.0, kernel=sigmoid, score=0.786, total=   0.0s\n",
            "[CV] C=1.0, gamma=31.622776601683793, kernel=linear ..................\n",
            "[CV]  C=1.0, gamma=31.622776601683793, kernel=linear, score=0.600, total=   0.0s\n",
            "[CV] C=1.0, gamma=31.622776601683793, kernel=linear ..................\n",
            "[CV]  C=1.0, gamma=31.622776601683793, kernel=linear, score=0.733, total=   0.0s\n",
            "[CV] C=1.0, gamma=31.622776601683793, kernel=linear ..................\n",
            "[CV]  C=1.0, gamma=31.622776601683793, kernel=linear, score=0.929, total=   0.0s\n",
            "[CV] C=1.0, gamma=31.622776601683793, kernel=linear ..................\n",
            "[CV]  C=1.0, gamma=31.622776601683793, kernel=linear, score=0.786, total=   0.0s\n",
            "[CV] C=1.0, gamma=31.622776601683793, kernel=linear ..................\n",
            "[CV]  C=1.0, gamma=31.622776601683793, kernel=linear, score=0.857, total=   0.0s\n",
            "[CV] C=1.0, gamma=31.622776601683793, kernel=rbf .....................\n",
            "[CV]  C=1.0, gamma=31.622776601683793, kernel=rbf, score=0.667, total=   0.0s\n",
            "[CV] C=1.0, gamma=31.622776601683793, kernel=rbf .....................\n",
            "[CV]  C=1.0, gamma=31.622776601683793, kernel=rbf, score=0.667, total=   0.0s\n",
            "[CV] C=1.0, gamma=31.622776601683793, kernel=rbf .....................\n",
            "[CV]  C=1.0, gamma=31.622776601683793, kernel=rbf, score=0.643, total=   0.0s\n",
            "[CV] C=1.0, gamma=31.622776601683793, kernel=rbf .....................\n",
            "[CV]  C=1.0, gamma=31.622776601683793, kernel=rbf, score=0.643, total=   0.0s\n",
            "[CV] C=1.0, gamma=31.622776601683793, kernel=rbf .....................\n",
            "[CV]  C=1.0, gamma=31.622776601683793, kernel=rbf, score=0.714, total=   0.0s\n",
            "[CV] C=1.0, gamma=31.622776601683793, kernel=poly ....................\n",
            "[CV]  C=1.0, gamma=31.622776601683793, kernel=poly, score=0.600, total=   0.0s\n",
            "[CV] C=1.0, gamma=31.622776601683793, kernel=poly ....................\n",
            "[CV]  C=1.0, gamma=31.622776601683793, kernel=poly, score=0.600, total=   0.0s\n",
            "[CV] C=1.0, gamma=31.622776601683793, kernel=poly ....................\n",
            "[CV]  C=1.0, gamma=31.622776601683793, kernel=poly, score=0.643, total=   0.0s\n",
            "[CV] C=1.0, gamma=31.622776601683793, kernel=poly ....................\n",
            "[CV]  C=1.0, gamma=31.622776601683793, kernel=poly, score=0.643, total=   0.0s\n",
            "[CV] C=1.0, gamma=31.622776601683793, kernel=poly ....................\n",
            "[CV]  C=1.0, gamma=31.622776601683793, kernel=poly, score=0.714, total=   0.0s\n",
            "[CV] C=1.0, gamma=31.622776601683793, kernel=rbf .....................\n",
            "[CV]  C=1.0, gamma=31.622776601683793, kernel=rbf, score=0.667, total=   0.0s\n",
            "[CV] C=1.0, gamma=31.622776601683793, kernel=rbf .....................\n",
            "[CV]  C=1.0, gamma=31.622776601683793, kernel=rbf, score=0.667, total=   0.0s\n",
            "[CV] C=1.0, gamma=31.622776601683793, kernel=rbf .....................\n",
            "[CV]  C=1.0, gamma=31.622776601683793, kernel=rbf, score=0.643, total=   0.0s\n",
            "[CV] C=1.0, gamma=31.622776601683793, kernel=rbf .....................\n",
            "[CV]  C=1.0, gamma=31.622776601683793, kernel=rbf, score=0.643, total=   0.0s\n",
            "[CV] C=1.0, gamma=31.622776601683793, kernel=rbf .....................\n",
            "[CV]  C=1.0, gamma=31.622776601683793, kernel=rbf, score=0.714, total=   0.0s\n",
            "[CV] C=1.0, gamma=31.622776601683793, kernel=sigmoid .................\n",
            "[CV]  C=1.0, gamma=31.622776601683793, kernel=sigmoid, score=0.667, total=   0.0s\n",
            "[CV] C=1.0, gamma=31.622776601683793, kernel=sigmoid .................\n",
            "[CV]  C=1.0, gamma=31.622776601683793, kernel=sigmoid, score=0.867, total=   0.0s\n",
            "[CV] C=1.0, gamma=31.622776601683793, kernel=sigmoid .................\n",
            "[CV]  C=1.0, gamma=31.622776601683793, kernel=sigmoid, score=0.714, total=   0.0s\n",
            "[CV] C=1.0, gamma=31.622776601683793, kernel=sigmoid .................\n",
            "[CV]  C=1.0, gamma=31.622776601683793, kernel=sigmoid, score=0.786, total=   0.0s\n",
            "[CV] C=1.0, gamma=31.622776601683793, kernel=sigmoid .................\n",
            "[CV]  C=1.0, gamma=31.622776601683793, kernel=sigmoid, score=0.786, total=   0.0s\n",
            "[CV] C=1.0, gamma=1000.0, kernel=linear ..............................\n",
            "[CV] .. C=1.0, gamma=1000.0, kernel=linear, score=0.600, total=   0.0s\n",
            "[CV] C=1.0, gamma=1000.0, kernel=linear ..............................\n",
            "[CV] .. C=1.0, gamma=1000.0, kernel=linear, score=0.733, total=   0.0s\n",
            "[CV] C=1.0, gamma=1000.0, kernel=linear ..............................\n",
            "[CV] .. C=1.0, gamma=1000.0, kernel=linear, score=0.929, total=   0.0s\n",
            "[CV] C=1.0, gamma=1000.0, kernel=linear ..............................\n",
            "[CV] .. C=1.0, gamma=1000.0, kernel=linear, score=0.786, total=   0.0s\n",
            "[CV] C=1.0, gamma=1000.0, kernel=linear ..............................\n",
            "[CV] .. C=1.0, gamma=1000.0, kernel=linear, score=0.857, total=   0.0s\n",
            "[CV] C=1.0, gamma=1000.0, kernel=rbf .................................\n",
            "[CV] ..... C=1.0, gamma=1000.0, kernel=rbf, score=0.667, total=   0.0s\n",
            "[CV] C=1.0, gamma=1000.0, kernel=rbf .................................\n",
            "[CV] ..... C=1.0, gamma=1000.0, kernel=rbf, score=0.667, total=   0.0s\n",
            "[CV] C=1.0, gamma=1000.0, kernel=rbf .................................\n",
            "[CV] ..... C=1.0, gamma=1000.0, kernel=rbf, score=0.643, total=   0.0s\n",
            "[CV] C=1.0, gamma=1000.0, kernel=rbf .................................\n",
            "[CV] ..... C=1.0, gamma=1000.0, kernel=rbf, score=0.643, total=   0.0s\n",
            "[CV] C=1.0, gamma=1000.0, kernel=rbf .................................\n",
            "[CV] ..... C=1.0, gamma=1000.0, kernel=rbf, score=0.714, total=   0.0s\n",
            "[CV] C=1.0, gamma=1000.0, kernel=poly ................................\n",
            "[CV] .... C=1.0, gamma=1000.0, kernel=poly, score=0.600, total=   0.0s\n",
            "[CV] C=1.0, gamma=1000.0, kernel=poly ................................\n",
            "[CV] .... C=1.0, gamma=1000.0, kernel=poly, score=0.600, total=   0.0s\n",
            "[CV] C=1.0, gamma=1000.0, kernel=poly ................................\n",
            "[CV] .... C=1.0, gamma=1000.0, kernel=poly, score=0.643, total=   0.0s\n",
            "[CV] C=1.0, gamma=1000.0, kernel=poly ................................\n",
            "[CV] .... C=1.0, gamma=1000.0, kernel=poly, score=0.643, total=   0.0s\n",
            "[CV] C=1.0, gamma=1000.0, kernel=poly ................................\n",
            "[CV] .... C=1.0, gamma=1000.0, kernel=poly, score=0.714, total=   0.0s\n",
            "[CV] C=1.0, gamma=1000.0, kernel=rbf .................................\n",
            "[CV] ..... C=1.0, gamma=1000.0, kernel=rbf, score=0.667, total=   0.0s\n",
            "[CV] C=1.0, gamma=1000.0, kernel=rbf .................................\n",
            "[CV] ..... C=1.0, gamma=1000.0, kernel=rbf, score=0.667, total=   0.0s\n",
            "[CV] C=1.0, gamma=1000.0, kernel=rbf .................................\n",
            "[CV] ..... C=1.0, gamma=1000.0, kernel=rbf, score=0.643, total=   0.0s\n",
            "[CV] C=1.0, gamma=1000.0, kernel=rbf .................................\n",
            "[CV] ..... C=1.0, gamma=1000.0, kernel=rbf, score=0.643, total=   0.0s\n",
            "[CV] C=1.0, gamma=1000.0, kernel=rbf .................................\n",
            "[CV] ..... C=1.0, gamma=1000.0, kernel=rbf, score=0.714, total=   0.0s\n",
            "[CV] C=1.0, gamma=1000.0, kernel=sigmoid .............................\n",
            "[CV] . C=1.0, gamma=1000.0, kernel=sigmoid, score=0.667, total=   0.0s\n",
            "[CV] C=1.0, gamma=1000.0, kernel=sigmoid .............................\n",
            "[CV] . C=1.0, gamma=1000.0, kernel=sigmoid, score=0.867, total=   0.0s\n",
            "[CV] C=1.0, gamma=1000.0, kernel=sigmoid .............................\n",
            "[CV] . C=1.0, gamma=1000.0, kernel=sigmoid, score=0.714, total=   0.0s\n",
            "[CV] C=1.0, gamma=1000.0, kernel=sigmoid .............................\n",
            "[CV] . C=1.0, gamma=1000.0, kernel=sigmoid, score=0.643, total=   0.0s\n",
            "[CV] C=1.0, gamma=1000.0, kernel=sigmoid .............................\n",
            "[CV] . C=1.0, gamma=1000.0, kernel=sigmoid, score=0.857, total=   0.0s\n",
            "[CV] C=31.622776601683793, gamma=0.001, kernel=linear ................\n",
            "[CV]  C=31.622776601683793, gamma=0.001, kernel=linear, score=0.600, total=   0.0s\n",
            "[CV] C=31.622776601683793, gamma=0.001, kernel=linear ................\n",
            "[CV]  C=31.622776601683793, gamma=0.001, kernel=linear, score=0.733, total=   0.0s\n",
            "[CV] C=31.622776601683793, gamma=0.001, kernel=linear ................\n",
            "[CV]  C=31.622776601683793, gamma=0.001, kernel=linear, score=0.929, total=   0.0s\n",
            "[CV] C=31.622776601683793, gamma=0.001, kernel=linear ................\n",
            "[CV]  C=31.622776601683793, gamma=0.001, kernel=linear, score=0.786, total=   0.0s\n",
            "[CV] C=31.622776601683793, gamma=0.001, kernel=linear ................\n",
            "[CV]  C=31.622776601683793, gamma=0.001, kernel=linear, score=0.857, total=   0.0s\n",
            "[CV] C=31.622776601683793, gamma=0.001, kernel=rbf ...................\n",
            "[CV]  C=31.622776601683793, gamma=0.001, kernel=rbf, score=0.733, total=   0.0s\n",
            "[CV] C=31.622776601683793, gamma=0.001, kernel=rbf ...................\n",
            "[CV]  C=31.622776601683793, gamma=0.001, kernel=rbf, score=0.733, total=   0.0s\n",
            "[CV] C=31.622776601683793, gamma=0.001, kernel=rbf ...................\n",
            "[CV]  C=31.622776601683793, gamma=0.001, kernel=rbf, score=0.929, total=   0.0s\n",
            "[CV] C=31.622776601683793, gamma=0.001, kernel=rbf ...................\n",
            "[CV]  C=31.622776601683793, gamma=0.001, kernel=rbf, score=0.786, total=   0.0s\n",
            "[CV] C=31.622776601683793, gamma=0.001, kernel=rbf ...................\n",
            "[CV]  C=31.622776601683793, gamma=0.001, kernel=rbf, score=0.786, total=   0.0s\n",
            "[CV] C=31.622776601683793, gamma=0.001, kernel=poly ..................\n",
            "[CV]  C=31.622776601683793, gamma=0.001, kernel=poly, score=0.667, total=   0.0s\n",
            "[CV] C=31.622776601683793, gamma=0.001, kernel=poly ..................\n",
            "[CV]  C=31.622776601683793, gamma=0.001, kernel=poly, score=0.667, total=   0.0s\n",
            "[CV] C=31.622776601683793, gamma=0.001, kernel=poly ..................\n",
            "[CV]  C=31.622776601683793, gamma=0.001, kernel=poly, score=0.643, total=   0.0s\n",
            "[CV] C=31.622776601683793, gamma=0.001, kernel=poly ..................\n",
            "[CV]  C=31.622776601683793, gamma=0.001, kernel=poly, score=0.643, total=   0.0s\n",
            "[CV] C=31.622776601683793, gamma=0.001, kernel=poly ..................\n",
            "[CV]  C=31.622776601683793, gamma=0.001, kernel=poly, score=0.714, total=   0.0s\n",
            "[CV] C=31.622776601683793, gamma=0.001, kernel=rbf ...................\n",
            "[CV]  C=31.622776601683793, gamma=0.001, kernel=rbf, score=0.733, total=   0.0s\n",
            "[CV] C=31.622776601683793, gamma=0.001, kernel=rbf ...................\n",
            "[CV]  C=31.622776601683793, gamma=0.001, kernel=rbf, score=0.733, total=   0.0s\n",
            "[CV] C=31.622776601683793, gamma=0.001, kernel=rbf ...................\n",
            "[CV]  C=31.622776601683793, gamma=0.001, kernel=rbf, score=0.929, total=   0.0s\n",
            "[CV] C=31.622776601683793, gamma=0.001, kernel=rbf ...................\n",
            "[CV]  C=31.622776601683793, gamma=0.001, kernel=rbf, score=0.786, total=   0.0s\n",
            "[CV] C=31.622776601683793, gamma=0.001, kernel=rbf ...................\n",
            "[CV]  C=31.622776601683793, gamma=0.001, kernel=rbf, score=0.786, total=   0.0s\n",
            "[CV] C=31.622776601683793, gamma=0.001, kernel=sigmoid ...............\n",
            "[CV]  C=31.622776601683793, gamma=0.001, kernel=sigmoid, score=0.733, total=   0.0s\n",
            "[CV] C=31.622776601683793, gamma=0.001, kernel=sigmoid ...............\n",
            "[CV]  C=31.622776601683793, gamma=0.001, kernel=sigmoid, score=0.867, total=   0.0s\n",
            "[CV] C=31.622776601683793, gamma=0.001, kernel=sigmoid ...............\n",
            "[CV]  C=31.622776601683793, gamma=0.001, kernel=sigmoid, score=0.929, total=   0.0s\n",
            "[CV] C=31.622776601683793, gamma=0.001, kernel=sigmoid ...............\n",
            "[CV]  C=31.622776601683793, gamma=0.001, kernel=sigmoid, score=0.786, total=   0.0s\n",
            "[CV] C=31.622776601683793, gamma=0.001, kernel=sigmoid ...............\n",
            "[CV]  C=31.622776601683793, gamma=0.001, kernel=sigmoid, score=0.857, total=   0.0s\n",
            "[CV] C=31.622776601683793, gamma=0.03162277660168379, kernel=linear ..\n",
            "[CV]  C=31.622776601683793, gamma=0.03162277660168379, kernel=linear, score=0.600, total=   0.0s\n",
            "[CV] C=31.622776601683793, gamma=0.03162277660168379, kernel=linear ..\n",
            "[CV]  C=31.622776601683793, gamma=0.03162277660168379, kernel=linear, score=0.733, total=   0.0s\n",
            "[CV] C=31.622776601683793, gamma=0.03162277660168379, kernel=linear ..\n",
            "[CV]  C=31.622776601683793, gamma=0.03162277660168379, kernel=linear, score=0.929, total=   0.0s\n",
            "[CV] C=31.622776601683793, gamma=0.03162277660168379, kernel=linear ..\n",
            "[CV]  C=31.622776601683793, gamma=0.03162277660168379, kernel=linear, score=0.786, total=   0.0s\n",
            "[CV] C=31.622776601683793, gamma=0.03162277660168379, kernel=linear ..\n",
            "[CV]  C=31.622776601683793, gamma=0.03162277660168379, kernel=linear, score=0.857, total=   0.0s\n",
            "[CV] C=31.622776601683793, gamma=0.03162277660168379, kernel=rbf .....\n",
            "[CV]  C=31.622776601683793, gamma=0.03162277660168379, kernel=rbf, score=0.600, total=   0.0s\n",
            "[CV] C=31.622776601683793, gamma=0.03162277660168379, kernel=rbf .....\n",
            "[CV]  C=31.622776601683793, gamma=0.03162277660168379, kernel=rbf, score=0.600, total=   0.0s\n",
            "[CV] C=31.622776601683793, gamma=0.03162277660168379, kernel=rbf .....\n",
            "[CV]  C=31.622776601683793, gamma=0.03162277660168379, kernel=rbf, score=0.643, total=   0.0s\n",
            "[CV] C=31.622776601683793, gamma=0.03162277660168379, kernel=rbf .....\n",
            "[CV]  C=31.622776601683793, gamma=0.03162277660168379, kernel=rbf, score=0.643, total=   0.0s\n",
            "[CV] C=31.622776601683793, gamma=0.03162277660168379, kernel=rbf .....\n",
            "[CV]  C=31.622776601683793, gamma=0.03162277660168379, kernel=rbf, score=0.714, total=   0.0s\n",
            "[CV] C=31.622776601683793, gamma=0.03162277660168379, kernel=poly ....\n",
            "[CV]  C=31.622776601683793, gamma=0.03162277660168379, kernel=poly, score=0.600, total=   0.0s\n",
            "[CV] C=31.622776601683793, gamma=0.03162277660168379, kernel=poly ....\n",
            "[CV]  C=31.622776601683793, gamma=0.03162277660168379, kernel=poly, score=0.600, total=   0.0s\n",
            "[CV] C=31.622776601683793, gamma=0.03162277660168379, kernel=poly ....\n",
            "[CV]  C=31.622776601683793, gamma=0.03162277660168379, kernel=poly, score=0.643, total=   0.0s\n",
            "[CV] C=31.622776601683793, gamma=0.03162277660168379, kernel=poly ....\n",
            "[CV]  C=31.622776601683793, gamma=0.03162277660168379, kernel=poly, score=0.643, total=   0.0s\n",
            "[CV] C=31.622776601683793, gamma=0.03162277660168379, kernel=poly ....\n",
            "[CV]  C=31.622776601683793, gamma=0.03162277660168379, kernel=poly, score=0.714, total=   0.0s\n",
            "[CV] C=31.622776601683793, gamma=0.03162277660168379, kernel=rbf .....\n",
            "[CV]  C=31.622776601683793, gamma=0.03162277660168379, kernel=rbf, score=0.600, total=   0.0s\n",
            "[CV] C=31.622776601683793, gamma=0.03162277660168379, kernel=rbf .....\n",
            "[CV]  C=31.622776601683793, gamma=0.03162277660168379, kernel=rbf, score=0.600, total=   0.0s\n",
            "[CV] C=31.622776601683793, gamma=0.03162277660168379, kernel=rbf .....\n",
            "[CV]  C=31.622776601683793, gamma=0.03162277660168379, kernel=rbf, score=0.643, total=   0.0s\n",
            "[CV] C=31.622776601683793, gamma=0.03162277660168379, kernel=rbf .....\n",
            "[CV]  C=31.622776601683793, gamma=0.03162277660168379, kernel=rbf, score=0.643, total=   0.0s\n",
            "[CV] C=31.622776601683793, gamma=0.03162277660168379, kernel=rbf .....\n",
            "[CV]  C=31.622776601683793, gamma=0.03162277660168379, kernel=rbf, score=0.714, total=   0.0s\n",
            "[CV] C=31.622776601683793, gamma=0.03162277660168379, kernel=sigmoid .\n",
            "[CV]  C=31.622776601683793, gamma=0.03162277660168379, kernel=sigmoid, score=0.733, total=   0.0s\n",
            "[CV] C=31.622776601683793, gamma=0.03162277660168379, kernel=sigmoid .\n",
            "[CV]  C=31.622776601683793, gamma=0.03162277660168379, kernel=sigmoid, score=0.867, total=   0.0s\n",
            "[CV] C=31.622776601683793, gamma=0.03162277660168379, kernel=sigmoid .\n",
            "[CV]  C=31.622776601683793, gamma=0.03162277660168379, kernel=sigmoid, score=0.857, total=   0.0s\n",
            "[CV] C=31.622776601683793, gamma=0.03162277660168379, kernel=sigmoid .\n",
            "[CV]  C=31.622776601683793, gamma=0.03162277660168379, kernel=sigmoid, score=0.857, total=   0.0s\n",
            "[CV] C=31.622776601683793, gamma=0.03162277660168379, kernel=sigmoid .\n",
            "[CV]  C=31.622776601683793, gamma=0.03162277660168379, kernel=sigmoid, score=0.714, total=   0.0s\n",
            "[CV] C=31.622776601683793, gamma=1.0, kernel=linear ..................\n",
            "[CV]  C=31.622776601683793, gamma=1.0, kernel=linear, score=0.600, total=   0.0s\n",
            "[CV] C=31.622776601683793, gamma=1.0, kernel=linear ..................\n",
            "[CV]  C=31.622776601683793, gamma=1.0, kernel=linear, score=0.733, total=   0.0s\n",
            "[CV] C=31.622776601683793, gamma=1.0, kernel=linear ..................\n",
            "[CV]  C=31.622776601683793, gamma=1.0, kernel=linear, score=0.929, total=   0.0s\n",
            "[CV] C=31.622776601683793, gamma=1.0, kernel=linear ..................\n",
            "[CV]  C=31.622776601683793, gamma=1.0, kernel=linear, score=0.786, total=   0.0s\n",
            "[CV] C=31.622776601683793, gamma=1.0, kernel=linear ..................\n",
            "[CV]  C=31.622776601683793, gamma=1.0, kernel=linear, score=0.857, total=   0.0s\n",
            "[CV] C=31.622776601683793, gamma=1.0, kernel=rbf .....................\n",
            "[CV]  C=31.622776601683793, gamma=1.0, kernel=rbf, score=0.667, total=   0.0s\n",
            "[CV] C=31.622776601683793, gamma=1.0, kernel=rbf .....................\n",
            "[CV]  C=31.622776601683793, gamma=1.0, kernel=rbf, score=0.667, total=   0.0s\n",
            "[CV] C=31.622776601683793, gamma=1.0, kernel=rbf .....................\n",
            "[CV]  C=31.622776601683793, gamma=1.0, kernel=rbf, score=0.643, total=   0.0s\n",
            "[CV] C=31.622776601683793, gamma=1.0, kernel=rbf .....................\n",
            "[CV]  C=31.622776601683793, gamma=1.0, kernel=rbf, score=0.643, total=   0.0s\n",
            "[CV] C=31.622776601683793, gamma=1.0, kernel=rbf .....................\n",
            "[CV]  C=31.622776601683793, gamma=1.0, kernel=rbf, score=0.714, total=   0.0s\n",
            "[CV] C=31.622776601683793, gamma=1.0, kernel=poly ....................\n",
            "[CV]  C=31.622776601683793, gamma=1.0, kernel=poly, score=0.600, total=   0.0s\n",
            "[CV] C=31.622776601683793, gamma=1.0, kernel=poly ....................\n",
            "[CV]  C=31.622776601683793, gamma=1.0, kernel=poly, score=0.600, total=   0.0s\n",
            "[CV] C=31.622776601683793, gamma=1.0, kernel=poly ....................\n",
            "[CV]  C=31.622776601683793, gamma=1.0, kernel=poly, score=0.643, total=   0.0s\n",
            "[CV] C=31.622776601683793, gamma=1.0, kernel=poly ....................\n",
            "[CV]  C=31.622776601683793, gamma=1.0, kernel=poly, score=0.643, total=   0.0s\n",
            "[CV] C=31.622776601683793, gamma=1.0, kernel=poly ....................\n",
            "[CV]  C=31.622776601683793, gamma=1.0, kernel=poly, score=0.714, total=   0.0s\n",
            "[CV] C=31.622776601683793, gamma=1.0, kernel=rbf .....................\n",
            "[CV]  C=31.622776601683793, gamma=1.0, kernel=rbf, score=0.667, total=   0.0s\n",
            "[CV] C=31.622776601683793, gamma=1.0, kernel=rbf .....................\n",
            "[CV]  C=31.622776601683793, gamma=1.0, kernel=rbf, score=0.667, total=   0.0s\n",
            "[CV] C=31.622776601683793, gamma=1.0, kernel=rbf .....................\n",
            "[CV]  C=31.622776601683793, gamma=1.0, kernel=rbf, score=0.643, total=   0.0s\n",
            "[CV] C=31.622776601683793, gamma=1.0, kernel=rbf .....................\n",
            "[CV]  C=31.622776601683793, gamma=1.0, kernel=rbf, score=0.643, total=   0.0s\n",
            "[CV] C=31.622776601683793, gamma=1.0, kernel=rbf .....................\n",
            "[CV]  C=31.622776601683793, gamma=1.0, kernel=rbf, score=0.714, total=   0.0s\n",
            "[CV] C=31.622776601683793, gamma=1.0, kernel=sigmoid .................\n",
            "[CV]  C=31.622776601683793, gamma=1.0, kernel=sigmoid, score=0.533, total=   0.0s\n",
            "[CV] C=31.622776601683793, gamma=1.0, kernel=sigmoid .................\n",
            "[CV]  C=31.622776601683793, gamma=1.0, kernel=sigmoid, score=0.600, total=   0.0s\n",
            "[CV] C=31.622776601683793, gamma=1.0, kernel=sigmoid .................\n",
            "[CV]  C=31.622776601683793, gamma=1.0, kernel=sigmoid, score=0.786, total=   0.0s\n",
            "[CV] C=31.622776601683793, gamma=1.0, kernel=sigmoid .................\n",
            "[CV]  C=31.622776601683793, gamma=1.0, kernel=sigmoid, score=0.643, total=   0.0s\n",
            "[CV] C=31.622776601683793, gamma=1.0, kernel=sigmoid .................\n",
            "[CV]  C=31.622776601683793, gamma=1.0, kernel=sigmoid, score=0.786, total=   0.0s\n",
            "[CV] C=31.622776601683793, gamma=31.622776601683793, kernel=linear ...\n",
            "[CV]  C=31.622776601683793, gamma=31.622776601683793, kernel=linear, score=0.600, total=   0.0s\n",
            "[CV] C=31.622776601683793, gamma=31.622776601683793, kernel=linear ...\n",
            "[CV]  C=31.622776601683793, gamma=31.622776601683793, kernel=linear, score=0.733, total=   0.0s\n",
            "[CV] C=31.622776601683793, gamma=31.622776601683793, kernel=linear ...\n",
            "[CV]  C=31.622776601683793, gamma=31.622776601683793, kernel=linear, score=0.929, total=   0.0s\n",
            "[CV] C=31.622776601683793, gamma=31.622776601683793, kernel=linear ...\n",
            "[CV]  C=31.622776601683793, gamma=31.622776601683793, kernel=linear, score=0.786, total=   0.0s\n",
            "[CV] C=31.622776601683793, gamma=31.622776601683793, kernel=linear ...\n",
            "[CV]  C=31.622776601683793, gamma=31.622776601683793, kernel=linear, score=0.857, total=   0.0s\n",
            "[CV] C=31.622776601683793, gamma=31.622776601683793, kernel=rbf ......\n",
            "[CV]  C=31.622776601683793, gamma=31.622776601683793, kernel=rbf, score=0.667, total=   0.0s\n",
            "[CV] C=31.622776601683793, gamma=31.622776601683793, kernel=rbf ......\n",
            "[CV]  C=31.622776601683793, gamma=31.622776601683793, kernel=rbf, score=0.667, total=   0.0s\n",
            "[CV] C=31.622776601683793, gamma=31.622776601683793, kernel=rbf ......\n",
            "[CV]  C=31.622776601683793, gamma=31.622776601683793, kernel=rbf, score=0.643, total=   0.0s\n",
            "[CV] C=31.622776601683793, gamma=31.622776601683793, kernel=rbf ......\n",
            "[CV]  C=31.622776601683793, gamma=31.622776601683793, kernel=rbf, score=0.643, total=   0.0s\n",
            "[CV] C=31.622776601683793, gamma=31.622776601683793, kernel=rbf ......\n",
            "[CV]  C=31.622776601683793, gamma=31.622776601683793, kernel=rbf, score=0.714, total=   0.0s\n",
            "[CV] C=31.622776601683793, gamma=31.622776601683793, kernel=poly .....\n",
            "[CV]  C=31.622776601683793, gamma=31.622776601683793, kernel=poly, score=0.600, total=   0.0s\n",
            "[CV] C=31.622776601683793, gamma=31.622776601683793, kernel=poly .....\n",
            "[CV]  C=31.622776601683793, gamma=31.622776601683793, kernel=poly, score=0.600, total=   0.0s\n",
            "[CV] C=31.622776601683793, gamma=31.622776601683793, kernel=poly .....\n",
            "[CV]  C=31.622776601683793, gamma=31.622776601683793, kernel=poly, score=0.643, total=   0.0s\n",
            "[CV] C=31.622776601683793, gamma=31.622776601683793, kernel=poly .....\n",
            "[CV]  C=31.622776601683793, gamma=31.622776601683793, kernel=poly, score=0.643, total=   0.0s\n",
            "[CV] C=31.622776601683793, gamma=31.622776601683793, kernel=poly .....\n",
            "[CV]  C=31.622776601683793, gamma=31.622776601683793, kernel=poly, score=0.714, total=   0.0s\n",
            "[CV] C=31.622776601683793, gamma=31.622776601683793, kernel=rbf ......\n",
            "[CV]  C=31.622776601683793, gamma=31.622776601683793, kernel=rbf, score=0.667, total=   0.0s\n",
            "[CV] C=31.622776601683793, gamma=31.622776601683793, kernel=rbf ......\n",
            "[CV]  C=31.622776601683793, gamma=31.622776601683793, kernel=rbf, score=0.667, total=   0.0s\n",
            "[CV] C=31.622776601683793, gamma=31.622776601683793, kernel=rbf ......\n",
            "[CV]  C=31.622776601683793, gamma=31.622776601683793, kernel=rbf, score=0.643, total=   0.0s\n",
            "[CV] C=31.622776601683793, gamma=31.622776601683793, kernel=rbf ......\n",
            "[CV]  C=31.622776601683793, gamma=31.622776601683793, kernel=rbf, score=0.643, total=   0.0s\n",
            "[CV] C=31.622776601683793, gamma=31.622776601683793, kernel=rbf ......\n",
            "[CV]  C=31.622776601683793, gamma=31.622776601683793, kernel=rbf, score=0.714, total=   0.0s\n",
            "[CV] C=31.622776601683793, gamma=31.622776601683793, kernel=sigmoid ..\n",
            "[CV]  C=31.622776601683793, gamma=31.622776601683793, kernel=sigmoid, score=0.533, total=   0.0s\n",
            "[CV] C=31.622776601683793, gamma=31.622776601683793, kernel=sigmoid ..\n",
            "[CV]  C=31.622776601683793, gamma=31.622776601683793, kernel=sigmoid, score=0.800, total=   0.0s\n",
            "[CV] C=31.622776601683793, gamma=31.622776601683793, kernel=sigmoid ..\n",
            "[CV]  C=31.622776601683793, gamma=31.622776601683793, kernel=sigmoid, score=0.643, total=   0.0s\n",
            "[CV] C=31.622776601683793, gamma=31.622776601683793, kernel=sigmoid ..\n",
            "[CV]  C=31.622776601683793, gamma=31.622776601683793, kernel=sigmoid, score=0.714, total=   0.0s\n",
            "[CV] C=31.622776601683793, gamma=31.622776601683793, kernel=sigmoid ..\n",
            "[CV]  C=31.622776601683793, gamma=31.622776601683793, kernel=sigmoid, score=0.857, total=   0.0s\n",
            "[CV] C=31.622776601683793, gamma=1000.0, kernel=linear ...............\n",
            "[CV]  C=31.622776601683793, gamma=1000.0, kernel=linear, score=0.600, total=   0.0s\n",
            "[CV] C=31.622776601683793, gamma=1000.0, kernel=linear ...............\n",
            "[CV]  C=31.622776601683793, gamma=1000.0, kernel=linear, score=0.733, total=   0.0s\n",
            "[CV] C=31.622776601683793, gamma=1000.0, kernel=linear ...............\n",
            "[CV]  C=31.622776601683793, gamma=1000.0, kernel=linear, score=0.929, total=   0.0s\n",
            "[CV] C=31.622776601683793, gamma=1000.0, kernel=linear ...............\n",
            "[CV]  C=31.622776601683793, gamma=1000.0, kernel=linear, score=0.786, total=   0.0s\n",
            "[CV] C=31.622776601683793, gamma=1000.0, kernel=linear ...............\n",
            "[CV]  C=31.622776601683793, gamma=1000.0, kernel=linear, score=0.857, total=   0.0s\n",
            "[CV] C=31.622776601683793, gamma=1000.0, kernel=rbf ..................\n",
            "[CV]  C=31.622776601683793, gamma=1000.0, kernel=rbf, score=0.667, total=   0.0s\n",
            "[CV] C=31.622776601683793, gamma=1000.0, kernel=rbf ..................\n",
            "[CV]  C=31.622776601683793, gamma=1000.0, kernel=rbf, score=0.667, total=   0.0s\n",
            "[CV] C=31.622776601683793, gamma=1000.0, kernel=rbf ..................\n",
            "[CV]  C=31.622776601683793, gamma=1000.0, kernel=rbf, score=0.643, total=   0.0s\n",
            "[CV] C=31.622776601683793, gamma=1000.0, kernel=rbf ..................\n",
            "[CV]  C=31.622776601683793, gamma=1000.0, kernel=rbf, score=0.643, total=   0.0s\n",
            "[CV] C=31.622776601683793, gamma=1000.0, kernel=rbf ..................\n",
            "[CV]  C=31.622776601683793, gamma=1000.0, kernel=rbf, score=0.714, total=   0.0s\n",
            "[CV] C=31.622776601683793, gamma=1000.0, kernel=poly .................\n",
            "[CV]  C=31.622776601683793, gamma=1000.0, kernel=poly, score=0.600, total=   0.0s\n",
            "[CV] C=31.622776601683793, gamma=1000.0, kernel=poly .................\n",
            "[CV]  C=31.622776601683793, gamma=1000.0, kernel=poly, score=0.600, total=   0.0s\n",
            "[CV] C=31.622776601683793, gamma=1000.0, kernel=poly .................\n",
            "[CV]  C=31.622776601683793, gamma=1000.0, kernel=poly, score=0.643, total=   0.0s\n",
            "[CV] C=31.622776601683793, gamma=1000.0, kernel=poly .................\n",
            "[CV]  C=31.622776601683793, gamma=1000.0, kernel=poly, score=0.643, total=   0.0s\n",
            "[CV] C=31.622776601683793, gamma=1000.0, kernel=poly .................\n",
            "[CV]  C=31.622776601683793, gamma=1000.0, kernel=poly, score=0.714, total=   0.0s\n",
            "[CV] C=31.622776601683793, gamma=1000.0, kernel=rbf ..................\n",
            "[CV]  C=31.622776601683793, gamma=1000.0, kernel=rbf, score=0.667, total=   0.0s\n",
            "[CV] C=31.622776601683793, gamma=1000.0, kernel=rbf ..................\n",
            "[CV]  C=31.622776601683793, gamma=1000.0, kernel=rbf, score=0.667, total=   0.0s\n",
            "[CV] C=31.622776601683793, gamma=1000.0, kernel=rbf ..................\n",
            "[CV]  C=31.622776601683793, gamma=1000.0, kernel=rbf, score=0.643, total=   0.0s\n",
            "[CV] C=31.622776601683793, gamma=1000.0, kernel=rbf ..................\n",
            "[CV]  C=31.622776601683793, gamma=1000.0, kernel=rbf, score=0.643, total=   0.0s\n",
            "[CV] C=31.622776601683793, gamma=1000.0, kernel=rbf ..................\n",
            "[CV]  C=31.622776601683793, gamma=1000.0, kernel=rbf, score=0.714, total=   0.0s\n",
            "[CV] C=31.622776601683793, gamma=1000.0, kernel=sigmoid ..............\n",
            "[CV]  C=31.622776601683793, gamma=1000.0, kernel=sigmoid, score=0.667, total=   0.0s\n",
            "[CV] C=31.622776601683793, gamma=1000.0, kernel=sigmoid ..............\n",
            "[CV]  C=31.622776601683793, gamma=1000.0, kernel=sigmoid, score=0.867, total=   0.0s\n",
            "[CV] C=31.622776601683793, gamma=1000.0, kernel=sigmoid ..............\n",
            "[CV]  C=31.622776601683793, gamma=1000.0, kernel=sigmoid, score=0.714, total=   0.0s\n",
            "[CV] C=31.622776601683793, gamma=1000.0, kernel=sigmoid ..............\n",
            "[CV]  C=31.622776601683793, gamma=1000.0, kernel=sigmoid, score=0.714, total=   0.0s\n",
            "[CV] C=31.622776601683793, gamma=1000.0, kernel=sigmoid ..............\n",
            "[CV]  C=31.622776601683793, gamma=1000.0, kernel=sigmoid, score=0.857, total=   0.0s\n",
            "[CV] C=1000.0, gamma=0.001, kernel=linear ............................\n",
            "[CV]  C=1000.0, gamma=0.001, kernel=linear, score=0.600, total=   0.0s\n",
            "[CV] C=1000.0, gamma=0.001, kernel=linear ............................\n",
            "[CV]  C=1000.0, gamma=0.001, kernel=linear, score=0.733, total=   0.0s\n",
            "[CV] C=1000.0, gamma=0.001, kernel=linear ............................\n",
            "[CV]  C=1000.0, gamma=0.001, kernel=linear, score=0.929, total=   0.0s\n",
            "[CV] C=1000.0, gamma=0.001, kernel=linear ............................\n",
            "[CV]  C=1000.0, gamma=0.001, kernel=linear, score=0.786, total=   0.0s\n",
            "[CV] C=1000.0, gamma=0.001, kernel=linear ............................\n",
            "[CV]  C=1000.0, gamma=0.001, kernel=linear, score=0.857, total=   0.0s\n",
            "[CV] C=1000.0, gamma=0.001, kernel=rbf ...............................\n",
            "[CV] ... C=1000.0, gamma=0.001, kernel=rbf, score=0.600, total=   0.0s\n",
            "[CV] C=1000.0, gamma=0.001, kernel=rbf ...............................\n",
            "[CV] ... C=1000.0, gamma=0.001, kernel=rbf, score=0.733, total=   0.0s\n",
            "[CV] C=1000.0, gamma=0.001, kernel=rbf ...............................\n",
            "[CV] ... C=1000.0, gamma=0.001, kernel=rbf, score=0.929, total=   0.0s\n",
            "[CV] C=1000.0, gamma=0.001, kernel=rbf ...............................\n",
            "[CV] ... C=1000.0, gamma=0.001, kernel=rbf, score=0.786, total=   0.0s\n",
            "[CV] C=1000.0, gamma=0.001, kernel=rbf ...............................\n",
            "[CV] ... C=1000.0, gamma=0.001, kernel=rbf, score=0.857, total=   0.0s\n",
            "[CV] C=1000.0, gamma=0.001, kernel=poly ..............................\n",
            "[CV] .. C=1000.0, gamma=0.001, kernel=poly, score=0.667, total=   0.0s\n",
            "[CV] C=1000.0, gamma=0.001, kernel=poly ..............................\n",
            "[CV] .. C=1000.0, gamma=0.001, kernel=poly, score=0.667, total=   0.0s\n",
            "[CV] C=1000.0, gamma=0.001, kernel=poly ..............................\n",
            "[CV] .. C=1000.0, gamma=0.001, kernel=poly, score=0.643, total=   0.0s\n",
            "[CV] C=1000.0, gamma=0.001, kernel=poly ..............................\n",
            "[CV] .. C=1000.0, gamma=0.001, kernel=poly, score=0.643, total=   0.0s\n",
            "[CV] C=1000.0, gamma=0.001, kernel=poly ..............................\n",
            "[CV] .. C=1000.0, gamma=0.001, kernel=poly, score=0.714, total=   0.0s\n",
            "[CV] C=1000.0, gamma=0.001, kernel=rbf ...............................\n",
            "[CV] ... C=1000.0, gamma=0.001, kernel=rbf, score=0.600, total=   0.0s\n",
            "[CV] C=1000.0, gamma=0.001, kernel=rbf ...............................\n",
            "[CV] ... C=1000.0, gamma=0.001, kernel=rbf, score=0.733, total=   0.0s\n",
            "[CV] C=1000.0, gamma=0.001, kernel=rbf ...............................\n",
            "[CV] ... C=1000.0, gamma=0.001, kernel=rbf, score=0.929, total=   0.0s\n",
            "[CV] C=1000.0, gamma=0.001, kernel=rbf ...............................\n",
            "[CV] ... C=1000.0, gamma=0.001, kernel=rbf, score=0.786, total=   0.0s\n",
            "[CV] C=1000.0, gamma=0.001, kernel=rbf ...............................\n",
            "[CV] ... C=1000.0, gamma=0.001, kernel=rbf, score=0.857, total=   0.0s\n",
            "[CV] C=1000.0, gamma=0.001, kernel=sigmoid ...........................\n",
            "[CV]  C=1000.0, gamma=0.001, kernel=sigmoid, score=0.600, total=   0.0s\n",
            "[CV] C=1000.0, gamma=0.001, kernel=sigmoid ...........................\n",
            "[CV]  C=1000.0, gamma=0.001, kernel=sigmoid, score=0.733, total=   0.0s\n",
            "[CV] C=1000.0, gamma=0.001, kernel=sigmoid ...........................\n",
            "[CV]  C=1000.0, gamma=0.001, kernel=sigmoid, score=0.929, total=   0.0s\n",
            "[CV] C=1000.0, gamma=0.001, kernel=sigmoid ...........................\n",
            "[CV]  C=1000.0, gamma=0.001, kernel=sigmoid, score=0.786, total=   0.0s\n",
            "[CV] C=1000.0, gamma=0.001, kernel=sigmoid ...........................\n",
            "[CV]  C=1000.0, gamma=0.001, kernel=sigmoid, score=0.857, total=   0.0s\n",
            "[CV] C=1000.0, gamma=0.03162277660168379, kernel=linear ..............\n",
            "[CV]  C=1000.0, gamma=0.03162277660168379, kernel=linear, score=0.600, total=   0.0s\n",
            "[CV] C=1000.0, gamma=0.03162277660168379, kernel=linear ..............\n",
            "[CV]  C=1000.0, gamma=0.03162277660168379, kernel=linear, score=0.733, total=   0.0s\n",
            "[CV] C=1000.0, gamma=0.03162277660168379, kernel=linear ..............\n",
            "[CV]  C=1000.0, gamma=0.03162277660168379, kernel=linear, score=0.929, total=   0.0s\n",
            "[CV] C=1000.0, gamma=0.03162277660168379, kernel=linear ..............\n",
            "[CV]  C=1000.0, gamma=0.03162277660168379, kernel=linear, score=0.786, total=   0.0s\n",
            "[CV] C=1000.0, gamma=0.03162277660168379, kernel=linear ..............\n",
            "[CV]  C=1000.0, gamma=0.03162277660168379, kernel=linear, score=0.857, total=   0.0s\n",
            "[CV] C=1000.0, gamma=0.03162277660168379, kernel=rbf .................\n",
            "[CV]  C=1000.0, gamma=0.03162277660168379, kernel=rbf, score=0.600, total=   0.0s\n",
            "[CV] C=1000.0, gamma=0.03162277660168379, kernel=rbf .................\n",
            "[CV]  C=1000.0, gamma=0.03162277660168379, kernel=rbf, score=0.600, total=   0.0s\n",
            "[CV] C=1000.0, gamma=0.03162277660168379, kernel=rbf .................\n",
            "[CV]  C=1000.0, gamma=0.03162277660168379, kernel=rbf, score=0.643, total=   0.0s\n",
            "[CV] C=1000.0, gamma=0.03162277660168379, kernel=rbf .................\n",
            "[CV]  C=1000.0, gamma=0.03162277660168379, kernel=rbf, score=0.643, total=   0.0s\n",
            "[CV] C=1000.0, gamma=0.03162277660168379, kernel=rbf .................\n",
            "[CV]  C=1000.0, gamma=0.03162277660168379, kernel=rbf, score=0.714, total=   0.0s\n",
            "[CV] C=1000.0, gamma=0.03162277660168379, kernel=poly ................\n",
            "[CV]  C=1000.0, gamma=0.03162277660168379, kernel=poly, score=0.600, total=   0.0s\n",
            "[CV] C=1000.0, gamma=0.03162277660168379, kernel=poly ................\n",
            "[CV]  C=1000.0, gamma=0.03162277660168379, kernel=poly, score=0.600, total=   0.0s\n",
            "[CV] C=1000.0, gamma=0.03162277660168379, kernel=poly ................\n",
            "[CV]  C=1000.0, gamma=0.03162277660168379, kernel=poly, score=0.643, total=   0.0s\n",
            "[CV] C=1000.0, gamma=0.03162277660168379, kernel=poly ................\n",
            "[CV]  C=1000.0, gamma=0.03162277660168379, kernel=poly, score=0.643, total=   0.0s\n",
            "[CV] C=1000.0, gamma=0.03162277660168379, kernel=poly ................\n",
            "[CV]  C=1000.0, gamma=0.03162277660168379, kernel=poly, score=0.714, total=   0.0s\n",
            "[CV] C=1000.0, gamma=0.03162277660168379, kernel=rbf .................\n",
            "[CV]  C=1000.0, gamma=0.03162277660168379, kernel=rbf, score=0.600, total=   0.0s\n",
            "[CV] C=1000.0, gamma=0.03162277660168379, kernel=rbf .................\n",
            "[CV]  C=1000.0, gamma=0.03162277660168379, kernel=rbf, score=0.600, total=   0.0s\n",
            "[CV] C=1000.0, gamma=0.03162277660168379, kernel=rbf .................\n",
            "[CV]  C=1000.0, gamma=0.03162277660168379, kernel=rbf, score=0.643, total=   0.0s\n",
            "[CV] C=1000.0, gamma=0.03162277660168379, kernel=rbf .................\n",
            "[CV]  C=1000.0, gamma=0.03162277660168379, kernel=rbf, score=0.643, total=   0.0s\n",
            "[CV] C=1000.0, gamma=0.03162277660168379, kernel=rbf .................\n",
            "[CV]  C=1000.0, gamma=0.03162277660168379, kernel=rbf, score=0.714, total=   0.0s\n",
            "[CV] C=1000.0, gamma=0.03162277660168379, kernel=sigmoid .............\n",
            "[CV]  C=1000.0, gamma=0.03162277660168379, kernel=sigmoid, score=0.733, total=   0.0s\n",
            "[CV] C=1000.0, gamma=0.03162277660168379, kernel=sigmoid .............\n",
            "[CV]  C=1000.0, gamma=0.03162277660168379, kernel=sigmoid, score=0.867, total=   0.0s\n",
            "[CV] C=1000.0, gamma=0.03162277660168379, kernel=sigmoid .............\n",
            "[CV]  C=1000.0, gamma=0.03162277660168379, kernel=sigmoid, score=0.857, total=   0.0s\n",
            "[CV] C=1000.0, gamma=0.03162277660168379, kernel=sigmoid .............\n",
            "[CV]  C=1000.0, gamma=0.03162277660168379, kernel=sigmoid, score=0.857, total=   0.0s\n",
            "[CV] C=1000.0, gamma=0.03162277660168379, kernel=sigmoid .............\n",
            "[CV]  C=1000.0, gamma=0.03162277660168379, kernel=sigmoid, score=0.714, total=   0.0s\n",
            "[CV] C=1000.0, gamma=1.0, kernel=linear ..............................\n",
            "[CV] .. C=1000.0, gamma=1.0, kernel=linear, score=0.600, total=   0.0s\n",
            "[CV] C=1000.0, gamma=1.0, kernel=linear ..............................\n",
            "[CV] .. C=1000.0, gamma=1.0, kernel=linear, score=0.733, total=   0.0s\n",
            "[CV] C=1000.0, gamma=1.0, kernel=linear ..............................\n",
            "[CV] .. C=1000.0, gamma=1.0, kernel=linear, score=0.929, total=   0.0s\n",
            "[CV] C=1000.0, gamma=1.0, kernel=linear ..............................\n",
            "[CV] .. C=1000.0, gamma=1.0, kernel=linear, score=0.786, total=   0.0s\n",
            "[CV] C=1000.0, gamma=1.0, kernel=linear ..............................\n",
            "[CV] .. C=1000.0, gamma=1.0, kernel=linear, score=0.857, total=   0.0s\n",
            "[CV] C=1000.0, gamma=1.0, kernel=rbf .................................\n",
            "[CV] ..... C=1000.0, gamma=1.0, kernel=rbf, score=0.667, total=   0.0s\n",
            "[CV] C=1000.0, gamma=1.0, kernel=rbf .................................\n",
            "[CV] ..... C=1000.0, gamma=1.0, kernel=rbf, score=0.667, total=   0.0s\n",
            "[CV] C=1000.0, gamma=1.0, kernel=rbf .................................\n",
            "[CV] ..... C=1000.0, gamma=1.0, kernel=rbf, score=0.643, total=   0.0s\n",
            "[CV] C=1000.0, gamma=1.0, kernel=rbf .................................\n",
            "[CV] ..... C=1000.0, gamma=1.0, kernel=rbf, score=0.643, total=   0.0s\n",
            "[CV] C=1000.0, gamma=1.0, kernel=rbf .................................\n",
            "[CV] ..... C=1000.0, gamma=1.0, kernel=rbf, score=0.714, total=   0.0s\n",
            "[CV] C=1000.0, gamma=1.0, kernel=poly ................................\n",
            "[CV] .... C=1000.0, gamma=1.0, kernel=poly, score=0.600, total=   0.0s\n",
            "[CV] C=1000.0, gamma=1.0, kernel=poly ................................\n",
            "[CV] .... C=1000.0, gamma=1.0, kernel=poly, score=0.600, total=   0.0s\n",
            "[CV] C=1000.0, gamma=1.0, kernel=poly ................................\n",
            "[CV] .... C=1000.0, gamma=1.0, kernel=poly, score=0.643, total=   0.0s\n",
            "[CV] C=1000.0, gamma=1.0, kernel=poly ................................\n",
            "[CV] .... C=1000.0, gamma=1.0, kernel=poly, score=0.643, total=   0.0s\n",
            "[CV] C=1000.0, gamma=1.0, kernel=poly ................................\n",
            "[CV] .... C=1000.0, gamma=1.0, kernel=poly, score=0.714, total=   0.0s\n",
            "[CV] C=1000.0, gamma=1.0, kernel=rbf .................................\n",
            "[CV] ..... C=1000.0, gamma=1.0, kernel=rbf, score=0.667, total=   0.0s\n",
            "[CV] C=1000.0, gamma=1.0, kernel=rbf .................................\n",
            "[CV] ..... C=1000.0, gamma=1.0, kernel=rbf, score=0.667, total=   0.0s\n",
            "[CV] C=1000.0, gamma=1.0, kernel=rbf .................................\n",
            "[CV] ..... C=1000.0, gamma=1.0, kernel=rbf, score=0.643, total=   0.0s\n",
            "[CV] C=1000.0, gamma=1.0, kernel=rbf .................................\n",
            "[CV] ..... C=1000.0, gamma=1.0, kernel=rbf, score=0.643, total=   0.0s\n",
            "[CV] C=1000.0, gamma=1.0, kernel=rbf .................................\n",
            "[CV] ..... C=1000.0, gamma=1.0, kernel=rbf, score=0.714, total=   0.0s\n",
            "[CV] C=1000.0, gamma=1.0, kernel=sigmoid .............................\n",
            "[CV] . C=1000.0, gamma=1.0, kernel=sigmoid, score=0.533, total=   0.0s\n",
            "[CV] C=1000.0, gamma=1.0, kernel=sigmoid .............................\n",
            "[CV] . C=1000.0, gamma=1.0, kernel=sigmoid, score=0.667, total=   0.0s\n",
            "[CV] C=1000.0, gamma=1.0, kernel=sigmoid .............................\n",
            "[CV] . C=1000.0, gamma=1.0, kernel=sigmoid, score=0.786, total=   0.0s\n",
            "[CV] C=1000.0, gamma=1.0, kernel=sigmoid .............................\n",
            "[CV] . C=1000.0, gamma=1.0, kernel=sigmoid, score=0.643, total=   0.0s\n",
            "[CV] C=1000.0, gamma=1.0, kernel=sigmoid .............................\n",
            "[CV] . C=1000.0, gamma=1.0, kernel=sigmoid, score=0.786, total=   0.0s\n",
            "[CV] C=1000.0, gamma=31.622776601683793, kernel=linear ...............\n",
            "[CV]  C=1000.0, gamma=31.622776601683793, kernel=linear, score=0.600, total=   0.0s\n",
            "[CV] C=1000.0, gamma=31.622776601683793, kernel=linear ...............\n",
            "[CV]  C=1000.0, gamma=31.622776601683793, kernel=linear, score=0.733, total=   0.0s\n",
            "[CV] C=1000.0, gamma=31.622776601683793, kernel=linear ...............\n",
            "[CV]  C=1000.0, gamma=31.622776601683793, kernel=linear, score=0.929, total=   0.0s\n",
            "[CV] C=1000.0, gamma=31.622776601683793, kernel=linear ...............\n",
            "[CV]  C=1000.0, gamma=31.622776601683793, kernel=linear, score=0.786, total=   0.0s\n",
            "[CV] C=1000.0, gamma=31.622776601683793, kernel=linear ...............\n",
            "[CV]  C=1000.0, gamma=31.622776601683793, kernel=linear, score=0.857, total=   0.0s\n",
            "[CV] C=1000.0, gamma=31.622776601683793, kernel=rbf ..................\n",
            "[CV]  C=1000.0, gamma=31.622776601683793, kernel=rbf, score=0.667, total=   0.0s\n",
            "[CV] C=1000.0, gamma=31.622776601683793, kernel=rbf ..................\n",
            "[CV]  C=1000.0, gamma=31.622776601683793, kernel=rbf, score=0.667, total=   0.0s\n",
            "[CV] C=1000.0, gamma=31.622776601683793, kernel=rbf ..................\n",
            "[CV]  C=1000.0, gamma=31.622776601683793, kernel=rbf, score=0.643, total=   0.0s\n",
            "[CV] C=1000.0, gamma=31.622776601683793, kernel=rbf ..................\n",
            "[CV]  C=1000.0, gamma=31.622776601683793, kernel=rbf, score=0.643, total=   0.0s\n",
            "[CV] C=1000.0, gamma=31.622776601683793, kernel=rbf ..................\n",
            "[CV]  C=1000.0, gamma=31.622776601683793, kernel=rbf, score=0.714, total=   0.0s\n",
            "[CV] C=1000.0, gamma=31.622776601683793, kernel=poly .................\n",
            "[CV]  C=1000.0, gamma=31.622776601683793, kernel=poly, score=0.600, total=   0.0s\n",
            "[CV] C=1000.0, gamma=31.622776601683793, kernel=poly .................\n",
            "[CV]  C=1000.0, gamma=31.622776601683793, kernel=poly, score=0.600, total=   0.0s\n",
            "[CV] C=1000.0, gamma=31.622776601683793, kernel=poly .................\n",
            "[CV]  C=1000.0, gamma=31.622776601683793, kernel=poly, score=0.643, total=   0.0s\n",
            "[CV] C=1000.0, gamma=31.622776601683793, kernel=poly .................\n",
            "[CV]  C=1000.0, gamma=31.622776601683793, kernel=poly, score=0.643, total=   0.0s\n",
            "[CV] C=1000.0, gamma=31.622776601683793, kernel=poly .................\n",
            "[CV]  C=1000.0, gamma=31.622776601683793, kernel=poly, score=0.714, total=   0.0s\n",
            "[CV] C=1000.0, gamma=31.622776601683793, kernel=rbf ..................\n",
            "[CV]  C=1000.0, gamma=31.622776601683793, kernel=rbf, score=0.667, total=   0.0s\n",
            "[CV] C=1000.0, gamma=31.622776601683793, kernel=rbf ..................\n",
            "[CV]  C=1000.0, gamma=31.622776601683793, kernel=rbf, score=0.667, total=   0.0s\n",
            "[CV] C=1000.0, gamma=31.622776601683793, kernel=rbf ..................\n",
            "[CV]  C=1000.0, gamma=31.622776601683793, kernel=rbf, score=0.643, total=   0.0s\n",
            "[CV] C=1000.0, gamma=31.622776601683793, kernel=rbf ..................\n",
            "[CV]  C=1000.0, gamma=31.622776601683793, kernel=rbf, score=0.643, total=   0.0s\n",
            "[CV] C=1000.0, gamma=31.622776601683793, kernel=rbf ..................\n",
            "[CV]  C=1000.0, gamma=31.622776601683793, kernel=rbf, score=0.714, total=   0.0s\n",
            "[CV] C=1000.0, gamma=31.622776601683793, kernel=sigmoid ..............\n",
            "[CV]  C=1000.0, gamma=31.622776601683793, kernel=sigmoid, score=0.533, total=   0.0s\n",
            "[CV] C=1000.0, gamma=31.622776601683793, kernel=sigmoid ..............\n",
            "[CV]  C=1000.0, gamma=31.622776601683793, kernel=sigmoid, score=0.800, total=   0.0s\n",
            "[CV] C=1000.0, gamma=31.622776601683793, kernel=sigmoid ..............\n",
            "[CV]  C=1000.0, gamma=31.622776601683793, kernel=sigmoid, score=0.643, total=   0.0s\n",
            "[CV] C=1000.0, gamma=31.622776601683793, kernel=sigmoid ..............\n",
            "[CV]  C=1000.0, gamma=31.622776601683793, kernel=sigmoid, score=0.643, total=   0.0s\n",
            "[CV] C=1000.0, gamma=31.622776601683793, kernel=sigmoid ..............\n",
            "[CV]  C=1000.0, gamma=31.622776601683793, kernel=sigmoid, score=0.857, total=   0.0s\n",
            "[CV] C=1000.0, gamma=1000.0, kernel=linear ...........................\n",
            "[CV]  C=1000.0, gamma=1000.0, kernel=linear, score=0.600, total=   0.0s\n",
            "[CV] C=1000.0, gamma=1000.0, kernel=linear ...........................\n",
            "[CV]  C=1000.0, gamma=1000.0, kernel=linear, score=0.733, total=   0.0s\n",
            "[CV] C=1000.0, gamma=1000.0, kernel=linear ...........................\n",
            "[CV]  C=1000.0, gamma=1000.0, kernel=linear, score=0.929, total=   0.0s\n",
            "[CV] C=1000.0, gamma=1000.0, kernel=linear ...........................\n",
            "[CV]  C=1000.0, gamma=1000.0, kernel=linear, score=0.786, total=   0.0s\n",
            "[CV] C=1000.0, gamma=1000.0, kernel=linear ...........................\n",
            "[CV]  C=1000.0, gamma=1000.0, kernel=linear, score=0.857, total=   0.0s\n",
            "[CV] C=1000.0, gamma=1000.0, kernel=rbf ..............................\n",
            "[CV] .. C=1000.0, gamma=1000.0, kernel=rbf, score=0.667, total=   0.0s\n",
            "[CV] C=1000.0, gamma=1000.0, kernel=rbf ..............................\n",
            "[CV] .. C=1000.0, gamma=1000.0, kernel=rbf, score=0.667, total=   0.0s\n",
            "[CV] C=1000.0, gamma=1000.0, kernel=rbf ..............................\n",
            "[CV] .. C=1000.0, gamma=1000.0, kernel=rbf, score=0.643, total=   0.0s\n",
            "[CV] C=1000.0, gamma=1000.0, kernel=rbf ..............................\n",
            "[CV] .. C=1000.0, gamma=1000.0, kernel=rbf, score=0.643, total=   0.0s\n",
            "[CV] C=1000.0, gamma=1000.0, kernel=rbf ..............................\n",
            "[CV] .. C=1000.0, gamma=1000.0, kernel=rbf, score=0.714, total=   0.0s\n",
            "[CV] C=1000.0, gamma=1000.0, kernel=poly .............................\n",
            "[CV] . C=1000.0, gamma=1000.0, kernel=poly, score=0.600, total=   0.0s\n",
            "[CV] C=1000.0, gamma=1000.0, kernel=poly .............................\n",
            "[CV] . C=1000.0, gamma=1000.0, kernel=poly, score=0.600, total=   0.0s\n",
            "[CV] C=1000.0, gamma=1000.0, kernel=poly .............................\n",
            "[CV] . C=1000.0, gamma=1000.0, kernel=poly, score=0.643, total=   0.0s\n",
            "[CV] C=1000.0, gamma=1000.0, kernel=poly .............................\n",
            "[CV] . C=1000.0, gamma=1000.0, kernel=poly, score=0.643, total=   0.0s\n",
            "[CV] C=1000.0, gamma=1000.0, kernel=poly .............................\n",
            "[CV] . C=1000.0, gamma=1000.0, kernel=poly, score=0.714, total=   0.0s\n",
            "[CV] C=1000.0, gamma=1000.0, kernel=rbf ..............................\n",
            "[CV] .. C=1000.0, gamma=1000.0, kernel=rbf, score=0.667, total=   0.0s\n",
            "[CV] C=1000.0, gamma=1000.0, kernel=rbf ..............................\n",
            "[CV] .. C=1000.0, gamma=1000.0, kernel=rbf, score=0.667, total=   0.0s\n",
            "[CV] C=1000.0, gamma=1000.0, kernel=rbf ..............................\n",
            "[CV] .. C=1000.0, gamma=1000.0, kernel=rbf, score=0.643, total=   0.0s\n",
            "[CV] C=1000.0, gamma=1000.0, kernel=rbf ..............................\n",
            "[CV] .. C=1000.0, gamma=1000.0, kernel=rbf, score=0.643, total=   0.0s\n",
            "[CV] C=1000.0, gamma=1000.0, kernel=rbf ..............................\n",
            "[CV] .. C=1000.0, gamma=1000.0, kernel=rbf, score=0.714, total=   0.0s\n",
            "[CV] C=1000.0, gamma=1000.0, kernel=sigmoid ..........................\n",
            "[CV]  C=1000.0, gamma=1000.0, kernel=sigmoid, score=0.667, total=   0.0s\n",
            "[CV] C=1000.0, gamma=1000.0, kernel=sigmoid ..........................\n",
            "[CV]  C=1000.0, gamma=1000.0, kernel=sigmoid, score=0.867, total=   0.0s\n",
            "[CV] C=1000.0, gamma=1000.0, kernel=sigmoid ..........................\n",
            "[CV]  C=1000.0, gamma=1000.0, kernel=sigmoid, score=0.714, total=   0.0s\n",
            "[CV] C=1000.0, gamma=1000.0, kernel=sigmoid ..........................\n",
            "[CV]  C=1000.0, gamma=1000.0, kernel=sigmoid, score=0.643, total=   0.0s\n",
            "[CV] C=1000.0, gamma=1000.0, kernel=sigmoid ..........................\n",
            "[CV]  C=1000.0, gamma=1000.0, kernel=sigmoid, score=0.857, total=   0.0s\n",
            "tuned hpyerparameters :(best parameters)  {'C': 0.03162277660168379, 'gamma': 0.001, 'kernel': 'linear'}\n",
            "accuracy : 0.8342857142857142\n"
          ]
        },
        {
          "output_type": "stream",
          "name": "stderr",
          "text": [
            "[Parallel(n_jobs=1)]: Done 625 out of 625 | elapsed:    2.1s finished\n"
          ]
        }
      ]
    },
    {
      "cell_type": "markdown",
      "metadata": {
        "id": "ta1kOESvkWmv"
      },
      "source": [
        "## TASK  7\n"
      ]
    },
    {
      "cell_type": "code",
      "metadata": {
        "colab": {
          "base_uri": "https://localhost:8080/"
        },
        "id": "s1DvEOItx4t1",
        "outputId": "c7aa64c9-af2c-4b0c-9448-1c4e066caa9c"
      },
      "source": [
        "svm_CV_predictions = svm_CV.predict(X_test)\n",
        "  \n",
        "# print classification report\n",
        "print(classification_report(Y_test, svm_CV_predictions))"
      ],
      "execution_count": 34,
      "outputs": [
        {
          "output_type": "stream",
          "name": "stdout",
          "text": [
            "              precision    recall  f1-score   support\n",
            "\n",
            "           0       1.00      0.50      0.67         6\n",
            "           1       0.80      1.00      0.89        12\n",
            "\n",
            "    accuracy                           0.83        18\n",
            "   macro avg       0.90      0.75      0.78        18\n",
            "weighted avg       0.87      0.83      0.81        18\n",
            "\n"
          ]
        }
      ]
    },
    {
      "cell_type": "markdown",
      "metadata": {
        "id": "FQmAIX4okWmv"
      },
      "source": [
        "Calculate the accuracy on the test data using the method <code>score</code>:\n"
      ]
    },
    {
      "cell_type": "code",
      "metadata": {
        "id": "O5_d05EFkWmv",
        "colab": {
          "base_uri": "https://localhost:8080/"
        },
        "outputId": "ab1670db-287a-4403-880b-354d85ae98e8"
      },
      "source": [
        "print(\"accuracy :\",svm_CV.best_score_)"
      ],
      "execution_count": 40,
      "outputs": [
        {
          "output_type": "stream",
          "name": "stdout",
          "text": [
            "accuracy : 0.8342857142857142\n"
          ]
        }
      ]
    },
    {
      "cell_type": "markdown",
      "metadata": {
        "id": "PqJv8MZHkWmw"
      },
      "source": [
        "We can plot the confusion matrix\n"
      ]
    },
    {
      "cell_type": "code",
      "metadata": {
        "id": "3sdepzqckWmw",
        "colab": {
          "base_uri": "https://localhost:8080/",
          "height": 295
        },
        "outputId": "46e415eb-2cf9-4617-8474-4d941aa92a1a"
      },
      "source": [
        "yhat=svm_CV.predict(X_test)\n",
        "plot_confusion_matrix(Y_test,yhat)"
      ],
      "execution_count": 42,
      "outputs": [
        {
          "output_type": "display_data",
          "data": {
            "image/png": "[encoded data removed]",
            "text/plain": [
              "<Figure size 432x288 with 2 Axes>"
            ]
          },
          "metadata": {
            "needs_background": "light"
          }
        }
      ]
    },
    {
      "cell_type": "markdown",
      "metadata": {
        "id": "yRvbtNRRkWmw"
      },
      "source": [
        "## TASK  8\n"
      ]
    },
    {
      "cell_type": "markdown",
      "metadata": {
        "id": "goueTfYnkWmw"
      },
      "source": [
        "Create a decision tree classifier object then  create a  <code>GridSearchCV</code> object  <code>tree_cv</code> with cv = 10.  Fit the object to find the best parameters from the dictionary <code>parameters</code>.\n"
      ]
    },
    {
      "cell_type": "code",
      "metadata": {
        "id": "BvLQXiK4kWmw"
      },
      "source": [
        "parameters = {'criterion': ['gini', 'entropy'],\n",
        "     'splitter': ['best', 'random'],\n",
        "     'max_depth': [2*n for n in range(1,10)],\n",
        "     'max_features': ['auto', 'sqrt'],\n",
        "     'min_samples_leaf': [1, 2, 4],\n",
        "     'min_samples_split': [2, 5, 10]}\n",
        "\n",
        "tree = DecisionTreeClassifier()"
      ],
      "execution_count": 51,
      "outputs": []
    },
    {
      "cell_type": "code",
      "metadata": {
        "id": "S-8_YAHGkWmx",
        "colab": {
          "base_uri": "https://localhost:8080/"
        },
        "outputId": "2fc40e9d-8724-4c96-d2a8-4da38959b125"
      },
      "source": [
        "tree.fit(X_train, Y_train)"
      ],
      "execution_count": 52,
      "outputs": [
        {
          "output_type": "execute_result",
          "data": {
            "text/plain": [
              "DecisionTreeClassifier(ccp_alpha=0.0, class_weight=None, criterion='gini',\n",
              "                       max_depth=None, max_features=None, max_leaf_nodes=None,\n",
              "                       min_impurity_decrease=0.0, min_impurity_split=None,\n",
              "                       min_samples_leaf=1, min_samples_split=2,\n",
              "                       min_weight_fraction_leaf=0.0, presort='deprecated',\n",
              "                       random_state=None, splitter='best')"
            ]
          },
          "metadata": {},
          "execution_count": 52
        }
      ]
    },
    {
      "cell_type": "code",
      "metadata": {
        "colab": {
          "base_uri": "https://localhost:8080/"
        },
        "id": "jYjWxz6u07hT",
        "outputId": "3cbcd854-2dcf-44fb-e211-f8d8b7bf2f55"
      },
      "source": [
        "scores = ['recall']\n",
        "for score in scores:\n",
        "    \n",
        "    print()\n",
        "    print(f\"Tuning hyperparameters for {score}\")\n",
        "    print()\n",
        "    \n",
        "    tree_cv = GridSearchCV(\n",
        "        tree, parameters,\n",
        "        scoring = f'{score}_macro'\n",
        "    )\n",
        "    tree_cv.fit(X_train, Y_train)\n",
        "    \n",
        "    print(\"Best parameters set found on development set:\")\n",
        "    print()\n",
        "    print(tree_cv.best_params_)\n",
        "    "
      ],
      "execution_count": 60,
      "outputs": [
        {
          "output_type": "stream",
          "name": "stdout",
          "text": [
            "\n",
            "Tuning hyperparameters for recall\n",
            "\n",
            "Best parameters set found on development set:\n",
            "\n",
            "{'criterion': 'entropy', 'max_depth': 6, 'max_features': 'sqrt', 'min_samples_leaf': 1, 'min_samples_split': 10, 'splitter': 'random'}\n"
          ]
        }
      ]
    },
    {
      "cell_type": "code",
      "metadata": {
        "id": "A-S66NLJkWmx",
        "colab": {
          "base_uri": "https://localhost:8080/"
        },
        "outputId": "447be344-4c80-41cd-f5b3-db07e5753cb1"
      },
      "source": [
        "print(\"tuned hpyerparameters :(best parameters) \",tree_cv.best_params_)\n",
        "print(\"accuracy :\",tree_cv.best_score_)"
      ],
      "execution_count": 56,
      "outputs": [
        {
          "output_type": "stream",
          "name": "stdout",
          "text": [
            "tuned hpyerparameters :(best parameters)  {'criterion': 'gini', 'max_depth': 14, 'max_features': 'sqrt', 'min_samples_leaf': 4, 'min_samples_split': 10, 'splitter': 'best'}\n",
            "accuracy : 0.8588888888888888\n"
          ]
        }
      ]
    },
    {
      "cell_type": "markdown",
      "metadata": {
        "id": "70YtDL7kkWmx"
      },
      "source": [
        "## TASK  9\n"
      ]
    },
    {
      "cell_type": "markdown",
      "metadata": {
        "id": "3dj22m3CkWmx"
      },
      "source": [
        "Calculate the accuracy of tree_cv on the test data using the method <code>score</code>:\n"
      ]
    },
    {
      "cell_type": "code",
      "metadata": {
        "id": "sC_kRDRHkWmy",
        "colab": {
          "base_uri": "https://localhost:8080/"
        },
        "outputId": "d51af65b-b4f3-4ad4-8dc9-6cbcd1aaf86a"
      },
      "source": [
        "yhat = tree.predict(X_test)\n",
        "from sklearn import metrics\n",
        "metrics.accuracy_score(Y_test, yhat)"
      ],
      "execution_count": 117,
      "outputs": [
        {
          "output_type": "execute_result",
          "data": {
            "text/plain": [
              "0.8333333333333334"
            ]
          },
          "metadata": {},
          "execution_count": 117
        }
      ]
    },
    {
      "cell_type": "markdown",
      "metadata": {
        "id": "FdqiFwajkWmy"
      },
      "source": [
        "We can plot the confusion matrix\n"
      ]
    },
    {
      "cell_type": "code",
      "metadata": {
        "id": "D30QpfJrkWmy",
        "colab": {
          "base_uri": "https://localhost:8080/",
          "height": 295
        },
        "outputId": "8083d449-5fb3-4f21-b64d-500110765811"
      },
      "source": [
        "yhat = tree_cv.predict(X_test)\n",
        "plot_confusion_matrix(Y_test,yhat)"
      ],
      "execution_count": 63,
      "outputs": [
        {
          "output_type": "display_data",
          "data": {
            "image/png": "[encoded data removed]",
            "text/plain": [
              "<Figure size 432x288 with 2 Axes>"
            ]
          },
          "metadata": {
            "needs_background": "light"
          }
        }
      ]
    },
    {
      "cell_type": "markdown",
      "metadata": {
        "id": "8tL-g6KmkWmy"
      },
      "source": [
        "## TASK  10\n"
      ]
    },
    {
      "cell_type": "markdown",
      "metadata": {
        "id": "1BQA9H-jkWmy"
      },
      "source": [
        "Create a k nearest neighbors object then  create a  <code>GridSearchCV</code> object  <code>knn_cv</code> with cv = 10.  Fit the object to find the best parameters from the dictionary <code>parameters</code>.\n"
      ]
    },
    {
      "cell_type": "code",
      "metadata": {
        "id": "TyGB64kwkWmz"
      },
      "source": [
        "parameters = {'n_neighbors': [1, 2, 3, 4, 5, 6, 7, 8, 9, 10],\n",
        "              'algorithm': ['auto', 'ball_tree', 'kd_tree', 'brute'],\n",
        "              'p': [1,2]}\n",
        "\n",
        "KNN = KNeighborsClassifier()"
      ],
      "execution_count": 64,
      "outputs": []
    },
    {
      "cell_type": "code",
      "metadata": {
        "id": "NKq69X5gkWmz",
        "colab": {
          "base_uri": "https://localhost:8080/"
        },
        "outputId": "f33aa12c-1e9d-4dbd-9fcc-128eef370c75"
      },
      "source": [
        "KNN.fit(X_train,Y_train)\n"
      ],
      "execution_count": 65,
      "outputs": [
        {
          "output_type": "execute_result",
          "data": {
            "text/plain": [
              "KNeighborsClassifier(algorithm='auto', leaf_size=30, metric='minkowski',\n",
              "                     metric_params=None, n_jobs=None, n_neighbors=5, p=2,\n",
              "                     weights='uniform')"
            ]
          },
          "metadata": {},
          "execution_count": 65
        }
      ]
    },
    {
      "cell_type": "code",
      "metadata": {
        "colab": {
          "base_uri": "https://localhost:8080/"
        },
        "id": "Ap6JHbVm5AHg",
        "outputId": "8f4a806a-bdfd-4dcf-cbdd-813f533d0f25"
      },
      "source": [
        "KNN.predict(X_test)[0:5]"
      ],
      "execution_count": 68,
      "outputs": [
        {
          "output_type": "execute_result",
          "data": {
            "text/plain": [
              "array([1, 1, 1, 1, 1])"
            ]
          },
          "metadata": {},
          "execution_count": 68
        }
      ]
    },
    {
      "cell_type": "code",
      "metadata": {
        "colab": {
          "base_uri": "https://localhost:8080/"
        },
        "id": "wk0qwb365AQd",
        "outputId": "94f2074d-d83d-476d-bd3d-30d9efcd6f29"
      },
      "source": [
        "KNN.score(X_test, Y_test)"
      ],
      "execution_count": 69,
      "outputs": [
        {
          "output_type": "execute_result",
          "data": {
            "text/plain": [
              "0.7777777777777778"
            ]
          },
          "metadata": {},
          "execution_count": 69
        }
      ]
    },
    {
      "cell_type": "code",
      "metadata": {
        "colab": {
          "base_uri": "https://localhost:8080/"
        },
        "id": "W--_Yz6h6aSi",
        "outputId": "a1085387-4e6c-40af-b7a0-40933265f28d"
      },
      "source": [
        "from sklearn.model_selection import GridSearchCV\n",
        "#create new a knn model\n",
        "knn2 = KNeighborsClassifier(n_neighbors=5)\n",
        "#create a dictionary of all values we want to test for n_neighbors\n",
        "param_grid = {'n_neighbors': [1, 2, 3, 4, 5, 6, 7, 8, 9, 10]}\n",
        "\n",
        "#param_grid = {\"n_neighbors1:\", np.arange(1, 10)}\n",
        "\n",
        "#use gridsearch to test all values for n_neighbors\n",
        "knn_cv = GridSearchCV(knn2, param_grid, cv=5)\n",
        "#fit model to data\n",
        "knn_cv.fit(X, Y)"
      ],
      "execution_count": 110,
      "outputs": [
        {
          "output_type": "execute_result",
          "data": {
            "text/plain": [
              "GridSearchCV(cv=5, error_score=nan,\n",
              "             estimator=KNeighborsClassifier(algorithm='auto', leaf_size=30,\n",
              "                                            metric='minkowski',\n",
              "                                            metric_params=None, n_jobs=None,\n",
              "                                            n_neighbors=5, p=2,\n",
              "                                            weights='uniform'),\n",
              "             iid='deprecated', n_jobs=None,\n",
              "             param_grid={'n_neighbors': [1, 2, 3, 4, 5, 6, 7, 8, 9, 10]},\n",
              "             pre_dispatch='2*n_jobs', refit=True, return_train_score=False,\n",
              "             scoring=None, verbose=0)"
            ]
          },
          "metadata": {},
          "execution_count": 110
        }
      ]
    },
    {
      "cell_type": "code",
      "metadata": {
        "colab": {
          "base_uri": "https://localhost:8080/"
        },
        "id": "xmcD-WNz_c4U",
        "outputId": "84964d3d-1387-43c4-989c-bd61866d3a30"
      },
      "source": [
        "#check top performing n_neighbors value\n",
        "knn_cv.best_params_"
      ],
      "execution_count": 111,
      "outputs": [
        {
          "output_type": "execute_result",
          "data": {
            "text/plain": [
              "{'n_neighbors': 5}"
            ]
          },
          "metadata": {},
          "execution_count": 111
        }
      ]
    },
    {
      "cell_type": "code",
      "metadata": {
        "id": "ahcIQ-aikWmz",
        "colab": {
          "base_uri": "https://localhost:8080/"
        },
        "outputId": "5f155884-3ee1-4d53-df5f-2f5cfb94a665"
      },
      "source": [
        "print(\"tuned hpyerparameters :(best parameters) \",knn_cv.best_params_)\n",
        "print(\"accuracy :\",knn_cv.best_score_)"
      ],
      "execution_count": 112,
      "outputs": [
        {
          "output_type": "stream",
          "name": "stdout",
          "text": [
            "tuned hpyerparameters :(best parameters)  {'n_neighbors': 5}\n",
            "accuracy : 0.7888888888888889\n"
          ]
        }
      ]
    },
    {
      "cell_type": "markdown",
      "metadata": {
        "id": "fqTzloXvkWm0"
      },
      "source": [
        "## TASK  11\n"
      ]
    },
    {
      "cell_type": "markdown",
      "metadata": {
        "id": "Fq6ifL4lkWm0"
      },
      "source": [
        "Calculate the accuracy of tree_cv on the test data using the method <code>score</code>:\n"
      ]
    },
    {
      "cell_type": "code",
      "metadata": {
        "id": "cSKFJy-8kWm0",
        "colab": {
          "base_uri": "https://localhost:8080/"
        },
        "outputId": "157da93b-653a-4cd2-eb71-f79ff767a3b4"
      },
      "source": [
        "print(\"knn cv  score :\", knn_cv.score(X_test, Y_test))"
      ],
      "execution_count": 118,
      "outputs": [
        {
          "output_type": "stream",
          "name": "stdout",
          "text": [
            "knn cv  score : 0.7777777777777778\n"
          ]
        }
      ]
    },
    {
      "cell_type": "markdown",
      "metadata": {
        "id": "Jg_d7QzPkWm0"
      },
      "source": [
        "We can plot the confusion matrix\n"
      ]
    },
    {
      "cell_type": "code",
      "metadata": {
        "id": "sqMawcyukWm0",
        "colab": {
          "base_uri": "https://localhost:8080/",
          "height": 295
        },
        "outputId": "419a418d-0ab9-432e-968b-867417bbf0d3"
      },
      "source": [
        "yhat = knn_cv.predict(X_test)\n",
        "plot_confusion_matrix(Y_test,yhat)"
      ],
      "execution_count": 119,
      "outputs": [
        {
          "output_type": "display_data",
          "data": {
            "image/png": "[encoded data removed]",
            "text/plain": [
              "<Figure size 432x288 with 2 Axes>"
            ]
          },
          "metadata": {
            "needs_background": "light"
          }
        }
      ]
    },
    {
      "cell_type": "markdown",
      "metadata": {
        "id": "llfLWiVgkWm0"
      },
      "source": [
        "## TASK  12\n"
      ]
    },
    {
      "cell_type": "markdown",
      "metadata": {
        "id": "yw3Zy29bkWm0"
      },
      "source": [
        "Find the method performs best:\n"
      ]
    },
    {
      "cell_type": "code",
      "metadata": {
        "id": "KjrcusI2kWm1"
      },
      "source": [
        "DecisionTreeClassifier performs best"
      ],
      "execution_count": null,
      "outputs": []
    },
    {
      "cell_type": "markdown",
      "metadata": {
        "id": "BInndcBykWm1"
      },
      "source": [
        "## Authors\n"
      ]
    },
    {
      "cell_type": "markdown",
      "metadata": {
        "id": "SiKH-9nJkWm1"
      },
      "source": [
        "<a href=\"https://www.linkedin.com/in/joseph-s-50398b136/?utm_medium=Exinfluencer&utm_source=Exinfluencer&utm_content=000026UJ&utm_term=10006555&utm_id=NA-SkillsNetwork-Channel-SkillsNetworkCoursesIBMDS0321ENSkillsNetwork26802033-2021-01-01\">Joseph Santarcangelo</a> has a PhD in Electrical Engineering, his research focused on using machine learning, signal processing, and computer vision to determine how videos impact human cognition. Joseph has been working for IBM since he completed his PhD.\n"
      ]
    },
    {
      "cell_type": "markdown",
      "metadata": {
        "id": "YYxVAa4tkWm1"
      },
      "source": [
        "## Change Log\n"
      ]
    },
    {
      "cell_type": "markdown",
      "metadata": {
        "id": "QjTCppRdkWm1"
      },
      "source": [
        "| Date (YYYY-MM-DD) | Version | Changed By | Change Description      |\n",
        "| ----------------- | ------- | ---------- | ----------------------- |\n",
        "| 2020-09-20        | 1.0     | Joseph     | Modified Multiple Areas |\n"
      ]
    },
    {
      "cell_type": "markdown",
      "metadata": {
        "id": "p8ejSSRskWm2"
      },
      "source": [
        "Copyright © 2020 IBM Corporation. All rights reserved.\n"
      ]
    }
  ]
}